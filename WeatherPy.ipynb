{
 "cells": [
  {
   "cell_type": "markdown",
   "metadata": {},
   "source": [
    "# WeatherPy\n",
    "----\n",
    "\n",
    "#### Note\n",
    "* Instructions have been included for each segment. You do not have to follow them exactly, but they are included to help you think through the steps."
   ]
  },
  {
   "cell_type": "code",
   "execution_count": null,
   "metadata": {
    "scrolled": true
   },
   "outputs": [],
   "source": [
    "# Dependencies and Setup\n",
    "import matplotlib.pyplot as plt\n",
    "import pandas as pd\n",
    "import numpy as np\n",
    "import requests\n",
    "import time\n",
    "import json\n",
    "import csv\n",
    "from scipy import stats\n",
    "from scipy.stats import linregress\n",
    "from datetime import date\n",
    "\n",
    "# Import API key\n",
    "from api_keys import weather_api_key\n",
    "\n",
    "# Incorporated citipy to determine city based on latitude and longitude\n",
    "from citipy import citipy\n",
    "\n",
    "# Output File (CSV)\n",
    "output_data_file = \"output_data/cities.csv\"\n",
    "\n",
    "# Range of latitudes and longitudes\n",
    "lat_range = (-90, 90)\n",
    "lng_range = (-180, 180)"
   ]
  },
  {
   "cell_type": "markdown",
   "metadata": {},
   "source": [
    "## Generate Cities List"
   ]
  },
  {
   "cell_type": "code",
   "execution_count": 2,
   "metadata": {},
   "outputs": [
    {
     "data": {
      "text/plain": [
       "634"
      ]
     },
     "execution_count": 2,
     "metadata": {},
     "output_type": "execute_result"
    }
   ],
   "source": [
    "# List for holding lat_lngs and cities\n",
    "lat_lngs = []\n",
    "cities = []\n",
    "\n",
    "# Create a set of random lat and lng combinations\n",
    "lats = np.random.uniform(lat_range[0], lat_range[1], size=1500)\n",
    "lngs = np.random.uniform(lng_range[0], lng_range[1], size=1500)\n",
    "lat_lngs = zip(lats, lngs)\n",
    "\n",
    "# Identify nearest city for each lat, lng combination\n",
    "for lat_lng in lat_lngs:\n",
    "    city = citipy.nearest_city(lat_lng[0], lat_lng[1]).city_name\n",
    "    \n",
    "    # If the city is unique, then add it to a our cities list\n",
    "    if city not in cities:\n",
    "        cities.append(city)\n",
    "\n",
    "#print(cities)\n",
    "        \n",
    "# Print the city count to confirm sufficient count\n",
    "len(cities)"
   ]
  },
  {
   "cell_type": "markdown",
   "metadata": {},
   "source": [
    "### Perform API Calls\n",
    "* Perform a weather check on each city using a series of successive API calls.\n",
    "* Include a print log of each city as it'sbeing processed (with the city number and city name).\n"
   ]
  },
  {
   "cell_type": "code",
   "execution_count": 3,
   "metadata": {},
   "outputs": [],
   "source": [
    "# save config information\n",
    "url = \"http://api.openweathermap.org/data/2.5/weather?\"\n",
    "units = \"imperial\"\n",
    "\n",
    "# build partial query URL\n",
    "query_url = f\"{url}appid={weather_api_key}&units={units}&q=\""
   ]
  },
  {
   "cell_type": "code",
   "execution_count": 4,
   "metadata": {
    "scrolled": false
   },
   "outputs": [
    {
     "name": "stdout",
     "output_type": "stream",
     "text": [
      "Processing Record 1 | The city name is hami\n",
      "Processing Record 2 | The city name is thompson\n",
      "Processing Record 3 | The city name is kalmar\n",
      "Processing Record 4 | The city name is victoria point\n",
      "Processing Record 5 | The city name is marawi\n",
      "Processing Record 6 | The city name is lasalgaon\n",
      "Processing Record 7 | The city name is maine-soroa\n",
      "Processing Record 8 | The city name is nome\n",
      "Processing Record 9 | The city name is te anau\n",
      "City not found: taolanaro  Skipping ...\n",
      "Processing Record 11 | The city name is kapaa\n",
      "Processing Record 12 | The city name is comodoro rivadavia\n",
      "Processing Record 13 | The city name is mokhsogollokh\n",
      "Processing Record 14 | The city name is saint anthony\n",
      "Processing Record 15 | The city name is ancud\n",
      "Processing Record 16 | The city name is cape town\n",
      "Processing Record 17 | The city name is don sak\n",
      "Processing Record 18 | The city name is hambantota\n",
      "Processing Record 19 | The city name is monte patria\n",
      "Processing Record 20 | The city name is sinnamary\n",
      "Processing Record 21 | The city name is busselton\n",
      "Processing Record 22 | The city name is bandundu\n",
      "Processing Record 23 | The city name is storforshei\n",
      "Processing Record 24 | The city name is castro\n",
      "Processing Record 25 | The city name is barrow\n",
      "Processing Record 26 | The city name is hermanus\n",
      "Processing Record 27 | The city name is chokurdakh\n",
      "Processing Record 28 | The city name is margate\n",
      "Processing Record 29 | The city name is sao joao da barra\n",
      "Processing Record 30 | The city name is bluff\n",
      "Processing Record 31 | The city name is yankton\n",
      "Processing Record 32 | The city name is dingle\n",
      "Processing Record 33 | The city name is new norfolk\n",
      "Processing Record 34 | The city name is hobart\n",
      "Processing Record 35 | The city name is ostrovnoy\n",
      "Processing Record 36 | The city name is saldanha\n",
      "Processing Record 37 | The city name is manzil salim\n",
      "Processing Record 38 | The city name is saint-philippe\n",
      "Processing Record 39 | The city name is havre-saint-pierre\n",
      "Processing Record 40 | The city name is khatanga\n",
      "Processing Record 41 | The city name is nogliki\n",
      "Processing Record 42 | The city name is shelburne\n",
      "Processing Record 43 | The city name is iquique\n",
      "Processing Record 44 | The city name is chara\n",
      "Processing Record 45 | The city name is kenai\n",
      "Processing Record 46 | The city name is imbituba\n",
      "Processing Record 47 | The city name is lebu\n",
      "Processing Record 48 | The city name is geraldton\n",
      "Processing Record 49 | The city name is saint-georges\n",
      "Processing Record 50 | The city name is hithadhoo\n",
      "Processing Record 51 | The city name is suntar\n",
      "Processing Record 52 | The city name is rikitea\n",
      "Processing Record 53 | The city name is hilo\n",
      "Processing Record 54 | The city name is banda aceh\n",
      "Processing Record 55 | The city name is beloha\n",
      "Processing Record 56 | The city name is arraial do cabo\n",
      "Processing Record 57 | The city name is abnub\n",
      "Processing Record 58 | The city name is vila\n",
      "Processing Record 59 | The city name is pevek\n",
      "Processing Record 60 | The city name is srednekolymsk\n",
      "Processing Record 61 | The city name is pindiga\n",
      "Processing Record 62 | The city name is contamana\n",
      "Processing Record 63 | The city name is kamenka\n",
      "Processing Record 64 | The city name is tasiilaq\n",
      "Processing Record 65 | The city name is fortuna\n",
      "Processing Record 66 | The city name is kaitangata\n",
      "Processing Record 67 | The city name is punta arenas\n",
      "City not found: nguiu  Skipping ...\n",
      "Processing Record 69 | The city name is kahului\n",
      "Processing Record 70 | The city name is ushuaia\n",
      "Processing Record 71 | The city name is nizhniy baskunchak\n",
      "Processing Record 72 | The city name is hofn\n",
      "Processing Record 73 | The city name is bambous virieux\n",
      "Processing Record 74 | The city name is lata\n",
      "Processing Record 75 | The city name is port alfred\n",
      "Processing Record 76 | The city name is nikolskoye\n",
      "Processing Record 77 | The city name is villanueva de la serena\n",
      "Processing Record 78 | The city name is esperance\n",
      "Processing Record 79 | The city name is itoman\n",
      "Processing Record 80 | The city name is narsaq\n",
      "Processing Record 81 | The city name is merauke\n",
      "Processing Record 82 | The city name is port lincoln\n",
      "Processing Record 83 | The city name is pangnirtung\n",
      "City not found: saleaula  Skipping ...\n",
      "City not found: nizhneyansk  Skipping ...\n",
      "Processing Record 86 | The city name is primorsk\n",
      "City not found: bajo baudo  Skipping ...\n",
      "Processing Record 88 | The city name is mayumba\n",
      "Processing Record 89 | The city name is kabompo\n",
      "Processing Record 90 | The city name is qaanaaq\n",
      "Processing Record 91 | The city name is mar del plata\n",
      "Processing Record 92 | The city name is coquimbo\n",
      "Processing Record 93 | The city name is upernavik\n",
      "Processing Record 94 | The city name is bengkulu\n",
      "Processing Record 95 | The city name is isiolo\n",
      "Processing Record 96 | The city name is chuy\n",
      "Processing Record 97 | The city name is harper\n",
      "Processing Record 98 | The city name is guider\n",
      "Processing Record 99 | The city name is ca mau\n",
      "City not found: vaitupu  Skipping ...\n",
      "Processing Record 101 | The city name is puerto colombia\n",
      "Processing Record 102 | The city name is sola\n",
      "Processing Record 103 | The city name is gebre guracha\n",
      "Processing Record 104 | The city name is saskylakh\n",
      "Processing Record 105 | The city name is rosarito\n",
      "Processing Record 106 | The city name is albany\n",
      "Processing Record 107 | The city name is tucuru\n",
      "City not found: kamenskoye  Skipping ...\n",
      "Processing Record 109 | The city name is nouadhibou\n",
      "Processing Record 110 | The city name is stornoway\n",
      "Processing Record 111 | The city name is fairbanks\n",
      "City not found: fevralsk  Skipping ...\n",
      "Processing Record 113 | The city name is do gonbadan\n",
      "Processing Record 114 | The city name is longyearbyen\n",
      "Processing Record 115 | The city name is brae\n",
      "Processing Record 116 | The city name is mataura\n",
      "City not found: amderma  Skipping ...\n",
      "Processing Record 118 | The city name is carnarvon\n",
      "Processing Record 119 | The city name is santa cruz\n",
      "Processing Record 120 | The city name is klaksvik\n",
      "City not found: tumannyy  Skipping ...\n",
      "Processing Record 122 | The city name is mareeba\n",
      "Processing Record 123 | The city name is avarua\n",
      "Processing Record 124 | The city name is cururupu\n",
      "Processing Record 125 | The city name is georgetown\n",
      "Processing Record 126 | The city name is bredasdorp\n",
      "Processing Record 127 | The city name is kamskiye polyany\n",
      "Processing Record 128 | The city name is gbarnga\n",
      "Processing Record 129 | The city name is zhigansk\n",
      "Processing Record 130 | The city name is bathsheba\n",
      "Processing Record 131 | The city name is tuktoyaktuk\n",
      "Processing Record 132 | The city name is karratha\n",
      "Processing Record 133 | The city name is kavieng\n",
      "Processing Record 134 | The city name is husavik\n",
      "Processing Record 135 | The city name is mitchell\n",
      "Processing Record 136 | The city name is tecpan\n",
      "Processing Record 137 | The city name is kununurra\n",
      "Processing Record 138 | The city name is pacifica\n",
      "Processing Record 139 | The city name is faanui\n",
      "Processing Record 140 | The city name is daru\n",
      "Processing Record 141 | The city name is yulara\n",
      "Processing Record 142 | The city name is provideniya\n",
      "Processing Record 143 | The city name is kodiak\n",
      "Processing Record 144 | The city name is namibe\n",
      "Processing Record 145 | The city name is vaini\n",
      "Processing Record 146 | The city name is atuona\n",
      "Processing Record 147 | The city name is sao felix do xingu\n",
      "Processing Record 148 | The city name is salinopolis\n",
      "Processing Record 149 | The city name is malinyi\n",
      "Processing Record 150 | The city name is palmas de monte alto\n",
      "Processing Record 151 | The city name is bahir dar\n",
      "Processing Record 152 | The city name is lawrenceburg\n",
      "Processing Record 153 | The city name is yellowknife\n",
      "Processing Record 154 | The city name is bilma\n",
      "Processing Record 155 | The city name is barcelos\n",
      "Processing Record 156 | The city name is ambilobe\n",
      "Processing Record 157 | The city name is mahebourg\n",
      "Processing Record 158 | The city name is gravelbourg\n",
      "Processing Record 159 | The city name is bambanglipuro\n",
      "City not found: samusu  Skipping ...\n",
      "Processing Record 161 | The city name is muisne\n",
      "Processing Record 162 | The city name is puerto ayora\n",
      "Processing Record 163 | The city name is seoul\n",
      "Processing Record 164 | The city name is petrozavodsk\n",
      "Processing Record 165 | The city name is meulaboh\n",
      "Processing Record 166 | The city name is kruisfontein\n",
      "Processing Record 167 | The city name is port elizabeth\n",
      "Processing Record 168 | The city name is quatre cocos\n"
     ]
    },
    {
     "name": "stdout",
     "output_type": "stream",
     "text": [
      "Processing Record 169 | The city name is tapes\n",
      "Processing Record 170 | The city name is caborca\n",
      "Processing Record 171 | The city name is alofi\n",
      "Processing Record 172 | The city name is rawson\n",
      "Processing Record 173 | The city name is san patricio\n",
      "Processing Record 174 | The city name is aldan\n",
      "Processing Record 175 | The city name is rio gallegos\n",
      "Processing Record 176 | The city name is fort-shevchenko\n",
      "Processing Record 177 | The city name is letychiv\n",
      "Processing Record 178 | The city name is jamestown\n",
      "Processing Record 179 | The city name is ribeira grande\n",
      "Processing Record 180 | The city name is liepaja\n",
      "Processing Record 181 | The city name is suez\n",
      "Processing Record 182 | The city name is insar\n",
      "Processing Record 183 | The city name is santa cruz cabralia\n",
      "Processing Record 184 | The city name is iqaluit\n",
      "Processing Record 185 | The city name is chapleau\n",
      "Processing Record 186 | The city name is frontera\n",
      "Processing Record 187 | The city name is key largo\n",
      "Processing Record 188 | The city name is avera\n",
      "Processing Record 189 | The city name is cabo san lucas\n",
      "Processing Record 190 | The city name is umm kaddadah\n",
      "Processing Record 191 | The city name is sitka\n",
      "Processing Record 192 | The city name is cayenne\n",
      "Processing Record 193 | The city name is yermolayevo\n",
      "Processing Record 194 | The city name is saint george\n",
      "Processing Record 195 | The city name is vanimo\n",
      "Processing Record 196 | The city name is qui nhon\n",
      "City not found: bengkalis  Skipping ...\n",
      "Processing Record 198 | The city name is makat\n",
      "Processing Record 199 | The city name is la baule-escoublac\n",
      "Processing Record 200 | The city name is gurupa\n",
      "Processing Record 201 | The city name is dalvik\n",
      "Processing Record 202 | The city name is asau\n",
      "Processing Record 203 | The city name is severo-kurilsk\n",
      "Processing Record 204 | The city name is ilulissat\n",
      "Processing Record 205 | The city name is axim\n",
      "Processing Record 206 | The city name is solwezi\n",
      "Processing Record 207 | The city name is paez\n",
      "Processing Record 208 | The city name is dikson\n",
      "Processing Record 209 | The city name is cherskiy\n",
      "Processing Record 210 | The city name is asasa\n",
      "Processing Record 211 | The city name is vagur\n",
      "Processing Record 212 | The city name is gao\n",
      "Processing Record 213 | The city name is los llanos de aridane\n",
      "Processing Record 214 | The city name is peleduy\n",
      "Processing Record 215 | The city name is deputatskiy\n",
      "Processing Record 216 | The city name is vila do maio\n",
      "Processing Record 217 | The city name is satuk\n",
      "Processing Record 218 | The city name is normandin\n",
      "Processing Record 219 | The city name is naze\n",
      "Processing Record 220 | The city name is kamachumu\n",
      "Processing Record 221 | The city name is kimbe\n",
      "Processing Record 222 | The city name is rosario do sul\n",
      "Processing Record 223 | The city name is urucara\n",
      "Processing Record 224 | The city name is la asuncion\n",
      "Processing Record 225 | The city name is balakhninskiy\n",
      "Processing Record 226 | The city name is wanaraja\n",
      "City not found: bacuit  Skipping ...\n",
      "Processing Record 228 | The city name is hamilton\n",
      "Processing Record 229 | The city name is sioux lookout\n",
      "Processing Record 230 | The city name is beyneu\n",
      "Processing Record 231 | The city name is ascension\n",
      "Processing Record 232 | The city name is gimli\n",
      "City not found: umzimvubu  Skipping ...\n",
      "Processing Record 234 | The city name is teknaf\n",
      "Processing Record 235 | The city name is kawalu\n",
      "Processing Record 236 | The city name is hirara\n",
      "Processing Record 237 | The city name is itaituba\n",
      "City not found: grand river south east  Skipping ...\n",
      "Processing Record 239 | The city name is butaritari\n",
      "Processing Record 240 | The city name is tazovskiy\n",
      "Processing Record 241 | The city name is udachnyy\n",
      "Processing Record 242 | The city name is martinsburg\n",
      "Processing Record 243 | The city name is ploemeur\n",
      "Processing Record 244 | The city name is erzin\n",
      "City not found: tsihombe  Skipping ...\n",
      "Processing Record 246 | The city name is mount gambier\n",
      "Processing Record 247 | The city name is sao jose da coroa grande\n",
      "Processing Record 248 | The city name is santiago del estero\n",
      "Processing Record 249 | The city name is kodinsk\n",
      "Processing Record 250 | The city name is jimenez\n",
      "Processing Record 251 | The city name is kasane\n",
      "Processing Record 252 | The city name is forest acres\n",
      "Processing Record 253 | The city name is manadhoo\n",
      "Processing Record 254 | The city name is challans\n",
      "Processing Record 255 | The city name is mallaig\n",
      "Processing Record 256 | The city name is junin\n",
      "Processing Record 257 | The city name is tiksi\n",
      "Processing Record 258 | The city name is maniitsoq\n",
      "Processing Record 259 | The city name is bandarbeyla\n",
      "Processing Record 260 | The city name is kirkwood\n",
      "Processing Record 261 | The city name is bima\n",
      "Processing Record 262 | The city name is natchitoches\n",
      "Processing Record 263 | The city name is villamartin\n",
      "Processing Record 264 | The city name is staryy nadym\n",
      "Processing Record 265 | The city name is alta floresta\n",
      "Processing Record 266 | The city name is baykit\n",
      "Processing Record 267 | The city name is faya\n",
      "Processing Record 268 | The city name is bethel\n",
      "Processing Record 269 | The city name is sorkjosen\n",
      "City not found: belushya guba  Skipping ...\n",
      "Processing Record 271 | The city name is kudahuvadhoo\n",
      "Processing Record 272 | The city name is langsa\n",
      "Processing Record 273 | The city name is cukai\n",
      "Processing Record 274 | The city name is matara\n",
      "Processing Record 275 | The city name is araouane\n",
      "Processing Record 276 | The city name is vysotsk\n",
      "City not found: illoqqortoormiut  Skipping ...\n",
      "Processing Record 278 | The city name is presidencia roque saenz pena\n",
      "Processing Record 279 | The city name is ixtapa\n",
      "Processing Record 280 | The city name is aguimes\n",
      "Processing Record 281 | The city name is east london\n",
      "Processing Record 282 | The city name is misratah\n",
      "Processing Record 283 | The city name is nanchang\n",
      "Processing Record 284 | The city name is yeppoon\n",
      "Processing Record 285 | The city name is touros\n",
      "Processing Record 286 | The city name is antalaha\n",
      "Processing Record 287 | The city name is soderhamn\n",
      "Processing Record 288 | The city name is ewa beach\n",
      "Processing Record 289 | The city name is chakrata\n",
      "Processing Record 290 | The city name is ourem\n",
      "Processing Record 291 | The city name is quelimane\n",
      "Processing Record 292 | The city name is hjelset\n",
      "Processing Record 293 | The city name is qaqortoq\n",
      "Processing Record 294 | The city name is nelson bay\n",
      "Processing Record 295 | The city name is carauari\n",
      "Processing Record 296 | The city name is ulaangom\n",
      "Processing Record 297 | The city name is koumac\n",
      "Processing Record 298 | The city name is vuktyl\n",
      "Processing Record 299 | The city name is victoria\n",
      "Processing Record 300 | The city name is wloclawek\n",
      "Processing Record 301 | The city name is haines junction\n",
      "City not found: bolungarvik  Skipping ...\n",
      "Processing Record 303 | The city name is roma\n",
      "Processing Record 304 | The city name is kozan\n",
      "Processing Record 305 | The city name is gumdag\n",
      "City not found: bina-etawa  Skipping ...\n",
      "Processing Record 307 | The city name is usinsk\n",
      "City not found: barentsburg  Skipping ...\n",
      "Processing Record 309 | The city name is vestmannaeyjar\n",
      "Processing Record 310 | The city name is krasnoselkup\n",
      "Processing Record 311 | The city name is sao miguel do araguaia\n",
      "Processing Record 312 | The city name is lengshuitan\n",
      "Processing Record 313 | The city name is torbay\n",
      "Processing Record 314 | The city name is narrabri\n",
      "Processing Record 315 | The city name is mocuba\n",
      "Processing Record 316 | The city name is truth or consequences\n",
      "City not found: mys shmidta  Skipping ...\n",
      "Processing Record 318 | The city name is tilichiki\n",
      "Processing Record 319 | The city name is changping\n",
      "Processing Record 320 | The city name is mogeiro\n",
      "Processing Record 321 | The city name is ponta do sol\n",
      "Processing Record 322 | The city name is cap malheureux\n",
      "Processing Record 323 | The city name is tabou\n",
      "Processing Record 324 | The city name is shache\n",
      "Processing Record 325 | The city name is mecca\n",
      "Processing Record 326 | The city name is digby\n",
      "Processing Record 327 | The city name is red bluff\n",
      "Processing Record 328 | The city name is saint-leu\n",
      "Processing Record 329 | The city name is pacific grove\n",
      "Processing Record 330 | The city name is mount isa\n",
      "Processing Record 331 | The city name is khorixas\n",
      "Processing Record 332 | The city name is kyshtovka\n"
     ]
    },
    {
     "name": "stdout",
     "output_type": "stream",
     "text": [
      "Processing Record 333 | The city name is hay river\n",
      "Processing Record 334 | The city name is koslan\n",
      "Processing Record 335 | The city name is beaufort\n",
      "Processing Record 336 | The city name is rundu\n",
      "Processing Record 337 | The city name is broadstairs\n",
      "Processing Record 338 | The city name is cienfuegos\n",
      "Processing Record 339 | The city name is lagoa\n",
      "Processing Record 340 | The city name is rumoi\n",
      "Processing Record 341 | The city name is tual\n",
      "Processing Record 342 | The city name is datong\n",
      "Processing Record 343 | The city name is nadym\n",
      "Processing Record 344 | The city name is leningradskiy\n",
      "Processing Record 345 | The city name is arman\n",
      "Processing Record 346 | The city name is galesong\n",
      "Processing Record 347 | The city name is noshiro\n",
      "Processing Record 348 | The city name is idritsa\n",
      "City not found: berdyuzhye  Skipping ...\n",
      "Processing Record 350 | The city name is brooks\n",
      "Processing Record 351 | The city name is portland\n",
      "Processing Record 352 | The city name is port hardy\n",
      "Processing Record 353 | The city name is mackenzie\n",
      "Processing Record 354 | The city name is dusti\n",
      "Processing Record 355 | The city name is gobabis\n",
      "Processing Record 356 | The city name is portage\n",
      "Processing Record 357 | The city name is xiongyue\n",
      "Processing Record 358 | The city name is necochea\n",
      "Processing Record 359 | The city name is sur\n",
      "Processing Record 360 | The city name is ahuimanu\n",
      "Processing Record 361 | The city name is athabasca\n",
      "Processing Record 362 | The city name is laguna\n",
      "Processing Record 363 | The city name is rio tuba\n",
      "Processing Record 364 | The city name is zeya\n",
      "Processing Record 365 | The city name is muborak\n",
      "Processing Record 366 | The city name is salalah\n",
      "Processing Record 367 | The city name is nabire\n",
      "Processing Record 368 | The city name is kiunga\n",
      "Processing Record 369 | The city name is kamariotissa\n",
      "Processing Record 370 | The city name is scottsbluff\n",
      "Processing Record 371 | The city name is moroni\n",
      "Processing Record 372 | The city name is tonk\n",
      "Processing Record 373 | The city name is souillac\n",
      "Processing Record 374 | The city name is nyaunglebin\n",
      "Processing Record 375 | The city name is benghazi\n",
      "Processing Record 376 | The city name is casma\n",
      "City not found: satitoa  Skipping ...\n",
      "Processing Record 378 | The city name is paciran\n",
      "Processing Record 379 | The city name is solnechnyy\n",
      "Processing Record 380 | The city name is mehamn\n",
      "City not found: dolbeau  Skipping ...\n",
      "Processing Record 382 | The city name is norman wells\n",
      "Processing Record 383 | The city name is grindavik\n",
      "Processing Record 384 | The city name is honiara\n",
      "Processing Record 385 | The city name is vao\n",
      "Processing Record 386 | The city name is jizan\n",
      "Processing Record 387 | The city name is collie\n",
      "City not found: karamea  Skipping ...\n",
      "Processing Record 389 | The city name is eyl\n",
      "Processing Record 390 | The city name is cockburn town\n",
      "Processing Record 391 | The city name is yamada\n",
      "Processing Record 392 | The city name is high rock\n",
      "Processing Record 393 | The city name is ouesso\n",
      "Processing Record 394 | The city name is atar\n",
      "Processing Record 395 | The city name is nikki\n",
      "Processing Record 396 | The city name is paamiut\n",
      "Processing Record 397 | The city name is huarmey\n",
      "Processing Record 398 | The city name is kirkuk\n",
      "Processing Record 399 | The city name is atambua\n",
      "Processing Record 400 | The city name is priiskovyy\n",
      "Processing Record 401 | The city name is kashi\n",
      "Processing Record 402 | The city name is ribeira do pombal\n",
      "Processing Record 403 | The city name is san quintin\n",
      "Processing Record 404 | The city name is cheney\n",
      "Processing Record 405 | The city name is umm lajj\n",
      "Processing Record 406 | The city name is byron bay\n",
      "Processing Record 407 | The city name is mogadishu\n",
      "Processing Record 408 | The city name is cody\n",
      "Processing Record 409 | The city name is esmeralda\n",
      "Processing Record 410 | The city name is tessalit\n",
      "Processing Record 411 | The city name is sabang\n",
      "Processing Record 412 | The city name is dukat\n",
      "Processing Record 413 | The city name is dauphin\n",
      "Processing Record 414 | The city name is sahuaripa\n",
      "City not found: tabialan  Skipping ...\n",
      "Processing Record 416 | The city name is pimentel\n",
      "Processing Record 417 | The city name is tall kayf\n",
      "Processing Record 418 | The city name is hegang\n",
      "Processing Record 419 | The city name is walvis bay\n",
      "Processing Record 420 | The city name is cidreira\n",
      "Processing Record 421 | The city name is urucui\n",
      "Processing Record 422 | The city name is kondopoga\n",
      "Processing Record 423 | The city name is kautokeino\n",
      "Processing Record 424 | The city name is kolokani\n",
      "City not found: saleilua  Skipping ...\n",
      "Processing Record 426 | The city name is awash\n",
      "City not found: phan rang  Skipping ...\n",
      "Processing Record 428 | The city name is lasa\n",
      "Processing Record 429 | The city name is puerto del rosario\n",
      "Processing Record 430 | The city name is gornopravdinsk\n",
      "City not found: sentyabrskiy  Skipping ...\n",
      "Processing Record 432 | The city name is palanga\n",
      "Processing Record 433 | The city name is pilar\n",
      "City not found: skalistyy  Skipping ...\n",
      "Processing Record 435 | The city name is biak\n",
      "Processing Record 436 | The city name is torbat-e jam\n",
      "Processing Record 437 | The city name is rio verde de mato grosso\n",
      "Processing Record 438 | The city name is kapra\n",
      "Processing Record 439 | The city name is san carlos de bariloche\n",
      "Processing Record 440 | The city name is ajdabiya\n",
      "Processing Record 441 | The city name is dobson\n",
      "Processing Record 442 | The city name is codrington\n",
      "Processing Record 443 | The city name is cortez\n",
      "Processing Record 444 | The city name is iskateley\n",
      "Processing Record 445 | The city name is san joaquin\n",
      "Processing Record 446 | The city name is rudnogorsk\n",
      "Processing Record 447 | The city name is manzhouli\n",
      "Processing Record 448 | The city name is turayf\n",
      "Processing Record 449 | The city name is onega\n",
      "Processing Record 450 | The city name is pisco\n",
      "Processing Record 451 | The city name is tura\n",
      "Processing Record 452 | The city name is half moon bay\n",
      "Processing Record 453 | The city name is constitucion\n",
      "Processing Record 454 | The city name is la union\n",
      "Processing Record 455 | The city name is almenara\n",
      "City not found: gangotri  Skipping ...\n",
      "Processing Record 457 | The city name is taoudenni\n",
      "Processing Record 458 | The city name is richards bay\n",
      "Processing Record 459 | The city name is solnechnoye\n",
      "Processing Record 460 | The city name is havelock\n",
      "Processing Record 461 | The city name is anadyr\n",
      "Processing Record 462 | The city name is bahia honda\n",
      "Processing Record 463 | The city name is kaka\n",
      "Processing Record 464 | The city name is airai\n",
      "Processing Record 465 | The city name is lavrentiya\n",
      "Processing Record 466 | The city name is alekseyevskaya\n",
      "Processing Record 467 | The city name is yatou\n",
      "Processing Record 468 | The city name is zemio\n",
      "Processing Record 469 | The city name is skibbereen\n",
      "Processing Record 470 | The city name is gizo\n",
      "Processing Record 471 | The city name is goderich\n",
      "Processing Record 472 | The city name is zhuhai\n",
      "Processing Record 473 | The city name is coihaique\n",
      "Processing Record 474 | The city name is turbat\n",
      "Processing Record 475 | The city name is graaff-reinet\n",
      "Processing Record 476 | The city name is gondanglegi\n",
      "Processing Record 477 | The city name is maykor\n",
      "Processing Record 478 | The city name is lubao\n",
      "Processing Record 479 | The city name is vrangel\n",
      "Processing Record 480 | The city name is abu zabad\n",
      "Processing Record 481 | The city name is komsomolskiy\n",
      "Processing Record 482 | The city name is trairi\n",
      "Processing Record 483 | The city name is buncrana\n",
      "Processing Record 484 | The city name is flinders\n",
      "Processing Record 485 | The city name is chaman\n",
      "Processing Record 486 | The city name is fukue\n",
      "Processing Record 487 | The city name is oranjestad\n",
      "Processing Record 488 | The city name is saint-pierre\n",
      "Processing Record 489 | The city name is muros\n",
      "Processing Record 490 | The city name is corn island\n",
      "City not found: louisbourg  Skipping ...\n",
      "Processing Record 492 | The city name is raga\n",
      "Processing Record 493 | The city name is north bend\n",
      "Processing Record 494 | The city name is maceio\n",
      "Processing Record 495 | The city name is leshukonskoye\n",
      "Processing Record 496 | The city name is talnakh\n",
      "Processing Record 497 | The city name is okhansk\n",
      "Processing Record 498 | The city name is tucano\n",
      "Processing Record 499 | The city name is halifax\n"
     ]
    },
    {
     "name": "stdout",
     "output_type": "stream",
     "text": [
      "Processing Record 500 | The city name is abu samrah\n",
      "Processing Record 501 | The city name is bangkal\n",
      "Processing Record 502 | The city name is surt\n",
      "Processing Record 503 | The city name is ust-koksa\n",
      "Processing Record 504 | The city name is zyryanka\n",
      "Processing Record 505 | The city name is toora-khem\n",
      "Processing Record 506 | The city name is tuatapere\n",
      "Processing Record 507 | The city name is cowra\n",
      "Processing Record 508 | The city name is bilibino\n",
      "Processing Record 509 | The city name is podlesnoye\n",
      "Processing Record 510 | The city name is bubaque\n",
      "Processing Record 511 | The city name is hornepayne\n",
      "Processing Record 512 | The city name is craig\n",
      "Processing Record 513 | The city name is sarangani\n",
      "Processing Record 514 | The city name is jacareacanga\n",
      "Processing Record 515 | The city name is coolum beach\n",
      "Processing Record 516 | The city name is ejido\n",
      "Processing Record 517 | The city name is maltahohe\n",
      "Processing Record 518 | The city name is vardo\n",
      "Processing Record 519 | The city name is wadi maliz\n",
      "City not found: himora  Skipping ...\n",
      "Processing Record 521 | The city name is glendive\n",
      "Processing Record 522 | The city name is saint-junien\n",
      "Processing Record 523 | The city name is guayaramerin\n",
      "Processing Record 524 | The city name is kavaratti\n",
      "Processing Record 525 | The city name is huilong\n",
      "Processing Record 526 | The city name is fort nelson\n",
      "Processing Record 527 | The city name is tolaga bay\n",
      "Processing Record 528 | The city name is samarkand\n",
      "Processing Record 529 | The city name is chilca\n",
      "Processing Record 530 | The city name is yanggu\n",
      "Processing Record 531 | The city name is asyut\n",
      "Processing Record 532 | The city name is bara\n",
      "Processing Record 533 | The city name is porto seguro\n",
      "Processing Record 534 | The city name is south sioux city\n",
      "City not found: tiruvottiyur  Skipping ...\n",
      "Processing Record 536 | The city name is innisfail\n",
      "Processing Record 537 | The city name is korla\n",
      "Processing Record 538 | The city name is port hawkesbury\n",
      "Processing Record 539 | The city name is gat\n",
      "Processing Record 540 | The city name is skibotn\n",
      "Processing Record 541 | The city name is lodja\n",
      "Processing Record 542 | The city name is reconquista\n",
      "Processing Record 543 | The city name is sisimiut\n",
      "City not found: attawapiskat  Skipping ...\n",
      "Processing Record 545 | The city name is baton rouge\n",
      "Processing Record 546 | The city name is ust-omchug\n",
      "Processing Record 547 | The city name is guadalupe y calvo\n",
      "Processing Record 548 | The city name is isla mujeres\n",
      "Processing Record 549 | The city name is marsh harbour\n",
      "Processing Record 550 | The city name is tabas\n",
      "Processing Record 551 | The city name is karla\n",
      "Processing Record 552 | The city name is domoni\n",
      "Processing Record 553 | The city name is kuala terengganu\n",
      "Processing Record 554 | The city name is batemans bay\n",
      "Processing Record 555 | The city name is pontianak\n",
      "Processing Record 556 | The city name is kathmandu\n",
      "Processing Record 557 | The city name is lydenburg\n",
      "Processing Record 558 | The city name is shubarkuduk\n",
      "Processing Record 559 | The city name is lufilufi\n",
      "City not found: halalo  Skipping ...\n",
      "City not found: bodoco  Skipping ...\n",
      "Processing Record 562 | The city name is vulcan\n",
      "Processing Record 563 | The city name is tulungagung\n",
      "Processing Record 564 | The city name is sao paulo de olivenca\n",
      "Processing Record 565 | The city name is havoysund\n",
      "Processing Record 566 | The city name is manono\n",
      "Processing Record 567 | The city name is nara\n",
      "Processing Record 568 | The city name is port moresby\n",
      "City not found: bargal  Skipping ...\n",
      "Processing Record 570 | The city name is aksarka\n",
      "Processing Record 571 | The city name is jambi\n",
      "Processing Record 572 | The city name is nalut\n",
      "Processing Record 573 | The city name is novo aripuana\n",
      "Processing Record 574 | The city name is chibuto\n",
      "Processing Record 575 | The city name is boyolangu\n",
      "Processing Record 576 | The city name is mandali\n",
      "Processing Record 577 | The city name is khandyga\n",
      "Processing Record 578 | The city name is kabo\n",
      "Processing Record 579 | The city name is jumla\n",
      "Processing Record 580 | The city name is turkistan\n",
      "Processing Record 581 | The city name is katsuura\n",
      "Processing Record 582 | The city name is japura\n",
      "Processing Record 583 | The city name is kuppam\n",
      "City not found: armacao dos buzios  Skipping ...\n",
      "Processing Record 585 | The city name is tevaitoa\n",
      "Processing Record 586 | The city name is hasaki\n",
      "Processing Record 587 | The city name is tucurui\n",
      "Processing Record 588 | The city name is mirabad\n",
      "Processing Record 589 | The city name is sabha\n",
      "Processing Record 590 | The city name is upata\n",
      "Processing Record 591 | The city name is yumen\n",
      "Processing Record 592 | The city name is arauco\n",
      "Processing Record 593 | The city name is baran\n",
      "Processing Record 594 | The city name is andenes\n",
      "Processing Record 595 | The city name is bone\n",
      "Processing Record 596 | The city name is guanica\n",
      "Processing Record 597 | The city name is kontagora\n",
      "Processing Record 598 | The city name is sandnessjoen\n",
      "Processing Record 599 | The city name is linda\n",
      "Processing Record 600 | The city name is jacmel\n",
      "Processing Record 601 | The city name is price\n",
      "Processing Record 602 | The city name is aktash\n",
      "Processing Record 603 | The city name is vila velha\n",
      "Processing Record 604 | The city name is bang yai\n",
      "City not found: yomitan  Skipping ...\n",
      "Processing Record 606 | The city name is chapais\n",
      "Processing Record 607 | The city name is san policarpo\n",
      "Processing Record 608 | The city name is the valley\n",
      "Processing Record 609 | The city name is nakusp\n",
      "Processing Record 610 | The city name is maracaibo\n",
      "City not found: tabiauea  Skipping ...\n",
      "Processing Record 612 | The city name is guaira\n",
      "Processing Record 613 | The city name is shenjiamen\n",
      "City not found: warqla  Skipping ...\n",
      "Processing Record 615 | The city name is tangjiazhuang\n",
      "Processing Record 616 | The city name is ballina\n",
      "Processing Record 617 | The city name is luderitz\n",
      "Processing Record 618 | The city name is hailar\n",
      "Processing Record 619 | The city name is prince albert\n",
      "Processing Record 620 | The city name is tautira\n",
      "Processing Record 621 | The city name is tanda\n",
      "Processing Record 622 | The city name is nanortalik\n",
      "Processing Record 623 | The city name is nishihara\n",
      "Processing Record 624 | The city name is fiche\n",
      "Processing Record 625 | The city name is karakol\n",
      "Processing Record 626 | The city name is verkhnyaya balkariya\n",
      "Processing Record 627 | The city name is batagay-alyta\n",
      "Processing Record 628 | The city name is columbus\n",
      "Processing Record 629 | The city name is san cristobal\n",
      "Processing Record 630 | The city name is asfi\n",
      "Processing Record 631 | The city name is brive-la-gaillarde\n",
      "Processing Record 632 | The city name is dingli\n",
      "Processing Record 633 | The city name is sao filipe\n",
      "Processing Record 634 | The city name is pag\n"
     ]
    }
   ],
   "source": [
    "# create list to hold data\n",
    "name = []\n",
    "lat = []\n",
    "lon = []\n",
    "temp_max = []\n",
    "humidity = []\n",
    "clouds = []\n",
    "speed = []\n",
    "country = []\n",
    "dt = []\n",
    "\n",
    "counter = 0\n",
    "\n",
    "# loop through cities to get weather data\n",
    "for city in cities:\n",
    "    \n",
    "    counter += 1\n",
    "    \n",
    "    try:   \n",
    "        # get weather data\n",
    "        response = requests.get(query_url + city).json()\n",
    "        name.append(response['name'])\n",
    "        lat.append(response['coord']['lat'])\n",
    "        lon.append(response['coord']['lon'])\n",
    "        temp_max.append(response['main']['temp_max'])\n",
    "        humidity.append(response['main']['humidity'])\n",
    "        clouds.append(response['clouds']['all'])\n",
    "        speed.append(response['wind']['speed'])\n",
    "        country.append(response['sys']['country'])\n",
    "        dt.append(response['dt'])\n",
    "        \n",
    "        print(f\"Processing Record {counter} | The city name is {city}\")\n",
    "    \n",
    "    except:\n",
    "        print(f\"City not found: {city}  Skipping ...\")"
   ]
  },
  {
   "cell_type": "markdown",
   "metadata": {},
   "source": [
    "### Convert Raw Data to DataFrame\n",
    "* Export the city data into a .csv.\n",
    "* Display the DataFrame"
   ]
  },
  {
   "cell_type": "code",
   "execution_count": 5,
   "metadata": {},
   "outputs": [],
   "source": [
    "# create a dictionary from lists\n",
    "weather_dict = {\"City\":name,\n",
    "                \"Lat\":lat,\n",
    "                \"Lng\":lon,\n",
    "                \"Max_Temp\":temp_max,\n",
    "                \"Humidity\":humidity,\n",
    "                \"Cloudiness\":clouds,\n",
    "                \"Wind_Speed\":speed,\n",
    "                \"Country\":country,\n",
    "                \"Date\":dt}"
   ]
  },
  {
   "cell_type": "code",
   "execution_count": 6,
   "metadata": {},
   "outputs": [
    {
     "data": {
      "text/html": [
       "<div>\n",
       "<style scoped>\n",
       "    .dataframe tbody tr th:only-of-type {\n",
       "        vertical-align: middle;\n",
       "    }\n",
       "\n",
       "    .dataframe tbody tr th {\n",
       "        vertical-align: top;\n",
       "    }\n",
       "\n",
       "    .dataframe thead th {\n",
       "        text-align: right;\n",
       "    }\n",
       "</style>\n",
       "<table border=\"1\" class=\"dataframe\">\n",
       "  <thead>\n",
       "    <tr style=\"text-align: right;\">\n",
       "      <th></th>\n",
       "      <th>City</th>\n",
       "      <th>Lat</th>\n",
       "      <th>Lng</th>\n",
       "      <th>Max_Temp</th>\n",
       "      <th>Humidity</th>\n",
       "      <th>Cloudiness</th>\n",
       "      <th>Wind_Speed</th>\n",
       "      <th>Country</th>\n",
       "      <th>Date</th>\n",
       "    </tr>\n",
       "  </thead>\n",
       "  <tbody>\n",
       "    <tr>\n",
       "      <th>0</th>\n",
       "      <td>Kumul</td>\n",
       "      <td>42.80</td>\n",
       "      <td>93.45</td>\n",
       "      <td>79.11</td>\n",
       "      <td>30</td>\n",
       "      <td>0</td>\n",
       "      <td>10.80</td>\n",
       "      <td>CN</td>\n",
       "      <td>1595953854</td>\n",
       "    </tr>\n",
       "    <tr>\n",
       "      <th>1</th>\n",
       "      <td>Thompson</td>\n",
       "      <td>55.74</td>\n",
       "      <td>-97.86</td>\n",
       "      <td>60.80</td>\n",
       "      <td>87</td>\n",
       "      <td>90</td>\n",
       "      <td>5.82</td>\n",
       "      <td>CA</td>\n",
       "      <td>1595953746</td>\n",
       "    </tr>\n",
       "    <tr>\n",
       "      <th>2</th>\n",
       "      <td>Kalmar</td>\n",
       "      <td>56.66</td>\n",
       "      <td>16.36</td>\n",
       "      <td>69.80</td>\n",
       "      <td>77</td>\n",
       "      <td>77</td>\n",
       "      <td>5.82</td>\n",
       "      <td>SE</td>\n",
       "      <td>1595953858</td>\n",
       "    </tr>\n",
       "    <tr>\n",
       "      <th>3</th>\n",
       "      <td>Victoria Point</td>\n",
       "      <td>-27.58</td>\n",
       "      <td>153.30</td>\n",
       "      <td>55.00</td>\n",
       "      <td>62</td>\n",
       "      <td>0</td>\n",
       "      <td>4.00</td>\n",
       "      <td>AU</td>\n",
       "      <td>1595953858</td>\n",
       "    </tr>\n",
       "    <tr>\n",
       "      <th>4</th>\n",
       "      <td>Marawi</td>\n",
       "      <td>8.00</td>\n",
       "      <td>124.29</td>\n",
       "      <td>73.99</td>\n",
       "      <td>92</td>\n",
       "      <td>100</td>\n",
       "      <td>7.00</td>\n",
       "      <td>PH</td>\n",
       "      <td>1595953858</td>\n",
       "    </tr>\n",
       "    <tr>\n",
       "      <th>...</th>\n",
       "      <td>...</td>\n",
       "      <td>...</td>\n",
       "      <td>...</td>\n",
       "      <td>...</td>\n",
       "      <td>...</td>\n",
       "      <td>...</td>\n",
       "      <td>...</td>\n",
       "      <td>...</td>\n",
       "      <td>...</td>\n",
       "    </tr>\n",
       "    <tr>\n",
       "      <th>586</th>\n",
       "      <td>Safi</td>\n",
       "      <td>32.30</td>\n",
       "      <td>-9.24</td>\n",
       "      <td>76.03</td>\n",
       "      <td>72</td>\n",
       "      <td>0</td>\n",
       "      <td>19.75</td>\n",
       "      <td>MA</td>\n",
       "      <td>1595953779</td>\n",
       "    </tr>\n",
       "    <tr>\n",
       "      <th>587</th>\n",
       "      <td>Arrondissement de Brive-la-Gaillarde</td>\n",
       "      <td>45.25</td>\n",
       "      <td>1.50</td>\n",
       "      <td>81.00</td>\n",
       "      <td>74</td>\n",
       "      <td>73</td>\n",
       "      <td>1.99</td>\n",
       "      <td>FR</td>\n",
       "      <td>1595953936</td>\n",
       "    </tr>\n",
       "    <tr>\n",
       "      <th>588</th>\n",
       "      <td>Dingli</td>\n",
       "      <td>35.86</td>\n",
       "      <td>14.38</td>\n",
       "      <td>87.80</td>\n",
       "      <td>40</td>\n",
       "      <td>0</td>\n",
       "      <td>5.82</td>\n",
       "      <td>MT</td>\n",
       "      <td>1595953937</td>\n",
       "    </tr>\n",
       "    <tr>\n",
       "      <th>589</th>\n",
       "      <td>São Filipe</td>\n",
       "      <td>14.90</td>\n",
       "      <td>-24.50</td>\n",
       "      <td>77.81</td>\n",
       "      <td>76</td>\n",
       "      <td>93</td>\n",
       "      <td>6.98</td>\n",
       "      <td>CV</td>\n",
       "      <td>1595953937</td>\n",
       "    </tr>\n",
       "    <tr>\n",
       "      <th>590</th>\n",
       "      <td>Pag</td>\n",
       "      <td>44.45</td>\n",
       "      <td>15.06</td>\n",
       "      <td>87.80</td>\n",
       "      <td>43</td>\n",
       "      <td>0</td>\n",
       "      <td>12.75</td>\n",
       "      <td>HR</td>\n",
       "      <td>1595953937</td>\n",
       "    </tr>\n",
       "  </tbody>\n",
       "</table>\n",
       "<p>591 rows × 9 columns</p>\n",
       "</div>"
      ],
      "text/plain": [
       "                                     City    Lat     Lng  Max_Temp  Humidity  \\\n",
       "0                                   Kumul  42.80   93.45     79.11        30   \n",
       "1                                Thompson  55.74  -97.86     60.80        87   \n",
       "2                                  Kalmar  56.66   16.36     69.80        77   \n",
       "3                          Victoria Point -27.58  153.30     55.00        62   \n",
       "4                                  Marawi   8.00  124.29     73.99        92   \n",
       "..                                    ...    ...     ...       ...       ...   \n",
       "586                                  Safi  32.30   -9.24     76.03        72   \n",
       "587  Arrondissement de Brive-la-Gaillarde  45.25    1.50     81.00        74   \n",
       "588                                Dingli  35.86   14.38     87.80        40   \n",
       "589                            São Filipe  14.90  -24.50     77.81        76   \n",
       "590                                   Pag  44.45   15.06     87.80        43   \n",
       "\n",
       "     Cloudiness  Wind_Speed Country        Date  \n",
       "0             0       10.80      CN  1595953854  \n",
       "1            90        5.82      CA  1595953746  \n",
       "2            77        5.82      SE  1595953858  \n",
       "3             0        4.00      AU  1595953858  \n",
       "4           100        7.00      PH  1595953858  \n",
       "..          ...         ...     ...         ...  \n",
       "586           0       19.75      MA  1595953779  \n",
       "587          73        1.99      FR  1595953936  \n",
       "588           0        5.82      MT  1595953937  \n",
       "589          93        6.98      CV  1595953937  \n",
       "590           0       12.75      HR  1595953937  \n",
       "\n",
       "[591 rows x 9 columns]"
      ]
     },
     "execution_count": 6,
     "metadata": {},
     "output_type": "execute_result"
    }
   ],
   "source": [
    "# create a data frame using the dictionary\n",
    "city_data = pd.DataFrame(weather_dict)\n",
    "city_data"
   ]
  },
  {
   "cell_type": "markdown",
   "metadata": {},
   "source": [
    "## Inspect the data and remove the cities where the humidity > 100%.\n",
    "----\n",
    "Skip this step if there are no cities that have humidity > 100%. "
   ]
  },
  {
   "cell_type": "code",
   "execution_count": 7,
   "metadata": {},
   "outputs": [
    {
     "data": {
      "text/html": [
       "<div>\n",
       "<style scoped>\n",
       "    .dataframe tbody tr th:only-of-type {\n",
       "        vertical-align: middle;\n",
       "    }\n",
       "\n",
       "    .dataframe tbody tr th {\n",
       "        vertical-align: top;\n",
       "    }\n",
       "\n",
       "    .dataframe thead th {\n",
       "        text-align: right;\n",
       "    }\n",
       "</style>\n",
       "<table border=\"1\" class=\"dataframe\">\n",
       "  <thead>\n",
       "    <tr style=\"text-align: right;\">\n",
       "      <th></th>\n",
       "      <th>Lat</th>\n",
       "      <th>Lng</th>\n",
       "      <th>Max_Temp</th>\n",
       "      <th>Humidity</th>\n",
       "      <th>Cloudiness</th>\n",
       "      <th>Wind_Speed</th>\n",
       "      <th>Date</th>\n",
       "    </tr>\n",
       "  </thead>\n",
       "  <tbody>\n",
       "    <tr>\n",
       "      <th>count</th>\n",
       "      <td>591.000000</td>\n",
       "      <td>591.000000</td>\n",
       "      <td>591.000000</td>\n",
       "      <td>591.000000</td>\n",
       "      <td>591.000000</td>\n",
       "      <td>591.000000</td>\n",
       "      <td>5.910000e+02</td>\n",
       "    </tr>\n",
       "    <tr>\n",
       "      <th>mean</th>\n",
       "      <td>20.761404</td>\n",
       "      <td>15.375059</td>\n",
       "      <td>71.577953</td>\n",
       "      <td>67.736041</td>\n",
       "      <td>48.313029</td>\n",
       "      <td>8.396565</td>\n",
       "      <td>1.595954e+09</td>\n",
       "    </tr>\n",
       "    <tr>\n",
       "      <th>std</th>\n",
       "      <td>32.816056</td>\n",
       "      <td>88.919224</td>\n",
       "      <td>14.929998</td>\n",
       "      <td>21.810696</td>\n",
       "      <td>37.874169</td>\n",
       "      <td>5.672234</td>\n",
       "      <td>5.630925e+01</td>\n",
       "    </tr>\n",
       "    <tr>\n",
       "      <th>min</th>\n",
       "      <td>-54.800000</td>\n",
       "      <td>-175.200000</td>\n",
       "      <td>34.560000</td>\n",
       "      <td>6.000000</td>\n",
       "      <td>0.000000</td>\n",
       "      <td>0.340000</td>\n",
       "      <td>1.595954e+09</td>\n",
       "    </tr>\n",
       "    <tr>\n",
       "      <th>25%</th>\n",
       "      <td>-7.025000</td>\n",
       "      <td>-63.585000</td>\n",
       "      <td>60.800000</td>\n",
       "      <td>55.500000</td>\n",
       "      <td>5.500000</td>\n",
       "      <td>4.000000</td>\n",
       "      <td>1.595954e+09</td>\n",
       "    </tr>\n",
       "    <tr>\n",
       "      <th>50%</th>\n",
       "      <td>26.120000</td>\n",
       "      <td>20.270000</td>\n",
       "      <td>74.100000</td>\n",
       "      <td>73.000000</td>\n",
       "      <td>45.000000</td>\n",
       "      <td>6.930000</td>\n",
       "      <td>1.595954e+09</td>\n",
       "    </tr>\n",
       "    <tr>\n",
       "      <th>75%</th>\n",
       "      <td>47.660000</td>\n",
       "      <td>92.880000</td>\n",
       "      <td>82.000000</td>\n",
       "      <td>85.000000</td>\n",
       "      <td>84.500000</td>\n",
       "      <td>11.410000</td>\n",
       "      <td>1.595954e+09</td>\n",
       "    </tr>\n",
       "    <tr>\n",
       "      <th>max</th>\n",
       "      <td>78.220000</td>\n",
       "      <td>178.420000</td>\n",
       "      <td>112.150000</td>\n",
       "      <td>100.000000</td>\n",
       "      <td>100.000000</td>\n",
       "      <td>33.330000</td>\n",
       "      <td>1.595954e+09</td>\n",
       "    </tr>\n",
       "  </tbody>\n",
       "</table>\n",
       "</div>"
      ],
      "text/plain": [
       "              Lat         Lng    Max_Temp    Humidity  Cloudiness  Wind_Speed  \\\n",
       "count  591.000000  591.000000  591.000000  591.000000  591.000000  591.000000   \n",
       "mean    20.761404   15.375059   71.577953   67.736041   48.313029    8.396565   \n",
       "std     32.816056   88.919224   14.929998   21.810696   37.874169    5.672234   \n",
       "min    -54.800000 -175.200000   34.560000    6.000000    0.000000    0.340000   \n",
       "25%     -7.025000  -63.585000   60.800000   55.500000    5.500000    4.000000   \n",
       "50%     26.120000   20.270000   74.100000   73.000000   45.000000    6.930000   \n",
       "75%     47.660000   92.880000   82.000000   85.000000   84.500000   11.410000   \n",
       "max     78.220000  178.420000  112.150000  100.000000  100.000000   33.330000   \n",
       "\n",
       "               Date  \n",
       "count  5.910000e+02  \n",
       "mean   1.595954e+09  \n",
       "std    5.630925e+01  \n",
       "min    1.595954e+09  \n",
       "25%    1.595954e+09  \n",
       "50%    1.595954e+09  \n",
       "75%    1.595954e+09  \n",
       "max    1.595954e+09  "
      ]
     },
     "execution_count": 7,
     "metadata": {},
     "output_type": "execute_result"
    }
   ],
   "source": [
    "# check if cities have max humidity > 100\n",
    "city_data.describe()"
   ]
  },
  {
   "cell_type": "code",
   "execution_count": 8,
   "metadata": {
    "scrolled": true
   },
   "outputs": [
    {
     "data": {
      "text/plain": [
       "Int64Index([], dtype='int64')"
      ]
     },
     "execution_count": 8,
     "metadata": {},
     "output_type": "execute_result"
    }
   ],
   "source": [
    "#  Get the indices of cities that have humidity over 100%.\n",
    "indicies = city_data[city_data['Humidity']>100].index\n",
    "indicies"
   ]
  },
  {
   "cell_type": "code",
   "execution_count": 9,
   "metadata": {},
   "outputs": [
    {
     "data": {
      "text/html": [
       "<div>\n",
       "<style scoped>\n",
       "    .dataframe tbody tr th:only-of-type {\n",
       "        vertical-align: middle;\n",
       "    }\n",
       "\n",
       "    .dataframe tbody tr th {\n",
       "        vertical-align: top;\n",
       "    }\n",
       "\n",
       "    .dataframe thead th {\n",
       "        text-align: right;\n",
       "    }\n",
       "</style>\n",
       "<table border=\"1\" class=\"dataframe\">\n",
       "  <thead>\n",
       "    <tr style=\"text-align: right;\">\n",
       "      <th></th>\n",
       "      <th>City</th>\n",
       "      <th>Lat</th>\n",
       "      <th>Lng</th>\n",
       "      <th>Max_Temp</th>\n",
       "      <th>Humidity</th>\n",
       "      <th>Cloudiness</th>\n",
       "      <th>Wind_Speed</th>\n",
       "      <th>Country</th>\n",
       "      <th>Date</th>\n",
       "    </tr>\n",
       "  </thead>\n",
       "  <tbody>\n",
       "    <tr>\n",
       "      <th>0</th>\n",
       "      <td>Kumul</td>\n",
       "      <td>42.80</td>\n",
       "      <td>93.45</td>\n",
       "      <td>79.11</td>\n",
       "      <td>30</td>\n",
       "      <td>0</td>\n",
       "      <td>10.80</td>\n",
       "      <td>CN</td>\n",
       "      <td>1595953854</td>\n",
       "    </tr>\n",
       "    <tr>\n",
       "      <th>1</th>\n",
       "      <td>Thompson</td>\n",
       "      <td>55.74</td>\n",
       "      <td>-97.86</td>\n",
       "      <td>60.80</td>\n",
       "      <td>87</td>\n",
       "      <td>90</td>\n",
       "      <td>5.82</td>\n",
       "      <td>CA</td>\n",
       "      <td>1595953746</td>\n",
       "    </tr>\n",
       "    <tr>\n",
       "      <th>2</th>\n",
       "      <td>Kalmar</td>\n",
       "      <td>56.66</td>\n",
       "      <td>16.36</td>\n",
       "      <td>69.80</td>\n",
       "      <td>77</td>\n",
       "      <td>77</td>\n",
       "      <td>5.82</td>\n",
       "      <td>SE</td>\n",
       "      <td>1595953858</td>\n",
       "    </tr>\n",
       "    <tr>\n",
       "      <th>3</th>\n",
       "      <td>Victoria Point</td>\n",
       "      <td>-27.58</td>\n",
       "      <td>153.30</td>\n",
       "      <td>55.00</td>\n",
       "      <td>62</td>\n",
       "      <td>0</td>\n",
       "      <td>4.00</td>\n",
       "      <td>AU</td>\n",
       "      <td>1595953858</td>\n",
       "    </tr>\n",
       "    <tr>\n",
       "      <th>4</th>\n",
       "      <td>Marawi</td>\n",
       "      <td>8.00</td>\n",
       "      <td>124.29</td>\n",
       "      <td>73.99</td>\n",
       "      <td>92</td>\n",
       "      <td>100</td>\n",
       "      <td>7.00</td>\n",
       "      <td>PH</td>\n",
       "      <td>1595953858</td>\n",
       "    </tr>\n",
       "  </tbody>\n",
       "</table>\n",
       "</div>"
      ],
      "text/plain": [
       "             City    Lat     Lng  Max_Temp  Humidity  Cloudiness  Wind_Speed  \\\n",
       "0           Kumul  42.80   93.45     79.11        30           0       10.80   \n",
       "1        Thompson  55.74  -97.86     60.80        87          90        5.82   \n",
       "2          Kalmar  56.66   16.36     69.80        77          77        5.82   \n",
       "3  Victoria Point -27.58  153.30     55.00        62           0        4.00   \n",
       "4          Marawi   8.00  124.29     73.99        92         100        7.00   \n",
       "\n",
       "  Country        Date  \n",
       "0      CN  1595953854  \n",
       "1      CA  1595953746  \n",
       "2      SE  1595953858  \n",
       "3      AU  1595953858  \n",
       "4      PH  1595953858  "
      ]
     },
     "execution_count": 9,
     "metadata": {},
     "output_type": "execute_result"
    }
   ],
   "source": [
    "# Make a new DataFrame equal to the city data to drop all humidity outliers by index.\n",
    "# Passing \"inplace=False\" will make a copy of the city_data DataFrame, which we call \"clean_city_data\".\n",
    "clean_city_data = city_data.drop(indicies,inplace=False)\n",
    "clean_city_data.head()"
   ]
  },
  {
   "cell_type": "code",
   "execution_count": 10,
   "metadata": {},
   "outputs": [],
   "source": [
    "# Extract relevant fields from the data frame\n",
    "lats = clean_city_data['Lat']\n",
    "maxtemp = clean_city_data['Max_Temp']\n",
    "hum = clean_city_data['Humidity']\n",
    "cloud = clean_city_data['Cloudiness']\n",
    "wind = clean_city_data['Wind_Speed']\n",
    "\n",
    "# Export the City_Data into a csv\n",
    "clean_city_data.to_csv(r'output_data\\clean_city_data.csv', index=False)"
   ]
  },
  {
   "cell_type": "markdown",
   "metadata": {},
   "source": [
    "## Plotting the Data\n",
    "* Use proper labeling of the plots using plot titles (including date of analysis) and axes labels.\n",
    "* Save the plotted figures as .pngs."
   ]
  },
  {
   "cell_type": "code",
   "execution_count": 11,
   "metadata": {},
   "outputs": [],
   "source": [
    "plot_date = date.today().strftime('%m/%d/%Y')\n",
    "#print(f'Plotted {plot_date}')"
   ]
  },
  {
   "cell_type": "markdown",
   "metadata": {},
   "source": [
    "## Latitude vs. Temperature Plot"
   ]
  },
  {
   "cell_type": "code",
   "execution_count": 12,
   "metadata": {
    "scrolled": true
   },
   "outputs": [
    {
     "data": {
      "image/png": "[encoded data removed]",
      "text/plain": [
       "<Figure size 432x288 with 1 Axes>"
      ]
     },
     "metadata": {
      "needs_background": "light"
     },
     "output_type": "display_data"
    }
   ],
   "source": [
    "# create a Scatter Plot for temperature vs latitude\n",
    "plt.scatter(lats, maxtemp, marker=\"o\", facecolors=\"blue\", edgecolors=\"black\")\n",
    "plt.xlabel('Latitude')\n",
    "plt.ylabel('Max Temperature (F)')\n",
    "plt.title(f\"City Latitude vs Max Temperature {plot_date}\")\n",
    "plt.xlim(-65,85) # set the upper and lower limits of our x axis\n",
    "plt.ylim(20,110) # set the upper and lower limits of our y axis\n",
    "plt.grid()\n",
    "plt.savefig(\"output_data/Latitude_vs_Temperature.png\")\n",
    "plt.show()"
   ]
  },
  {
   "cell_type": "code",
   "execution_count": 13,
   "metadata": {},
   "outputs": [],
   "source": [
    "# Analysis of City Latitude vs Max Temperature:\n",
    "# The chart above shows that cities closer to the equator - nearest to Latitude 0 - \n",
    "# generally have a higher maximum temperature. At the time this data was collected, \n",
    "# the northern hemisphere was in its summer season, resulting in the peak temperatures\n",
    "# being shifted to approximately 20 degrees North Latitude. If the data was collected \n",
    "# on the first day of Spring or Autumn, we would expect the temperature data points\n",
    "# to appear symetrical around the zero degree latitude line."
   ]
  },
  {
   "cell_type": "markdown",
   "metadata": {},
   "source": [
    "## Latitude vs. Humidity Plot"
   ]
  },
  {
   "cell_type": "code",
   "execution_count": 14,
   "metadata": {
    "scrolled": true
   },
   "outputs": [
    {
     "data": {
      "image/png": "[encoded data removed]",
      "text/plain": [
       "<Figure size 432x288 with 1 Axes>"
      ]
     },
     "metadata": {
      "needs_background": "light"
     },
     "output_type": "display_data"
    }
   ],
   "source": [
    "# create a Scatter Plot for humidity vs latitude\n",
    "plt.scatter(lats, hum, marker=\"o\", facecolors=\"blue\", edgecolors=\"black\")\n",
    "plt.xlabel('Latitude')\n",
    "plt.ylabel('Humidity (%)')\n",
    "plt.title(f\"City Latitude vs Humidity {plot_date}\")\n",
    "plt.xlim(-85,85) # set the upper and lower limits of our x axis\n",
    "plt.ylim(0,110) # set the upper and lower limits of our y axis\n",
    "plt.grid()\n",
    "plt.savefig(\"output_data/Latitude_vs_Humidity.png\")\n",
    "plt.show()"
   ]
  },
  {
   "cell_type": "code",
   "execution_count": 15,
   "metadata": {},
   "outputs": [],
   "source": [
    "# Analysis of City Latitude vs Humidity:\n",
    "# The chart above shows a fairly consistant distribution of humidity levels across\n",
    "# all latutudes from -60 to 80. It also indicates that a high percentage of cities \n",
    "# have humidity levels in the 60% to 100% band."
   ]
  },
  {
   "cell_type": "markdown",
   "metadata": {},
   "source": [
    "## Latitude vs. Cloudiness Plot"
   ]
  },
  {
   "cell_type": "code",
   "execution_count": 16,
   "metadata": {
    "scrolled": true
   },
   "outputs": [
    {
     "data": {
      "image/png": "[encoded data removed]",
      "text/plain": [
       "<Figure size 432x288 with 1 Axes>"
      ]
     },
     "metadata": {
      "needs_background": "light"
     },
     "output_type": "display_data"
    }
   ],
   "source": [
    "# create a Scatter Plot for cloudiness vs latitude\n",
    "plt.scatter(lats, clouds, marker=\"o\", facecolors=\"blue\", edgecolors=\"black\")\n",
    "plt.xlabel('Latitude')\n",
    "plt.ylabel('Cloudiness (%)')\n",
    "plt.title(f\"City Latitude vs Cloudiness {plot_date}\")\n",
    "plt.xlim(-85,85) # set the upper and lower limits of our x axis\n",
    "plt.ylim(0,110) # set the upper and lower limits of our y axis\n",
    "plt.grid()\n",
    "plt.savefig(\"output_data/Latitude_vs_Cloudiness.png\")\n",
    "plt.show()"
   ]
  },
  {
   "cell_type": "code",
   "execution_count": 17,
   "metadata": {},
   "outputs": [],
   "source": [
    "# Analysis of City Latitude vs Cloudiness:\n",
    "# The chart above shows a fairly even distribution of cloud cover levels across\n",
    "# all latutudes from -60 to 80. As seen by the horizontal banding on the chart, \n",
    "# it is evident that some popular cloud cover reporting thresholds are 0%, 20%, \n",
    "# 40%, 75%, 90%, and 100%"
   ]
  },
  {
   "cell_type": "markdown",
   "metadata": {},
   "source": [
    "## Latitude vs. Wind Speed Plot"
   ]
  },
  {
   "cell_type": "code",
   "execution_count": 18,
   "metadata": {
    "scrolled": false
   },
   "outputs": [
    {
     "data": {
      "image/png": "[encoded data removed]",
      "text/plain": [
       "<Figure size 432x288 with 1 Axes>"
      ]
     },
     "metadata": {
      "needs_background": "light"
     },
     "output_type": "display_data"
    }
   ],
   "source": [
    "# create a Scatter Plot for wind speed vs latitude\n",
    "plt.scatter(lats, wind, marker=\"o\", facecolors=\"blue\", edgecolors=\"black\")\n",
    "plt.xlabel('Latitude')\n",
    "plt.ylabel('Wind Speed (mph)')\n",
    "plt.title(f\"City Latitude vs Wind Speed {plot_date}\")\n",
    "plt.xlim(-85,85) # set the upper and lower limits of our x axis\n",
    "plt.ylim(0,35) # set the upper and lower limits of our y axis\n",
    "plt.grid()\n",
    "plt.savefig(\"output_data/Latitude_vs_Wind_Speed.png\")\n",
    "plt.show()"
   ]
  },
  {
   "cell_type": "code",
   "execution_count": 19,
   "metadata": {},
   "outputs": [],
   "source": [
    "# Analysis: The chart above shows that wind speeds at each velocity are\n",
    "# evenly distribution across most latutudes from -60 to 80. It also \n",
    "# shows that the majority of locations have wind speeds below 10 mph,\n",
    "# and very few locations are above a 20 mph wind speed."
   ]
  },
  {
   "cell_type": "markdown",
   "metadata": {},
   "source": [
    "## Linear Regression"
   ]
  },
  {
   "cell_type": "code",
   "execution_count": 20,
   "metadata": {},
   "outputs": [],
   "source": [
    "# OPTIONAL: Create a function to create Linear Regression plots"
   ]
  },
  {
   "cell_type": "code",
   "execution_count": 21,
   "metadata": {},
   "outputs": [],
   "source": [
    "# Create Northern and Southern Hemisphere DataFrames"
   ]
  },
  {
   "cell_type": "code",
   "execution_count": 22,
   "metadata": {},
   "outputs": [
    {
     "data": {
      "text/html": [
       "<div>\n",
       "<style scoped>\n",
       "    .dataframe tbody tr th:only-of-type {\n",
       "        vertical-align: middle;\n",
       "    }\n",
       "\n",
       "    .dataframe tbody tr th {\n",
       "        vertical-align: top;\n",
       "    }\n",
       "\n",
       "    .dataframe thead th {\n",
       "        text-align: right;\n",
       "    }\n",
       "</style>\n",
       "<table border=\"1\" class=\"dataframe\">\n",
       "  <thead>\n",
       "    <tr style=\"text-align: right;\">\n",
       "      <th></th>\n",
       "      <th>City</th>\n",
       "      <th>Lat</th>\n",
       "      <th>Lng</th>\n",
       "      <th>Max_Temp</th>\n",
       "      <th>Humidity</th>\n",
       "      <th>Cloudiness</th>\n",
       "      <th>Wind_Speed</th>\n",
       "      <th>Country</th>\n",
       "      <th>Date</th>\n",
       "    </tr>\n",
       "  </thead>\n",
       "  <tbody>\n",
       "    <tr>\n",
       "      <th>0</th>\n",
       "      <td>Kumul</td>\n",
       "      <td>42.80</td>\n",
       "      <td>93.45</td>\n",
       "      <td>79.11</td>\n",
       "      <td>30</td>\n",
       "      <td>0</td>\n",
       "      <td>10.80</td>\n",
       "      <td>CN</td>\n",
       "      <td>1595953854</td>\n",
       "    </tr>\n",
       "    <tr>\n",
       "      <th>1</th>\n",
       "      <td>Thompson</td>\n",
       "      <td>55.74</td>\n",
       "      <td>-97.86</td>\n",
       "      <td>60.80</td>\n",
       "      <td>87</td>\n",
       "      <td>90</td>\n",
       "      <td>5.82</td>\n",
       "      <td>CA</td>\n",
       "      <td>1595953746</td>\n",
       "    </tr>\n",
       "    <tr>\n",
       "      <th>2</th>\n",
       "      <td>Kalmar</td>\n",
       "      <td>56.66</td>\n",
       "      <td>16.36</td>\n",
       "      <td>69.80</td>\n",
       "      <td>77</td>\n",
       "      <td>77</td>\n",
       "      <td>5.82</td>\n",
       "      <td>SE</td>\n",
       "      <td>1595953858</td>\n",
       "    </tr>\n",
       "    <tr>\n",
       "      <th>4</th>\n",
       "      <td>Marawi</td>\n",
       "      <td>8.00</td>\n",
       "      <td>124.29</td>\n",
       "      <td>73.99</td>\n",
       "      <td>92</td>\n",
       "      <td>100</td>\n",
       "      <td>7.00</td>\n",
       "      <td>PH</td>\n",
       "      <td>1595953858</td>\n",
       "    </tr>\n",
       "    <tr>\n",
       "      <th>5</th>\n",
       "      <td>Lāsalgaon</td>\n",
       "      <td>20.15</td>\n",
       "      <td>74.23</td>\n",
       "      <td>75.97</td>\n",
       "      <td>87</td>\n",
       "      <td>100</td>\n",
       "      <td>11.34</td>\n",
       "      <td>IN</td>\n",
       "      <td>1595953858</td>\n",
       "    </tr>\n",
       "  </tbody>\n",
       "</table>\n",
       "</div>"
      ],
      "text/plain": [
       "        City    Lat     Lng  Max_Temp  Humidity  Cloudiness  Wind_Speed  \\\n",
       "0      Kumul  42.80   93.45     79.11        30           0       10.80   \n",
       "1   Thompson  55.74  -97.86     60.80        87          90        5.82   \n",
       "2     Kalmar  56.66   16.36     69.80        77          77        5.82   \n",
       "4     Marawi   8.00  124.29     73.99        92         100        7.00   \n",
       "5  Lāsalgaon  20.15   74.23     75.97        87         100       11.34   \n",
       "\n",
       "  Country        Date  \n",
       "0      CN  1595953854  \n",
       "1      CA  1595953746  \n",
       "2      SE  1595953858  \n",
       "4      PH  1595953858  \n",
       "5      IN  1595953858  "
      ]
     },
     "execution_count": 22,
     "metadata": {},
     "output_type": "execute_result"
    }
   ],
   "source": [
    "north_data = clean_city_data[clean_city_data['Lat']>=0]\n",
    "north_data.head()"
   ]
  },
  {
   "cell_type": "code",
   "execution_count": 23,
   "metadata": {},
   "outputs": [
    {
     "data": {
      "text/html": [
       "<div>\n",
       "<style scoped>\n",
       "    .dataframe tbody tr th:only-of-type {\n",
       "        vertical-align: middle;\n",
       "    }\n",
       "\n",
       "    .dataframe tbody tr th {\n",
       "        vertical-align: top;\n",
       "    }\n",
       "\n",
       "    .dataframe thead th {\n",
       "        text-align: right;\n",
       "    }\n",
       "</style>\n",
       "<table border=\"1\" class=\"dataframe\">\n",
       "  <thead>\n",
       "    <tr style=\"text-align: right;\">\n",
       "      <th></th>\n",
       "      <th>City</th>\n",
       "      <th>Lat</th>\n",
       "      <th>Lng</th>\n",
       "      <th>Max_Temp</th>\n",
       "      <th>Humidity</th>\n",
       "      <th>Cloudiness</th>\n",
       "      <th>Wind_Speed</th>\n",
       "      <th>Country</th>\n",
       "      <th>Date</th>\n",
       "    </tr>\n",
       "  </thead>\n",
       "  <tbody>\n",
       "    <tr>\n",
       "      <th>3</th>\n",
       "      <td>Victoria Point</td>\n",
       "      <td>-27.58</td>\n",
       "      <td>153.30</td>\n",
       "      <td>55.00</td>\n",
       "      <td>62</td>\n",
       "      <td>0</td>\n",
       "      <td>4.00</td>\n",
       "      <td>AU</td>\n",
       "      <td>1595953858</td>\n",
       "    </tr>\n",
       "    <tr>\n",
       "      <th>8</th>\n",
       "      <td>Te Anau</td>\n",
       "      <td>-45.42</td>\n",
       "      <td>167.72</td>\n",
       "      <td>41.04</td>\n",
       "      <td>91</td>\n",
       "      <td>100</td>\n",
       "      <td>1.43</td>\n",
       "      <td>NZ</td>\n",
       "      <td>1595953858</td>\n",
       "    </tr>\n",
       "    <tr>\n",
       "      <th>10</th>\n",
       "      <td>Comodoro Rivadavia</td>\n",
       "      <td>-45.87</td>\n",
       "      <td>-67.50</td>\n",
       "      <td>48.20</td>\n",
       "      <td>49</td>\n",
       "      <td>0</td>\n",
       "      <td>16.11</td>\n",
       "      <td>AR</td>\n",
       "      <td>1595953859</td>\n",
       "    </tr>\n",
       "    <tr>\n",
       "      <th>13</th>\n",
       "      <td>Ancud</td>\n",
       "      <td>-41.87</td>\n",
       "      <td>-73.82</td>\n",
       "      <td>51.01</td>\n",
       "      <td>81</td>\n",
       "      <td>75</td>\n",
       "      <td>3.36</td>\n",
       "      <td>CL</td>\n",
       "      <td>1595953859</td>\n",
       "    </tr>\n",
       "    <tr>\n",
       "      <th>14</th>\n",
       "      <td>Cape Town</td>\n",
       "      <td>-33.93</td>\n",
       "      <td>18.42</td>\n",
       "      <td>57.99</td>\n",
       "      <td>62</td>\n",
       "      <td>20</td>\n",
       "      <td>16.11</td>\n",
       "      <td>ZA</td>\n",
       "      <td>1595953859</td>\n",
       "    </tr>\n",
       "  </tbody>\n",
       "</table>\n",
       "</div>"
      ],
      "text/plain": [
       "                  City    Lat     Lng  Max_Temp  Humidity  Cloudiness  \\\n",
       "3       Victoria Point -27.58  153.30     55.00        62           0   \n",
       "8              Te Anau -45.42  167.72     41.04        91         100   \n",
       "10  Comodoro Rivadavia -45.87  -67.50     48.20        49           0   \n",
       "13               Ancud -41.87  -73.82     51.01        81          75   \n",
       "14           Cape Town -33.93   18.42     57.99        62          20   \n",
       "\n",
       "    Wind_Speed Country        Date  \n",
       "3         4.00      AU  1595953858  \n",
       "8         1.43      NZ  1595953858  \n",
       "10       16.11      AR  1595953859  \n",
       "13        3.36      CL  1595953859  \n",
       "14       16.11      ZA  1595953859  "
      ]
     },
     "execution_count": 23,
     "metadata": {},
     "output_type": "execute_result"
    }
   ],
   "source": [
    "south_data = clean_city_data[clean_city_data['Lat']<0]\n",
    "south_data.head()"
   ]
  },
  {
   "cell_type": "markdown",
   "metadata": {},
   "source": [
    "####  Northern Hemisphere - Max Temp vs. Latitude Linear Regression"
   ]
  },
  {
   "cell_type": "code",
   "execution_count": 24,
   "metadata": {},
   "outputs": [
    {
     "name": "stdout",
     "output_type": "stream",
     "text": [
      "The correlation between both factors is -0.6507\n"
     ]
    },
    {
     "data": {
      "image/png": "[encoded data removed]",
      "text/plain": [
       "<Figure size 432x288 with 1 Axes>"
      ]
     },
     "metadata": {
      "needs_background": "light"
     },
     "output_type": "display_data"
    }
   ],
   "source": [
    "# calculate correlation \n",
    "x_values = north_data['Lat']\n",
    "y_values = north_data['Max_Temp']\n",
    "\n",
    "correlation = stats.pearsonr(x_values,y_values)\n",
    "print(f\"The correlation between both factors is {round(correlation[0],4)}\")\n",
    "\n",
    "# create scatter plot with linear regression equation and line\n",
    "(slope, intercept, rvalue, pvalue, stderr) = linregress(x_values, y_values)\n",
    "regress_values = x_values * slope + intercept\n",
    "line_eq = \"y = \" + str(round(slope,2)) + \"x + \" + str(round(intercept,2))\n",
    "plt.scatter(x_values,y_values)\n",
    "plt.plot(x_values,regress_values,\"r-\")\n",
    "plt.annotate(line_eq,(5,40),fontsize=12,color=\"red\")\n",
    "plt.xlabel('Latitude')\n",
    "plt.ylabel('Max Temp')\n",
    "plt.grid()\n",
    "plt.savefig(\"output_data/Northern Max Temp vs. Latitude Linear Regression.png\")\n",
    "plt.show()"
   ]
  },
  {
   "cell_type": "markdown",
   "metadata": {},
   "source": [
    "####  Southern Hemisphere - Max Temp vs. Latitude Linear Regression"
   ]
  },
  {
   "cell_type": "code",
   "execution_count": 25,
   "metadata": {
    "scrolled": true
   },
   "outputs": [
    {
     "name": "stdout",
     "output_type": "stream",
     "text": [
      "The correlation between both factors is 0.8212\n"
     ]
    },
    {
     "data": {
      "image/png": "[encoded data removed]",
      "text/plain": [
       "<Figure size 432x288 with 1 Axes>"
      ]
     },
     "metadata": {
      "needs_background": "light"
     },
     "output_type": "display_data"
    }
   ],
   "source": [
    "# calculate correlation \n",
    "x_values = south_data['Lat']\n",
    "y_values = south_data['Max_Temp']\n",
    "\n",
    "correlation = stats.pearsonr(x_values,y_values)\n",
    "print(f\"The correlation between both factors is {round(correlation[0],4)}\")\n",
    "\n",
    "# create scatter plot with linear regression equation and line\n",
    "(slope, intercept, rvalue, pvalue, stderr) = linregress(x_values, y_values)\n",
    "regress_values = x_values * slope + intercept\n",
    "line_eq = \"y = \" + str(round(slope,2)) + \"x + \" + str(round(intercept,2))\n",
    "plt.scatter(x_values,y_values)\n",
    "plt.plot(x_values,regress_values,\"r-\")\n",
    "plt.annotate(line_eq,(-22,35),fontsize=12,color=\"red\")\n",
    "plt.xlabel('Latitude')\n",
    "plt.ylabel('Max Temp')\n",
    "plt.grid()\n",
    "plt.savefig(\"output_data/Southern Max Temp vs. Latitude Linear Regression.png\")\n",
    "plt.show()"
   ]
  },
  {
   "cell_type": "code",
   "execution_count": 26,
   "metadata": {},
   "outputs": [],
   "source": [
    "# Analysis for Max Temp vs. Latitude Linear Regression: \n",
    "# The two charts above show that the Max Temp increases as latitude readings\n",
    "# approach 0 latitude. Also clearly visible are the lower temperatures\n",
    "# in the southern hemisphere, currently in the Winter season, when compared\n",
    "# to the Northern Hemisphere."
   ]
  },
  {
   "cell_type": "markdown",
   "metadata": {},
   "source": [
    "####  Northern Hemisphere - Humidity (%) vs. Latitude Linear Regression"
   ]
  },
  {
   "cell_type": "code",
   "execution_count": 27,
   "metadata": {},
   "outputs": [
    {
     "name": "stdout",
     "output_type": "stream",
     "text": [
      "The correlation between both factors is 0.0113\n"
     ]
    },
    {
     "data": {
      "image/png": "[encoded data removed]",
      "text/plain": [
       "<Figure size 432x288 with 1 Axes>"
      ]
     },
     "metadata": {
      "needs_background": "light"
     },
     "output_type": "display_data"
    }
   ],
   "source": [
    "# calculate correlation \n",
    "x_values = north_data['Lat']\n",
    "y_values = north_data['Humidity']\n",
    "\n",
    "correlation = stats.pearsonr(x_values,y_values)\n",
    "print(f\"The correlation between both factors is {round(correlation[0],4)}\")\n",
    "\n",
    "# create scatter plot with linear regression equation and line\n",
    "(slope, intercept, rvalue, pvalue, stderr) = linregress(x_values, y_values)\n",
    "regress_values = x_values * slope + intercept\n",
    "line_eq = \"y = \" + str(round(slope,2)) + \"x + \" + str(round(intercept,2))\n",
    "plt.scatter(x_values,y_values)\n",
    "plt.plot(x_values,regress_values,\"r-\")\n",
    "plt.annotate(line_eq,(48,10),fontsize=12,color=\"red\")\n",
    "plt.xlabel('Latitude')\n",
    "plt.ylabel('Humidity %')\n",
    "plt.grid()\n",
    "plt.savefig(\"output_data/Northern Humidity vs. Latitude Linear Regression.png\")\n",
    "plt.show()"
   ]
  },
  {
   "cell_type": "markdown",
   "metadata": {},
   "source": [
    "####  Southern Hemisphere - Humidity (%) vs. Latitude Linear Regression"
   ]
  },
  {
   "cell_type": "code",
   "execution_count": 28,
   "metadata": {},
   "outputs": [
    {
     "name": "stdout",
     "output_type": "stream",
     "text": [
      "The correlation between both factors is -0.1379\n"
     ]
    },
    {
     "data": {
      "image/png": "[encoded data removed]",
      "text/plain": [
       "<Figure size 432x288 with 1 Axes>"
      ]
     },
     "metadata": {
      "needs_background": "light"
     },
     "output_type": "display_data"
    }
   ],
   "source": [
    "# calculate correlation \n",
    "x_values = south_data['Lat']\n",
    "y_values = south_data['Humidity']\n",
    "\n",
    "correlation = stats.pearsonr(x_values,y_values)\n",
    "print(f\"The correlation between both factors is {round(correlation[0],4)}\")\n",
    "\n",
    "# create scatter plot with linear regression equation and line\n",
    "(slope, intercept, rvalue, pvalue, stderr) = linregress(x_values, y_values)\n",
    "regress_values = x_values * slope + intercept\n",
    "line_eq = \"y = \" + str(round(slope,2)) + \"x + \" + str(round(intercept,2))\n",
    "plt.scatter(x_values,y_values)\n",
    "plt.plot(x_values,regress_values,\"r-\")\n",
    "plt.annotate(line_eq,(-52,10),fontsize=12,color=\"red\")\n",
    "plt.xlabel('Latitude')\n",
    "plt.ylabel('Humidity %')\n",
    "plt.grid()\n",
    "plt.savefig(\"output_data/Southern Humidity vs. Latitude Linear Regression.png\")\n",
    "plt.show()"
   ]
  },
  {
   "cell_type": "code",
   "execution_count": 29,
   "metadata": {},
   "outputs": [],
   "source": [
    "# Analysis for Humidity vs. Latitude Linear Regression: \n",
    "# The two charts above show different results for the Northern vs. Southern\n",
    "# Hemispheres. The trendline for the northern chart shows a steady 68% humidity\n",
    "# across all latitudes, while the trendline on the southern chart shows 62% \n",
    "# average humidity at the equator increasing steadily to around 77% at latitude\n",
    "# -55 degrees. It should be noted that the R-squred value is very low fow both \n",
    "# of these charts, indicating that humidity levels vary greatly between cities.\n",
    "# Also, perhaps the difference between the summer and winter seasons in the \n",
    "# hemisphere is the cause of the different trend lines."
   ]
  },
  {
   "cell_type": "markdown",
   "metadata": {},
   "source": [
    "####  Northern Hemisphere - Cloudiness (%) vs. Latitude Linear Regression"
   ]
  },
  {
   "cell_type": "code",
   "execution_count": 31,
   "metadata": {},
   "outputs": [
    {
     "name": "stdout",
     "output_type": "stream",
     "text": [
      "The correlation between both factors is 0.0161\n"
     ]
    },
    {
     "data": {
      "image/png": "[encoded data removed]",
      "text/plain": [
       "<Figure size 432x288 with 1 Axes>"
      ]
     },
     "metadata": {
      "needs_background": "light"
     },
     "output_type": "display_data"
    }
   ],
   "source": [
    "# calculate correlation \n",
    "x_values = north_data['Lat']\n",
    "y_values = north_data['Cloudiness']\n",
    "\n",
    "correlation = stats.pearsonr(x_values,y_values)\n",
    "print(f\"The correlation between both factors is {round(correlation[0],4)}\")\n",
    "\n",
    "# create scatter plot with linear regression equation and line\n",
    "(slope, intercept, rvalue, pvalue, stderr) = linregress(x_values, y_values)\n",
    "regress_values = x_values * slope + intercept\n",
    "line_eq = \"y = \" + str(round(slope,2)) + \"x + \" + str(round(intercept,2))\n",
    "plt.scatter(x_values,y_values)\n",
    "plt.plot(x_values,regress_values,\"r-\")\n",
    "plt.annotate(line_eq,(18,60),fontsize=12,color=\"red\")\n",
    "plt.xlabel('Latitude')\n",
    "plt.ylabel('Cloudiness %')\n",
    "plt.grid()\n",
    "plt.savefig(\"output_data/Northern Cloudiness vs. Latitude Linear Regression.png\")\n",
    "plt.show()"
   ]
  },
  {
   "cell_type": "markdown",
   "metadata": {},
   "source": [
    "####  Southern Hemisphere - Cloudiness (%) vs. Latitude Linear Regression"
   ]
  },
  {
   "cell_type": "code",
   "execution_count": 32,
   "metadata": {
    "scrolled": true
   },
   "outputs": [
    {
     "name": "stdout",
     "output_type": "stream",
     "text": [
      "The correlation between both factors is 0.0107\n"
     ]
    },
    {
     "data": {
      "image/png": "[encoded data removed]",
      "text/plain": [
       "<Figure size 432x288 with 1 Axes>"
      ]
     },
     "metadata": {
      "needs_background": "light"
     },
     "output_type": "display_data"
    }
   ],
   "source": [
    "# calculate correlation \n",
    "x_values = south_data['Lat']\n",
    "y_values = south_data['Cloudiness']\n",
    "\n",
    "correlation = stats.pearsonr(x_values,y_values)\n",
    "print(f\"The correlation between both factors is {round(correlation[0],4)}\")\n",
    "\n",
    "# create scatter plot with linear regression equation and line\n",
    "(slope, intercept, rvalue, pvalue, stderr) = linregress(x_values, y_values)\n",
    "regress_values = x_values * slope + intercept\n",
    "line_eq = \"y = \" + str(round(slope,2)) + \"x + \" + str(round(intercept,2))\n",
    "plt.scatter(x_values,y_values)\n",
    "plt.plot(x_values,regress_values,\"r-\")\n",
    "plt.annotate(line_eq,(-52,30),fontsize=12,color=\"red\")\n",
    "plt.xlabel('Latitude')\n",
    "plt.ylabel('Cloudiness %')\n",
    "plt.grid()\n",
    "plt.savefig(\"output_data/Southern Cloudiness vs. Latitude Linear Regression.png\")\n",
    "plt.show()"
   ]
  },
  {
   "cell_type": "code",
   "execution_count": 33,
   "metadata": {},
   "outputs": [],
   "source": [
    "# Analysis for Cloudiness vs. Latitude Linear Regression: \n",
    "# The two charts above show dissimilar results for the Northern vs. Southern\n",
    "# Hemispheres. The trendlines for the northern and southern chart show average \n",
    "# cloud covers of about 52% and 40% respectively. The corelation value is low\n",
    "# for both graphs, indicating a great range in cloud cover values. The \n",
    "# lower average value in the southern hemisphere is perhaps a result of the \n",
    "# lower percentage of land to ocean area when compared to the northern hemisphere,\n",
    "# since land masses generate cloud formation."
   ]
  },
  {
   "cell_type": "markdown",
   "metadata": {},
   "source": [
    "####  Northern Hemisphere - Wind Speed (mph) vs. Latitude Linear Regression"
   ]
  },
  {
   "cell_type": "code",
   "execution_count": 34,
   "metadata": {},
   "outputs": [
    {
     "name": "stdout",
     "output_type": "stream",
     "text": [
      "The correlation between both factors is -0.0336\n"
     ]
    },
    {
     "data": {
      "image/png": "[encoded data removed]",
      "text/plain": [
       "<Figure size 432x288 with 1 Axes>"
      ]
     },
     "metadata": {
      "needs_background": "light"
     },
     "output_type": "display_data"
    }
   ],
   "source": [
    "# calculate correlation \n",
    "x_values = north_data['Lat']\n",
    "y_values = north_data['Wind_Speed']\n",
    "\n",
    "correlation = stats.pearsonr(x_values,y_values)\n",
    "print(f\"The correlation between both factors is {round(correlation[0],4)}\")\n",
    "\n",
    "# create scatter plot with linear regression equation and line\n",
    "(slope, intercept, rvalue, pvalue, stderr) = linregress(x_values, y_values)\n",
    "regress_values = x_values * slope + intercept\n",
    "line_eq = \"y = \" + str(round(slope,2)) + \"x + \" + str(round(intercept,2))\n",
    "plt.scatter(x_values,y_values)\n",
    "plt.plot(x_values,regress_values,\"r-\")\n",
    "plt.annotate(line_eq,(45,27),fontsize=12,color=\"red\")\n",
    "plt.xlabel('Latitude')\n",
    "plt.ylabel('Wind Speed')\n",
    "plt.grid()\n",
    "plt.savefig(\"output_data/Northern wind Speed vs. Latitude Linear Regression.png\")\n",
    "plt.show()"
   ]
  },
  {
   "cell_type": "markdown",
   "metadata": {},
   "source": [
    "####  Southern Hemisphere - Wind Speed (mph) vs. Latitude Linear Regression"
   ]
  },
  {
   "cell_type": "code",
   "execution_count": 35,
   "metadata": {
    "scrolled": true
   },
   "outputs": [
    {
     "name": "stdout",
     "output_type": "stream",
     "text": [
      "The correlation between both factors is -0.1484\n"
     ]
    },
    {
     "data": {
      "image/png": "[encoded data removed]",
      "text/plain": [
       "<Figure size 432x288 with 1 Axes>"
      ]
     },
     "metadata": {
      "needs_background": "light"
     },
     "output_type": "display_data"
    }
   ],
   "source": [
    "# calculate correlation \n",
    "x_values = south_data['Lat']\n",
    "y_values = south_data['Wind_Speed']\n",
    "\n",
    "correlation = stats.pearsonr(x_values,y_values)\n",
    "print(f\"The correlation between both factors is {round(correlation[0],4)}\")\n",
    "\n",
    "# create scatter plot with linear regression equation and line\n",
    "(slope, intercept, rvalue, pvalue, stderr) = linregress(x_values, y_values)\n",
    "regress_values = x_values * slope + intercept\n",
    "line_eq = \"y = \" + str(round(slope,2)) + \"x + \" + str(round(intercept,2))\n",
    "plt.scatter(x_values,y_values)\n",
    "plt.plot(x_values,regress_values,\"r-\")\n",
    "plt.annotate(line_eq,(-52,25),fontsize=12,color=\"red\")\n",
    "plt.xlabel('Latitude')\n",
    "plt.ylabel('Wind Speed')\n",
    "plt.grid()\n",
    "plt.savefig(\"output_data/Southern wind Speed vs. Latitude Linear Regression.png\")\n",
    "plt.show()"
   ]
  },
  {
   "cell_type": "code",
   "execution_count": 36,
   "metadata": {},
   "outputs": [],
   "source": [
    "# Analysis for Wind Speed vs. Latitude Linear Regression: \n",
    "# The two charts above show slightly different results between the Northern vs. \n",
    "# Southern Hemispheres. The trendline for the northern hemispere shows a consistant\n",
    "# wind speed of about 7-8 mph acroos all latitudes. The southern hemispere shows a \n",
    "# sloping trendline reanginge from 7 mph at the equator to 11 mph at -55 degrees\n",
    "# latitude. The corelation value is low for both graphs, indicating a great range\n",
    "# in wind speed between cities."
   ]
  },
  {
   "cell_type": "code",
   "execution_count": 37,
   "metadata": {},
   "outputs": [],
   "source": [
    "# The End"
   ]
  },
  {
   "cell_type": "code",
   "execution_count": null,
   "metadata": {},
   "outputs": [],
   "source": []
  }
 ],
 "metadata": {
  "anaconda-cloud": {},
  "kernel_info": {
   "name": "python3"
  },
  "kernelspec": {
   "display_name": "Python [conda env:PythonData] *",
   "language": "python",
   "name": "conda-env-PythonData-py"
  },
  "language_info": {
   "codemirror_mode": {
    "name": "ipython",
    "version": 3
   },
   "file_extension": ".py",
   "mimetype": "text/x-python",
   "name": "python",
   "nbconvert_exporter": "python",
   "pygments_lexer": "ipython3",
   "version": "3.6.10"
  },
  "latex_envs": {
   "LaTeX_envs_menu_present": true,
   "autoclose": false,
   "autocomplete": true,
   "bibliofile": "biblio.bib",
   "cite_by": "apalike",
   "current_citInitial": 1,
   "eqLabelWithNumbers": true,
   "eqNumInitial": 1,
   "hotkeys": {
    "equation": "Ctrl-E",
    "itemize": "Ctrl-I"
   },
   "labels_anchors": false,
   "latex_user_defs": false,
   "report_style_numbering": false,
   "user_envs_cfg": false
  },
  "nteract": {
   "version": "0.12.3"
  }
 },
 "nbformat": 4,
 "nbformat_minor": 2
}
