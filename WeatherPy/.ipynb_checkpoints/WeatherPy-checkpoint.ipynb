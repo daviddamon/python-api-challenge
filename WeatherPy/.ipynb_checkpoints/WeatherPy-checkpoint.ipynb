{
 "cells": [
  {
   "cell_type": "markdown",
   "metadata": {},
   "source": [
    "# WeatherPy\n",
    "----\n",
    "\n",
    "#### Note\n",
    "* Instructions have been included for each segment. You do not have to follow them exactly, but they are included to help you think through the steps."
   ]
  },
  {
   "cell_type": "code",
   "execution_count": 40,
   "metadata": {
    "scrolled": true
   },
   "outputs": [],
   "source": [
    "# Dependencies and Setup\n",
    "import matplotlib.pyplot as plt\n",
    "import pandas as pd\n",
    "import numpy as np\n",
    "import requests\n",
    "import time\n",
    "import json\n",
    "import csv\n",
    "from scipy import stats\n",
    "from scipy.stats import linregress\n",
    "from datetime import date\n",
    "\n",
    "# Import API key\n",
    "from api_keys import weather_api_key\n",
    "\n",
    "# Incorporated citipy to determine city based on latitude and longitude\n",
    "from citipy import citipy\n",
    "\n",
    "# Output File (CSV)\n",
    "output_data_file = \"output_data/cities.csv\"\n",
    "\n",
    "# Range of latitudes and longitudes\n",
    "lat_range = (-90, 90)\n",
    "lng_range = (-180, 180)"
   ]
  },
  {
   "cell_type": "markdown",
   "metadata": {},
   "source": [
    "## Generate Cities List"
   ]
  },
  {
   "cell_type": "code",
   "execution_count": 7,
   "metadata": {},
   "outputs": [
    {
     "name": "stdout",
     "output_type": "stream",
     "text": [
      "['hilo', 'thompson', 'bugulma', 'busselton', 'usinsk', 'ushuaia', 'port alfred', 'talnakh', 'camana', 'belushya guba', 'alyangula', 'mataura', 'provideniya', 'rikitea', 'fairbanks', 'constitucion', 'pitea', 'urumqi', 'bluff', 'afua', 'furculesti', 'cape town', 'lorengau', 'saint george', 'ponta do sol', 'turkistan', 'atuona', 'esperance', 'ngukurr', 'yellowknife', 'krasnoselkup', 'nikolskoye', 'flin flon', 'talara', 'hervey bay', 'puerto ayora', 'birin', 'vaini', 'saint-philippe', 'jamestown', 'klaksvik', 'tuktoyaktuk', 'takoradi', 'arraial do cabo', 'mathbaria', 'kushiro', 'punta arenas', 'saint-augustin', 'churapcha', 'kholodnyy', 'swakopmund', 'muzhi', 'sarangani', 'inhambane', 'dikson', 'saskylakh', 'sinnamary', 'tateyama', 'hobart', 'geraldton', 'hokitika', 'mahebourg', 'odweyne', 'saint-georges', 'gander', 'faanui', 'alakurtti', 'grindavik', 'sao filipe', 'seoul', 'avarua', 'mys shmidta', 'kosh-agach', 'kapaa', 'flinders', 'quthing', 'mao', 'nyurba', 'koslan', 'ondangwa', 'iqaluit', 'tabas', 'imeni morozova', 'new norfolk', 'ahipara', 'khatanga', 'hermanus', 'bethel', 'okrika', 'taywarah', 'tocantinopolis', 'pasni', 'gubkinskiy', 'tasiilaq', 'souillac', 'jardim', 'tawkar', 'mount isa', 'bambous virieux', 'kuah', 'yaguacire', 'ancud', 'port macquarie', 'mahajanga', 'aklavik', 'barrow', 'namibe', 'bredasdorp', 'kosonsoy', 'samusu', 'kanniyakumari', 'aswan', 'ewa beach', 'bandarbeyla', 'albany', 'rawson', 'kalengwa', 'olafsvik', 'barentsburg', 'nizhniy kuranakh', 'teacapan', 'acarau', 'tabou', 'ilulissat', 'vaitupu', 'port elizabeth', 'gorontalo', 'manzhouli', 'tiksi', 'hasaki', 'concordia', 'san cristobal', 'ribeira grande', 'castro', 'bagn', 'honiara', 'san patricio', 'airai', 'cockburn town', 'grand centre', 'bathsheba', 'bobcaygeon', 'fort nelson', 'verkhnevilyuysk', 'martapura', 'lubango', 'kesova gora', 'biltine', 'tonantins', 'zhaotong', 'yokadouma', 'dingle', 'yulara', 'qaanaaq', 'yunjinghong', 'cordoba', 'carnarvon', 'senj', 'chiang khong', 'codrington', 'amderma', 'colorado springs', 'nemuro', 'georgetown', 'kalmunai', 'mount gambier', 'gat', 'taolanaro', 'qasigiannguit', 'gandu', 'westport', 'salalah', 'riyadh', 'chokurdakh', 'namatanai', 'henties bay', 'kulhudhuffushi', 'tocopilla', 'severo-kurilsk', 'bansang', 'homer', 'wukari', 'dunedin', 'sembakung', 'gravenhurst', 'palabuhanratu', 'east london', 'berlevag', 'ihosy', 'mayskiy', 'lebu', 'am timan', 'sambava', 'bengkulu', 'eureka', 'jabinyanah', 'baykit', 'iglino', 'abbeville', 'butaritari', 'ginda', 'rio grande', 'omsukchan', 'taoudenni', 'gazli', 'yandoon', 'beloha', 'tranas', 'uniontown', 'inuvik', 'grand-santi', 'vila franca do campo', 'virginia beach', 'asau', 'tooele', 'adwa', 'ust-kulom', 'torbay', 'guanica', 'port hardy', 'qafsah', 'mrakovo', 'chagda', 'bambanglipuro', 'muros', 'ak-dovurak', 'hamilton', 'nepa nagar', 'tautira', 'asfi', 'attawapiskat', 'waingapu', 'mawlaik', 'lengshuijiang', 'hailey', 'villamontes', 'kaitangata', 'luderitz', 'viligili', 'marawi', 'palmer', 'atar', 'malanje', 'poya', 'illoqqortoormiut', 'longyearbyen', 'mata', 'nelson bay', 'ulladulla', 'tazovskiy', 'shchelyayur', 'gachala', 'naranjal', 'hortobagy', 'bodden town', 'zhigansk', 'kazachinskoye', 'praia da vitoria', 'zhanakorgan', 'dwarka', 'norman wells', 'kahului', 'cherskiy', 'cidreira', 'los llanos de aridane', 'poum', 'maceio', 'yenagoa', 'havoysund', 'saleaula', 'socorro', 'sentyabrskiy', 'alice springs', 'chokwe', 'terrace', 'hope', 'narsaq', 'chuy', 'jaciara', 'katsuura', 'garden city', 'surt', 'nampula', 'pimentel', 'kavaratti', 'cumberland', 'ust-ishim', 'kutum', 'krasnyy chikoy', 'banda aceh', 'victoria', 'olinda', 'saint anthony', 'mar del plata', 'luneburg', 'kruisfontein', 'waimes', 'galiwinku', 'kifri', 'lethem', 'camacha', 'upernavik', 'vila', 'egvekinot', 'les escoumins', 'xuanzhou', 'galgani', 'hithadhoo', 'noumea', 'igarka', 'gola gokarannath', 'kazalinsk', 'tvoroyri', 'tsihombe', 'zolotinka', 'vardo', 'carnot', 'lata', 'lompoc', 'slave lake', 'addis zemen', 'aasiaat', 'hyeres', 'caravelas', 'davila', 'xinyu', 'olga', 'suntar', 'ambon', 'tezu', 'pevek', 'anekal', 'te anau', 'tambun', 'bouca', 'wewak', 'leningradskiy', 'tumannyy', 'sangmelima', 'beaverlodge', 'ilebo', 'coahuayana', 'pokhara', 'piranhas', 'half moon bay', 'phan rang', 'dicabisagan', 'brae', 'bintulu', 'outjo', 'pelasyia', 'padang', 'soe', 'ostrovnoy', 'cap malheureux', 'hami', 'la ronge', 'cuamba', 'ambilobe', 'paamiut', 'vestmannaeyjar', 'masunga', 'portland', 'bonthe', 'luis correia', 'becej', 'petatlan', 'ouidah', 'shahdadkot', 'belmonte', 'college', 'isiro', 'grand river south east', 'esfarayen', 'margate', 'auki', 'pilar', 'nizhneyansk', 'kavieng', 'chicama', 'la trinidad', 'fort morgan', 'burica', 'pechenga', 'fowa', 'vila velha', 'cabo san lucas', 'bontang', 'canutama', 'isangel', 'timucuy', 'pisco', 'almeirim', 'biloela', 'mikkeli', 'baruun-urt', 'junin', 'ordzhonikidze', 'ostrzeszow', 'yuzhno-kurilsk', 'maldonado', 'antonina', 'san carlos de bariloche', 'sawtell', 'butembo', 'broome', 'catamarca', 'charqueada', 'camabatela', 'jiddah', 'haines junction', 'vincennes', 'superior', 'valdivia', 'mackay', 'ternate', 'dutse', 'sassandra', 'port hedland', 'saint-prosper', 'sitka', 'bereda', 'kem', 'biscarrosse', 'zambezi', 'charters towers', 'benguela', 'oranjemund', 'stornoway', 'kampot', 'tuatapere', 'magalia', 'jining', 'port lincoln', 'collie', 'diadema', 'coquimbo', 'bur gabo', 'guerrero negro', 'abonnema', 'panaba', 'sorvag', 'ketchikan', 'pangnirtung', 'kota kinabalu', 'dunda', 'campina verde', 'svelgen', 'wellington', 'lagoa', 'aizpute', 'naze', 'vostok', 'manaus', 'rumoi', 'saint-michel-des-saints', 'puerto ayacucho', 'matagami', 'oksfjord', 'abu kamal', 'grayvoron', 'srednekolymsk', 'waw', 'tahe', 'tatarsk', 'melfi', 'kirakira', 'praya', 'taksimo', 'pangkalanbuun', 'vrangel', 'milkovo', 'namie', 'nouadhibou', 'kudahuvadhoo', 'hovd', 'watertown', 'santa cecilia', 'hofn', 'guiratinga', 'waipawa', 'sorland', 'high level', 'zinder', 'pascagoula', 'upala', 'kaeo', 'kloulklubed', 'makakilo city', 'mumford', 'gouyave', 'wexford', 'dongsheng', 'itarema', 'mutoko', 'mehamn', 'humaita', 'aksu', 'pavilosta', 'la fleche', 'tutoia', 'saldanha', 'matay', 'kodiak', 'comodoro rivadavia', 'mizpe ramon', 'clyde river', 'alofi', 'oudtshoorn', 'gravdal', 'bolshoye sorokino', 'lakewood', 'san rafael', 'zhaoyuan', 'keflavik', 'aykhal', 'sovetskiy', 'camiri', 'nanortalik', 'qandala', 'dabola', 'quatre cocos', 'inverness', 'buncrana', 'siyana', 'nancha', 'maumere', 'nacozari', 'moron', 'chimoio', 'ko samui', 'sonsonate', 'uni', 'hongjiang', 'wanning', 'san matias', 'kuching', 'nuuk', 'irbil', 'worland', 'santa lucia', 'veraval', 'pittsfield', 'strelka', 'katobu', 'zabolottya', 'svetlogorsk', 'ha giang', 'yondo', 'esso', 'korsakov', 'oktyabrskoye', 'leshukonskoye', 'zeya', 'dunmore east', 'ranot', 'biak', 'zhemchuzhnyy', 'mergui', 'dunhua', 'kamenskoye', 'polesovice', 'amboasary', 'pepel', 'trat', 'noshiro', 'forio', 'rio gallegos', 'yuzhno-yeniseyskiy', 'payo', 'maarianhamina', 'motygino', 'acapulco', 'moratuwa', 'aflu', 'saint-francois', 'whitianga', 'marcona', 'corinto', 'tari', 'yichang', 'salinas', 'yershov', 'kununurra', 'zhangjiakou', 'pundaguitan', 'killybegs', 'leeton', 'pimampiro', 'tual', 'pueblo', 'inirida', 'minden', 'la ligua', 'zhanaozen']\n"
     ]
    },
    {
     "data": {
      "text/plain": [
       "595"
      ]
     },
     "execution_count": 7,
     "metadata": {},
     "output_type": "execute_result"
    }
   ],
   "source": [
    "# List for holding lat_lngs and cities\n",
    "lat_lngs = []\n",
    "cities = []\n",
    "\n",
    "# Create a set of random lat and lng combinations\n",
    "lats = np.random.uniform(lat_range[0], lat_range[1], size=1500)\n",
    "lngs = np.random.uniform(lng_range[0], lng_range[1], size=1500)\n",
    "lat_lngs = zip(lats, lngs)\n",
    "\n",
    "# Identify nearest city for each lat, lng combination\n",
    "for lat_lng in lat_lngs:\n",
    "    city = citipy.nearest_city(lat_lng[0], lat_lng[1]).city_name\n",
    "    \n",
    "    # If the city is unique, then add it to a our cities list\n",
    "    if city not in cities:\n",
    "        cities.append(city)\n",
    "\n",
    "print(cities)\n",
    "        \n",
    "# Print the city count to confirm sufficient count\n",
    "len(cities)"
   ]
  },
  {
   "cell_type": "markdown",
   "metadata": {},
   "source": [
    "### Perform API Calls\n",
    "* Perform a weather check on each city using a series of successive API calls.\n",
    "* Include a print log of each city as it'sbeing processed (with the city number and city name).\n"
   ]
  },
  {
   "cell_type": "code",
   "execution_count": 8,
   "metadata": {},
   "outputs": [],
   "source": [
    "# save config information\n",
    "url = \"http://api.openweathermap.org/data/2.5/weather?\"\n",
    "units = \"imperial\"\n",
    "\n",
    "# build partial query URL\n",
    "query_url = f\"{url}appid={weather_api_key}&units={units}&q=\""
   ]
  },
  {
   "cell_type": "code",
   "execution_count": 9,
   "metadata": {
    "scrolled": false
   },
   "outputs": [
    {
     "name": "stdout",
     "output_type": "stream",
     "text": [
      "The city ID is: 5855927 and the city name is hilo\n",
      "The city ID is: 6165406 and the city name is thompson\n",
      "The city ID is: 571170 and the city name is bugulma\n",
      "The city ID is: 2075265 and the city name is busselton\n",
      "The city ID is: 863061 and the city name is usinsk\n",
      "The city ID is: 3833367 and the city name is ushuaia\n",
      "The city ID is: 964432 and the city name is port alfred\n",
      "The city ID is: 1490256 and the city name is talnakh\n",
      "The city ID is: 3945985 and the city name is camana\n",
      "City not found: belushya guba\n",
      "The city ID is: 2079582 and the city name is alyangula\n",
      "The city ID is: 6201424 and the city name is mataura\n",
      "The city ID is: 4031574 and the city name is provideniya\n",
      "The city ID is: 4030556 and the city name is rikitea\n",
      "The city ID is: 5861897 and the city name is fairbanks\n",
      "The city ID is: 3893726 and the city name is constitucion\n",
      "The city ID is: 603570 and the city name is pitea\n",
      "The city ID is: 1529102 and the city name is urumqi\n",
      "The city ID is: 2206939 and the city name is bluff\n",
      "The city ID is: 3408269 and the city name is afua\n",
      "City not found: furculesti\n",
      "The city ID is: 3369157 and the city name is cape town\n",
      "The city ID is: 2092164 and the city name is lorengau\n",
      "The city ID is: 5546220 and the city name is saint george\n",
      "The city ID is: 2264557 and the city name is ponta do sol\n",
      "The city ID is: 1524787 and the city name is turkistan\n",
      "The city ID is: 4020109 and the city name is atuona\n",
      "The city ID is: 2071860 and the city name is esperance\n",
      "City not found: ngukurr\n",
      "The city ID is: 6185377 and the city name is yellowknife\n",
      "The city ID is: 1502073 and the city name is krasnoselkup\n",
      "The city ID is: 546105 and the city name is nikolskoye\n",
      "The city ID is: 5954718 and the city name is flin flon\n",
      "The city ID is: 3691582 and the city name is talara\n",
      "The city ID is: 2146219 and the city name is hervey bay\n",
      "The city ID is: 3652764 and the city name is puerto ayora\n",
      "The city ID is: 1283334 and the city name is birin\n",
      "The city ID is: 4032243 and the city name is vaini\n",
      "The city ID is: 935215 and the city name is saint-philippe\n",
      "The city ID is: 5122534 and the city name is jamestown\n",
      "The city ID is: 2618795 and the city name is klaksvik\n",
      "The city ID is: 6170031 and the city name is tuktoyaktuk\n",
      "The city ID is: 2294915 and the city name is takoradi\n",
      "The city ID is: 3471451 and the city name is arraial do cabo\n",
      "The city ID is: 1185239 and the city name is mathbaria\n",
      "The city ID is: 2129376 and the city name is kushiro\n",
      "The city ID is: 3874787 and the city name is punta arenas\n",
      "The city ID is: 6137462 and the city name is saint-augustin\n",
      "The city ID is: 2025241 and the city name is churapcha\n",
      "The city ID is: 2124611 and the city name is kholodnyy\n",
      "The city ID is: 3352844 and the city name is swakopmund\n",
      "The city ID is: 1498161 and the city name is muzhi\n",
      "The city ID is: 1687186 and the city name is sarangani\n",
      "The city ID is: 1045114 and the city name is inhambane\n",
      "The city ID is: 1507390 and the city name is dikson\n",
      "The city ID is: 2017155 and the city name is saskylakh\n",
      "The city ID is: 3380290 and the city name is sinnamary\n",
      "The city ID is: 1850523 and the city name is tateyama\n",
      "The city ID is: 2163355 and the city name is hobart\n",
      "The city ID is: 2070998 and the city name is geraldton\n",
      "The city ID is: 2206894 and the city name is hokitika\n",
      "The city ID is: 934322 and the city name is mahebourg\n",
      "The city ID is: 53372 and the city name is odweyne\n",
      "The city ID is: 3579925 and the city name is saint-georges\n",
      "The city ID is: 5959335 and the city name is gander\n",
      "The city ID is: 4034551 and the city name is faanui\n",
      "The city ID is: 583472 and the city name is alakurtti\n",
      "The city ID is: 3416888 and the city name is grindavik\n",
      "The city ID is: 3374210 and the city name is sao filipe\n",
      "The city ID is: 1835848 and the city name is seoul\n",
      "The city ID is: 4035715 and the city name is avarua\n",
      "City not found: mys shmidta\n",
      "The city ID is: 1502422 and the city name is kosh-agach\n",
      "The city ID is: 5848280 and the city name is kapaa\n",
      "The city ID is: 6255012 and the city name is flinders\n",
      "The city ID is: 932183 and the city name is quthing\n",
      "The city ID is: 2514301 and the city name is mao\n",
      "The city ID is: 2018735 and the city name is nyurba\n",
      "The city ID is: 544084 and the city name is koslan\n",
      "The city ID is: 3354247 and the city name is ondangwa\n",
      "The city ID is: 5983720 and the city name is iqaluit\n",
      "The city ID is: 113659 and the city name is tabas\n",
      "The city ID is: 556575 and the city name is imeni morozova\n",
      "The city ID is: 2155415 and the city name is new norfolk\n",
      "The city ID is: 2194098 and the city name is ahipara\n",
      "The city ID is: 2022572 and the city name is khatanga\n",
      "The city ID is: 3366880 and the city name is hermanus\n",
      "The city ID is: 5282297 and the city name is bethel\n",
      "The city ID is: 2326899 and the city name is okrika\n",
      "The city ID is: 1122464 and the city name is taywarah\n",
      "City not found: tocantinopolis\n",
      "The city ID is: 1168312 and the city name is pasni\n",
      "The city ID is: 1539209 and the city name is gubkinskiy\n",
      "The city ID is: 3424607 and the city name is tasiilaq\n",
      "The city ID is: 933995 and the city name is souillac\n",
      "The city ID is: 3460087 and the city name is jardim\n",
      "City not found: tawkar\n",
      "The city ID is: 2065594 and the city name is mount isa\n",
      "The city ID is: 1106677 and the city name is bambous virieux\n",
      "The city ID is: 1222396 and the city name is kuah\n",
      "The city ID is: 3600271 and the city name is yaguacire\n",
      "The city ID is: 3899695 and the city name is ancud\n",
      "The city ID is: 2152659 and the city name is port macquarie\n",
      "The city ID is: 1062663 and the city name is mahajanga\n",
      "The city ID is: 5882953 and the city name is aklavik\n",
      "The city ID is: 5880054 and the city name is barrow\n",
      "The city ID is: 3347019 and the city name is namibe\n",
      "The city ID is: 1015776 and the city name is bredasdorp\n",
      "The city ID is: 1513714 and the city name is kosonsoy\n",
      "City not found: samusu\n",
      "The city ID is: 1268008 and the city name is kanniyakumari\n",
      "The city ID is: 359792 and the city name is aswan\n",
      "The city ID is: 5855051 and the city name is ewa beach\n",
      "The city ID is: 64814 and the city name is bandarbeyla\n",
      "The city ID is: 5106841 and the city name is albany\n",
      "The city ID is: 3839307 and the city name is rawson\n",
      "The city ID is: 915285 and the city name is kalengwa\n",
      "The city ID is: 3414079 and the city name is olafsvik\n",
      "City not found: barentsburg\n",
      "The city ID is: 2019135 and the city name is nizhniy kuranakh\n",
      "The city ID is: 3982287 and the city name is teacapan\n",
      "The city ID is: 3408368 and the city name is acarau\n",
      "The city ID is: 2281120 and the city name is tabou\n",
      "The city ID is: 3423146 and the city name is ilulissat\n",
      "City not found: vaitupu\n",
      "The city ID is: 964420 and the city name is port elizabeth\n",
      "The city ID is: 1643837 and the city name is gorontalo\n",
      "The city ID is: 2035836 and the city name is manzhouli\n",
      "The city ID is: 2015306 and the city name is tiksi\n",
      "The city ID is: 2112802 and the city name is hasaki\n",
      "The city ID is: 3435261 and the city name is concordia\n",
      "The city ID is: 3628473 and the city name is san cristobal\n",
      "The city ID is: 3372707 and the city name is ribeira grande\n",
      "The city ID is: 3466704 and the city name is castro\n",
      "The city ID is: 3162199 and the city name is bagn\n",
      "The city ID is: 2108502 and the city name is honiara\n",
      "The city ID is: 3985168 and the city name is san patricio\n",
      "The city ID is: 1651810 and the city name is airai\n",
      "The city ID is: 3576994 and the city name is cockburn town\n",
      "City not found: grand centre\n",
      "The city ID is: 3374083 and the city name is bathsheba\n",
      "The city ID is: 8125787 and the city name is bobcaygeon\n",
      "The city ID is: 5955902 and the city name is fort nelson\n",
      "The city ID is: 2013639 and the city name is verkhnevilyuysk\n",
      "The city ID is: 1636022 and the city name is martapura\n",
      "The city ID is: 3347762 and the city name is lubango\n",
      "The city ID is: 550949 and the city name is kesova gora\n",
      "The city ID is: 244878 and the city name is biltine\n",
      "The city ID is: 3661894 and the city name is tonantins\n",
      "The city ID is: 1784841 and the city name is zhaotong\n",
      "The city ID is: 2220853 and the city name is yokadouma\n",
      "The city ID is: 1714733 and the city name is dingle\n",
      "The city ID is: 6355222 and the city name is yulara\n",
      "The city ID is: 3831208 and the city name is qaanaaq\n",
      "City not found: yunjinghong\n",
      "The city ID is: 3860259 and the city name is cordoba\n",
      "The city ID is: 2074865 and the city name is carnarvon\n"
     ]
    },
    {
     "name": "stdout",
     "output_type": "stream",
     "text": [
      "The city ID is: 3191055 and the city name is senj\n",
      "The city ID is: 1611197 and the city name is chiang khong\n",
      "The city ID is: 2171099 and the city name is codrington\n",
      "City not found: amderma\n",
      "The city ID is: 5417598 and the city name is colorado springs\n",
      "The city ID is: 2128975 and the city name is nemuro\n",
      "The city ID is: 1735106 and the city name is georgetown\n",
      "The city ID is: 1242110 and the city name is kalmunai\n",
      "The city ID is: 2156643 and the city name is mount gambier\n",
      "The city ID is: 293842 and the city name is gat\n",
      "City not found: taolanaro\n",
      "The city ID is: 3420768 and the city name is qasigiannguit\n",
      "The city ID is: 3462601 and the city name is gandu\n",
      "The city ID is: 4845585 and the city name is westport\n",
      "The city ID is: 286621 and the city name is salalah\n",
      "The city ID is: 108410 and the city name is riyadh\n",
      "The city ID is: 2126123 and the city name is chokurdakh\n",
      "The city ID is: 2090021 and the city name is namatanai\n",
      "The city ID is: 3356832 and the city name is henties bay\n",
      "The city ID is: 1337613 and the city name is kulhudhuffushi\n",
      "The city ID is: 3869716 and the city name is tocopilla\n",
      "The city ID is: 2121385 and the city name is severo-kurilsk\n",
      "The city ID is: 2413866 and the city name is bansang\n",
      "The city ID is: 5864145 and the city name is homer\n",
      "The city ID is: 2318921 and the city name is wukari\n",
      "The city ID is: 2191562 and the city name is dunedin\n",
      "The city ID is: 1627877 and the city name is sembakung\n",
      "The city ID is: 5965546 and the city name is gravenhurst\n",
      "City not found: palabuhanratu\n",
      "The city ID is: 1006984 and the city name is east london\n",
      "The city ID is: 780687 and the city name is berlevag\n",
      "The city ID is: 1064275 and the city name is ihosy\n",
      "The city ID is: 528242 and the city name is mayskiy\n",
      "The city ID is: 3883457 and the city name is lebu\n",
      "The city ID is: 245338 and the city name is am timan\n",
      "The city ID is: 1056899 and the city name is sambava\n",
      "The city ID is: 1649150 and the city name is bengkulu\n",
      "The city ID is: 5563397 and the city name is eureka\n",
      "The city ID is: 2470260 and the city name is jabinyanah\n",
      "The city ID is: 1510689 and the city name is baykit\n",
      "The city ID is: 557563 and the city name is iglino\n",
      "The city ID is: 3038789 and the city name is abbeville\n",
      "The city ID is: 2110227 and the city name is butaritari\n",
      "The city ID is: 1253628 and the city name is ginda\n",
      "The city ID is: 3451138 and the city name is rio grande\n",
      "The city ID is: 2122493 and the city name is omsukchan\n",
      "The city ID is: 2450173 and the city name is taoudenni\n",
      "The city ID is: 1513990 and the city name is gazli\n",
      "City not found: yandoon\n",
      "The city ID is: 1067565 and the city name is beloha\n",
      "The city ID is: 2667628 and the city name is tranas\n",
      "The city ID is: 4561859 and the city name is uniontown\n",
      "The city ID is: 5983607 and the city name is inuvik\n",
      "The city ID is: 3381538 and the city name is grand-santi\n",
      "The city ID is: 3372472 and the city name is vila franca do campo\n",
      "The city ID is: 4791259 and the city name is virginia beach\n",
      "The city ID is: 686090 and the city name is asau\n",
      "The city ID is: 5783695 and the city name is tooele\n",
      "The city ID is: 344420 and the city name is adwa\n",
      "The city ID is: 478050 and the city name is ust-kulom\n",
      "The city ID is: 6167817 and the city name is torbay\n",
      "The city ID is: 4565090 and the city name is guanica\n",
      "The city ID is: 6111862 and the city name is port hardy\n",
      "City not found: qafsah\n",
      "The city ID is: 524681 and the city name is mrakovo\n",
      "City not found: chagda\n",
      "The city ID is: 1650434 and the city name is bambanglipuro\n",
      "The city ID is: 3115824 and the city name is muros\n",
      "The city ID is: 1512064 and the city name is ak-dovurak\n",
      "The city ID is: 4513583 and the city name is hamilton\n",
      "The city ID is: 1261517 and the city name is nepa nagar\n",
      "The city ID is: 4033557 and the city name is tautira\n",
      "The city ID is: 2537881 and the city name is asfi\n",
      "City not found: attawapiskat\n",
      "The city ID is: 1622318 and the city name is waingapu\n",
      "The city ID is: 1310120 and the city name is mawlaik\n",
      "The city ID is: 1804169 and the city name is lengshuijiang\n",
      "The city ID is: 5594956 and the city name is hailey\n",
      "The city ID is: 3901547 and the city name is villamontes\n",
      "The city ID is: 2208248 and the city name is kaitangata\n",
      "The city ID is: 3355672 and the city name is luderitz\n",
      "City not found: viligili\n",
      "The city ID is: 1701054 and the city name is marawi\n",
      "The city ID is: 4946620 and the city name is palmer\n",
      "The city ID is: 2381334 and the city name is atar\n",
      "The city ID is: 2239862 and the city name is malanje\n",
      "The city ID is: 2138522 and the city name is poya\n",
      "City not found: illoqqortoormiut\n",
      "The city ID is: 2729907 and the city name is longyearbyen\n",
      "The city ID is: 2732340 and the city name is mata\n",
      "The city ID is: 2155562 and the city name is nelson bay\n",
      "The city ID is: 2145554 and the city name is ulladulla\n",
      "The city ID is: 1489853 and the city name is tazovskiy\n",
      "City not found: shchelyayur\n",
      "The city ID is: 3682266 and the city name is gachala\n",
      "The city ID is: 3653882 and the city name is naranjal\n",
      "The city ID is: 719895 and the city name is hortobagy\n",
      "The city ID is: 3580733 and the city name is bodden town\n",
      "The city ID is: 2012530 and the city name is zhigansk\n",
      "The city ID is: 1504075 and the city name is kazachinskoye\n",
      "The city ID is: 3372760 and the city name is praia da vitoria\n",
      "The city ID is: 1517323 and the city name is zhanakorgan\n",
      "The city ID is: 1272140 and the city name is dwarka\n",
      "The city ID is: 6089245 and the city name is norman wells\n",
      "The city ID is: 5847411 and the city name is kahului\n",
      "The city ID is: 2126199 and the city name is cherskiy\n",
      "The city ID is: 3466165 and the city name is cidreira\n",
      "The city ID is: 2514651 and the city name is los llanos de aridane\n",
      "The city ID is: 2138555 and the city name is poum\n",
      "The city ID is: 3395981 and the city name is maceio\n",
      "The city ID is: 2318123 and the city name is yenagoa\n",
      "The city ID is: 779622 and the city name is havoysund\n",
      "City not found: saleaula\n",
      "The city ID is: 5530932 and the city name is socorro\n",
      "City not found: sentyabrskiy\n",
      "The city ID is: 2077895 and the city name is alice springs\n",
      "The city ID is: 1048364 and the city name is chokwe\n",
      "The city ID is: 6162949 and the city name is terrace\n",
      "The city ID is: 4115181 and the city name is hope\n",
      "The city ID is: 3421719 and the city name is narsaq\n",
      "The city ID is: 3443061 and the city name is chuy\n",
      "The city ID is: 3460355 and the city name is jaciara\n",
      "The city ID is: 2112309 and the city name is katsuura\n",
      "The city ID is: 4993659 and the city name is garden city\n",
      "The city ID is: 2210554 and the city name is surt\n",
      "The city ID is: 1033356 and the city name is nampula\n",
      "The city ID is: 3693584 and the city name is pimentel\n",
      "The city ID is: 1267390 and the city name is kavaratti\n",
      "The city ID is: 4462716 and the city name is cumberland\n",
      "The city ID is: 1488206 and the city name is ust-ishim\n",
      "The city ID is: 371745 and the city name is kutum\n",
      "The city ID is: 2012349 and the city name is krasnyy chikoy\n",
      "The city ID is: 1215502 and the city name is banda aceh\n",
      "The city ID is: 1819729 and the city name is victoria\n",
      "The city ID is: 3393536 and the city name is olinda\n",
      "The city ID is: 5044290 and the city name is saint anthony\n",
      "The city ID is: 3430863 and the city name is mar del plata\n",
      "The city ID is: 2875115 and the city name is luneburg\n",
      "The city ID is: 986717 and the city name is kruisfontein\n",
      "The city ID is: 2784199 and the city name is waimes\n",
      "City not found: galiwinku\n",
      "The city ID is: 94298 and the city name is kifri\n",
      "The city ID is: 3379316 and the city name is lethem\n",
      "The city ID is: 2270385 and the city name is camacha\n",
      "The city ID is: 3418910 and the city name is upernavik\n",
      "The city ID is: 7117100 and the city name is vila\n",
      "The city ID is: 4031742 and the city name is egvekinot\n",
      "The city ID is: 6944110 and the city name is les escoumins\n",
      "The city ID is: 1788081 and the city name is xuanzhou\n",
      "City not found: galgani\n",
      "The city ID is: 1282256 and the city name is hithadhoo\n",
      "The city ID is: 2139521 and the city name is noumea\n",
      "The city ID is: 1505991 and the city name is igarka\n",
      "The city ID is: 1271049 and the city name is gola gokarannath\n",
      "City not found: kazalinsk\n",
      "The city ID is: 2611060 and the city name is tvoroyri\n",
      "City not found: tsihombe\n",
      "City not found: zolotinka\n",
      "The city ID is: 777019 and the city name is vardo\n",
      "The city ID is: 2387495 and the city name is carnot\n",
      "The city ID is: 2738381 and the city name is lata\n"
     ]
    },
    {
     "name": "stdout",
     "output_type": "stream",
     "text": [
      "The city ID is: 5367788 and the city name is lompoc\n",
      "The city ID is: 6149374 and the city name is slave lake\n",
      "City not found: addis zemen\n",
      "The city ID is: 3424901 and the city name is aasiaat\n",
      "The city ID is: 6451497 and the city name is hyeres\n",
      "The city ID is: 3466980 and the city name is caravelas\n",
      "The city ID is: 1715335 and the city name is davila\n",
      "The city ID is: 1788508 and the city name is xinyu\n",
      "The city ID is: 2018553 and the city name is olga\n",
      "The city ID is: 2015913 and the city name is suntar\n",
      "The city ID is: 1651531 and the city name is ambon\n",
      "The city ID is: 1254709 and the city name is tezu\n",
      "The city ID is: 2122090 and the city name is pevek\n",
      "The city ID is: 1278609 and the city name is anekal\n",
      "The city ID is: 2181625 and the city name is te anau\n",
      "The city ID is: 1649378 and the city name is tambun\n",
      "The city ID is: 2387890 and the city name is bouca\n",
      "The city ID is: 2083537 and the city name is wewak\n",
      "The city ID is: 2123814 and the city name is leningradskiy\n",
      "City not found: tumannyy\n",
      "The city ID is: 2222230 and the city name is sangmelima\n",
      "The city ID is: 5896969 and the city name is beaverlodge\n",
      "The city ID is: 215976 and the city name is ilebo\n",
      "The city ID is: 4013679 and the city name is coahuayana\n",
      "The city ID is: 1282898 and the city name is pokhara\n",
      "The city ID is: 3453586 and the city name is piranhas\n",
      "The city ID is: 5354943 and the city name is half moon bay\n",
      "City not found: phan rang\n",
      "The city ID is: 1715015 and the city name is dicabisagan\n",
      "The city ID is: 2654970 and the city name is brae\n",
      "The city ID is: 1737486 and the city name is bintulu\n",
      "The city ID is: 3353715 and the city name is outjo\n",
      "City not found: pelasyia\n",
      "The city ID is: 1633419 and the city name is padang\n",
      "The city ID is: 1626703 and the city name is soe\n",
      "The city ID is: 556268 and the city name is ostrovnoy\n",
      "The city ID is: 934649 and the city name is cap malheureux\n",
      "The city ID is: 1529484 and the city name is hami\n",
      "The city ID is: 6050066 and the city name is la ronge\n",
      "The city ID is: 1047660 and the city name is cuamba\n",
      "The city ID is: 1082243 and the city name is ambilobe\n",
      "The city ID is: 3421193 and the city name is paamiut\n",
      "The city ID is: 3412093 and the city name is vestmannaeyjar\n",
      "The city ID is: 933390 and the city name is masunga\n",
      "The city ID is: 5746545 and the city name is portland\n",
      "The city ID is: 2409914 and the city name is bonthe\n",
      "The city ID is: 3396121 and the city name is luis correia\n",
      "The city ID is: 792814 and the city name is becej\n",
      "The city ID is: 3992842 and the city name is petatlan\n",
      "The city ID is: 2392308 and the city name is ouidah\n",
      "The city ID is: 1165638 and the city name is shahdadkot\n",
      "The city ID is: 3470137 and the city name is belmonte\n",
      "The city ID is: 5859699 and the city name is college\n",
      "The city ID is: 215771 and the city name is isiro\n",
      "City not found: grand river south east\n",
      "The city ID is: 135298 and the city name is esfarayen\n",
      "The city ID is: 2643044 and the city name is margate\n",
      "The city ID is: 2109701 and the city name is auki\n",
      "The city ID is: 3392126 and the city name is pilar\n",
      "City not found: nizhneyansk\n",
      "The city ID is: 2094342 and the city name is kavieng\n",
      "The city ID is: 3698359 and the city name is chicama\n",
      "The city ID is: 1707123 and the city name is la trinidad\n",
      "The city ID is: 5577158 and the city name is fort morgan\n",
      "City not found: burica\n",
      "The city ID is: 511865 and the city name is pechenga\n",
      "The city ID is: 2352175 and the city name is fowa\n",
      "The city ID is: 3445026 and the city name is vila velha\n",
      "The city ID is: 3985710 and the city name is cabo san lucas\n",
      "The city ID is: 1648186 and the city name is bontang\n",
      "The city ID is: 3664716 and the city name is canutama\n",
      "The city ID is: 2136825 and the city name is isangel\n",
      "The city ID is: 3515567 and the city name is timucuy\n",
      "The city ID is: 3932145 and the city name is pisco\n",
      "The city ID is: 3407903 and the city name is almeirim\n",
      "The city ID is: 2175819 and the city name is biloela\n",
      "The city ID is: 646005 and the city name is mikkeli\n",
      "The city ID is: 2032614 and the city name is baruun-urt\n",
      "The city ID is: 3853354 and the city name is junin\n",
      "The city ID is: 1520381 and the city name is ordzhonikidze\n",
      "The city ID is: 3089670 and the city name is ostrzeszow\n",
      "The city ID is: 2119447 and the city name is yuzhno-kurilsk\n",
      "The city ID is: 3441890 and the city name is maldonado\n",
      "The city ID is: 3472048 and the city name is antonina\n",
      "The city ID is: 7647007 and the city name is san carlos de bariloche\n",
      "The city ID is: 2150163 and the city name is sawtell\n",
      "The city ID is: 217562 and the city name is butembo\n",
      "The city ID is: 5110365 and the city name is broome\n",
      "The city ID is: 3837702 and the city name is catamarca\n",
      "The city ID is: 3466267 and the city name is charqueada\n",
      "The city ID is: 2242885 and the city name is camabatela\n",
      "City not found: jiddah\n",
      "The city ID is: 5969025 and the city name is haines junction\n",
      "The city ID is: 6613142 and the city name is vincennes\n",
      "The city ID is: 5275191 and the city name is superior\n",
      "The city ID is: 3868707 and the city name is valdivia\n",
      "The city ID is: 2159220 and the city name is mackay\n",
      "The city ID is: 1624041 and the city name is ternate\n",
      "The city ID is: 2344245 and the city name is dutse\n",
      "The city ID is: 2281951 and the city name is sassandra\n",
      "The city ID is: 2063042 and the city name is port hedland\n",
      "The city ID is: 6137631 and the city name is saint-prosper\n",
      "The city ID is: 5557293 and the city name is sitka\n",
      "The city ID is: 3105522 and the city name is bereda\n",
      "The city ID is: 551145 and the city name is kem\n",
      "The city ID is: 3032556 and the city name is biscarrosse\n",
      "The city ID is: 895953 and the city name is zambezi\n",
      "The city ID is: 2171722 and the city name is charters towers\n",
      "The city ID is: 3351663 and the city name is benguela\n",
      "The city ID is: 3354071 and the city name is oranjemund\n",
      "The city ID is: 2636790 and the city name is stornoway\n",
      "The city ID is: 1831112 and the city name is kampot\n",
      "The city ID is: 2180815 and the city name is tuatapere\n",
      "The city ID is: 5369690 and the city name is magalia\n",
      "The city ID is: 1805518 and the city name is jining\n",
      "The city ID is: 2063036 and the city name is port lincoln\n",
      "The city ID is: 2074113 and the city name is collie\n",
      "The city ID is: 3464739 and the city name is diadema\n",
      "The city ID is: 3893629 and the city name is coquimbo\n",
      "City not found: bur gabo\n",
      "The city ID is: 4021858 and the city name is guerrero negro\n",
      "The city ID is: 2324433 and the city name is abonnema\n",
      "The city ID is: 3521972 and the city name is panaba\n",
      "City not found: sorvag\n",
      "The city ID is: 5554428 and the city name is ketchikan\n",
      "The city ID is: 6096551 and the city name is pangnirtung\n",
      "The city ID is: 1733432 and the city name is kota kinabalu\n",
      "The city ID is: 160141 and the city name is dunda\n",
      "The city ID is: 3467860 and the city name is campina verde\n",
      "The city ID is: 3135132 and the city name is svelgen\n",
      "The city ID is: 2179537 and the city name is wellington\n",
      "The city ID is: 3372964 and the city name is lagoa\n",
      "The city ID is: 461602 and the city name is aizpute\n",
      "The city ID is: 1855540 and the city name is naze\n",
      "The city ID is: 2013279 and the city name is vostok\n",
      "The city ID is: 3663517 and the city name is manaus\n",
      "The city ID is: 2128382 and the city name is rumoi\n",
      "The city ID is: 6138802 and the city name is saint-michel-des-saints\n",
      "The city ID is: 3629710 and the city name is puerto ayacucho\n",
      "The city ID is: 6067747 and the city name is matagami\n",
      "The city ID is: 778362 and the city name is oksfjord\n",
      "The city ID is: 174448 and the city name is abu kamal\n",
      "The city ID is: 559034 and the city name is grayvoron\n",
      "The city ID is: 2121025 and the city name is srednekolymsk\n",
      "The city ID is: 363885 and the city name is waw\n",
      "The city ID is: 2034615 and the city name is tahe\n",
      "The city ID is: 1490003 and the city name is tatarsk\n",
      "The city ID is: 3173615 and the city name is melfi\n",
      "The city ID is: 2178753 and the city name is kirakira\n",
      "The city ID is: 3374333 and the city name is praya\n",
      "The city ID is: 2015701 and the city name is taksimo\n",
      "The city ID is: 1632694 and the city name is pangkalanbuun\n",
      "The city ID is: 2013258 and the city name is vrangel\n",
      "The city ID is: 2123278 and the city name is milkovo\n",
      "The city ID is: 2111704 and the city name is namie\n",
      "The city ID is: 2377457 and the city name is nouadhibou\n",
      "The city ID is: 1337607 and the city name is kudahuvadhoo\n"
     ]
    },
    {
     "name": "stdout",
     "output_type": "stream",
     "text": [
      "The city ID is: 1516048 and the city name is hovd\n",
      "The city ID is: 4954611 and the city name is watertown\n",
      "The city ID is: 3450376 and the city name is santa cecilia\n",
      "The city ID is: 2630299 and the city name is hofn\n",
      "The city ID is: 3461733 and the city name is guiratinga\n",
      "The city ID is: 2206874 and the city name is waipawa\n",
      "The city ID is: 3137469 and the city name is sorland\n",
      "The city ID is: 5975004 and the city name is high level\n",
      "The city ID is: 2437798 and the city name is zinder\n",
      "The city ID is: 4440397 and the city name is pascagoula\n",
      "The city ID is: 3621153 and the city name is upala\n",
      "The city ID is: 2189343 and the city name is kaeo\n",
      "The city ID is: 7671223 and the city name is kloulklubed\n",
      "The city ID is: 5850554 and the city name is makakilo city\n",
      "The city ID is: 2297810 and the city name is mumford\n",
      "The city ID is: 3580279 and the city name is gouyave\n",
      "The city ID is: 2960964 and the city name is wexford\n",
      "The city ID is: 1812256 and the city name is dongsheng\n",
      "The city ID is: 3393692 and the city name is itarema\n",
      "The city ID is: 884927 and the city name is mutoko\n",
      "The city ID is: 778707 and the city name is mehamn\n",
      "The city ID is: 3664078 and the city name is humaita\n",
      "The city ID is: 1529660 and the city name is aksu\n",
      "The city ID is: 456827 and the city name is pavilosta\n",
      "The city ID is: 3009443 and the city name is la fleche\n",
      "The city ID is: 3385899 and the city name is tutoia\n",
      "The city ID is: 3361934 and the city name is saldanha\n",
      "The city ID is: 352628 and the city name is matay\n",
      "The city ID is: 5866583 and the city name is kodiak\n",
      "The city ID is: 3860443 and the city name is comodoro rivadavia\n",
      "City not found: mizpe ramon\n",
      "The city ID is: 5924351 and the city name is clyde river\n",
      "The city ID is: 4036284 and the city name is alofi\n",
      "The city ID is: 967106 and the city name is oudtshoorn\n",
      "The city ID is: 3155152 and the city name is gravdal\n",
      "City not found: bolshoye sorokino\n",
      "The city ID is: 5427946 and the city name is lakewood\n",
      "The city ID is: 3836669 and the city name is san rafael\n",
      "The city ID is: 1784953 and the city name is zhaoyuan\n",
      "The city ID is: 3415496 and the city name is keflavik\n",
      "The city ID is: 2027296 and the city name is aykhal\n",
      "The city ID is: 1491230 and the city name is sovetskiy\n",
      "The city ID is: 3922414 and the city name is camiri\n",
      "The city ID is: 3421765 and the city name is nanortalik\n",
      "The city ID is: 53157 and the city name is qandala\n",
      "The city ID is: 2422442 and the city name is dabola\n",
      "The city ID is: 1106643 and the city name is quatre cocos\n",
      "The city ID is: 2646088 and the city name is inverness\n",
      "The city ID is: 2654332 and the city name is buncrana\n",
      "The city ID is: 1271543 and the city name is siyana\n",
      "The city ID is: 2035669 and the city name is nancha\n",
      "The city ID is: 1635815 and the city name is maumere\n",
      "The city ID is: 4018499 and the city name is nacozari\n",
      "The city ID is: 3430545 and the city name is moron\n",
      "The city ID is: 1049261 and the city name is chimoio\n",
      "The city ID is: 1154689 and the city name is ko samui\n",
      "The city ID is: 3583102 and the city name is sonsonate\n",
      "The city ID is: 478996 and the city name is uni\n",
      "The city ID is: 1808106 and the city name is hongjiang\n",
      "The city ID is: 1791779 and the city name is wanning\n",
      "The city ID is: 3444105 and the city name is san matias\n",
      "The city ID is: 1735634 and the city name is kuching\n",
      "The city ID is: 3421319 and the city name is nuuk\n",
      "The city ID is: 95446 and the city name is irbil\n",
      "The city ID is: 5843495 and the city name is worland\n",
      "The city ID is: 2511150 and the city name is santa lucia\n",
      "The city ID is: 1253237 and the city name is veraval\n",
      "The city ID is: 4947459 and the city name is pittsfield\n",
      "The city ID is: 1490805 and the city name is strelka\n",
      "The city ID is: 1640972 and the city name is katobu\n",
      "City not found: zabolottya\n",
      "The city ID is: 10722858 and the city name is svetlogorsk\n",
      "The city ID is: 1581349 and the city name is ha giang\n",
      "The city ID is: 3665691 and the city name is yondo\n",
      "The city ID is: 2125711 and the city name is esso\n",
      "The city ID is: 2124286 and the city name is korsakov\n",
      "The city ID is: 515805 and the city name is oktyabrskoye\n",
      "The city ID is: 535839 and the city name is leshukonskoye\n",
      "The city ID is: 2012593 and the city name is zeya\n",
      "The city ID is: 2964492 and the city name is dunmore east\n",
      "The city ID is: 1607068 and the city name is ranot\n",
      "The city ID is: 1637001 and the city name is biak\n",
      "City not found: zhemchuzhnyy\n",
      "City not found: mergui\n",
      "The city ID is: 2037534 and the city name is dunhua\n",
      "City not found: kamenskoye\n",
      "The city ID is: 3067892 and the city name is polesovice\n",
      "The city ID is: 1081790 and the city name is amboasary\n",
      "The city ID is: 2404607 and the city name is pepel\n",
      "The city ID is: 1605277 and the city name is trat\n",
      "The city ID is: 2128867 and the city name is noshiro\n",
      "The city ID is: 3176748 and the city name is forio\n",
      "The city ID is: 3838859 and the city name is rio gallegos\n",
      "City not found: yuzhno-yeniseyskiy\n",
      "The city ID is: 1638775 and the city name is payo\n",
      "The city ID is: 3041732 and the city name is maarianhamina\n",
      "The city ID is: 1498314 and the city name is motygino\n",
      "The city ID is: 3533462 and the city name is acapulco\n",
      "The city ID is: 1234633 and the city name is moratuwa\n",
      "City not found: aflu\n",
      "The city ID is: 2980080 and the city name is saint-francois\n",
      "The city ID is: 2179103 and the city name is whitianga\n",
      "City not found: marcona\n",
      "The city ID is: 259289 and the city name is corinto\n",
      "The city ID is: 2322495 and the city name is tari\n",
      "The city ID is: 1786764 and the city name is yichang\n",
      "The city ID is: 5391295 and the city name is salinas\n",
      "The city ID is: 467120 and the city name is yershov\n",
      "The city ID is: 2068110 and the city name is kununurra\n",
      "The city ID is: 2033196 and the city name is zhangjiakou\n",
      "The city ID is: 1698289 and the city name is pundaguitan\n",
      "The city ID is: 2963295 and the city name is killybegs\n",
      "The city ID is: 2160413 and the city name is leeton\n",
      "The city ID is: 3653146 and the city name is pimampiro\n",
      "The city ID is: 1623197 and the city name is tual\n",
      "The city ID is: 5435464 and the city name is pueblo\n",
      "The city ID is: 3671450 and the city name is inirida\n",
      "The city ID is: 2871039 and the city name is minden\n",
      "The city ID is: 3885456 and the city name is la ligua\n",
      "The city ID is: 607610 and the city name is zhanaozen\n"
     ]
    }
   ],
   "source": [
    "# create list to hold data\n",
    "name = []\n",
    "lat = []\n",
    "lon = []\n",
    "temp_max = []\n",
    "humidity = []\n",
    "clouds = []\n",
    "speed = []\n",
    "country = []\n",
    "dt = []\n",
    "city_id = []\n",
    "\n",
    "# loop through cities to get weather data\n",
    "for city in cities:\n",
    "    \n",
    "    try:   \n",
    "        # get weather data\n",
    "        response = requests.get(query_url + city).json()\n",
    "        name.append(response['name'])\n",
    "        lat.append(response['coord']['lat'])\n",
    "        lon.append(response['coord']['lon'])\n",
    "        temp_max.append(response['main']['temp_max'])\n",
    "        humidity.append(response['main']['humidity'])\n",
    "        clouds.append(response['clouds']['all'])\n",
    "        speed.append(response['wind']['speed'])\n",
    "        country.append(response['sys']['country'])\n",
    "        dt.append(response['dt'])\n",
    "        city_id.append(response['id'])\n",
    "        print(f\"The city ID is: {response['id']} and the city name is {city}\")\n",
    "    \n",
    "    except:\n",
    "        print(f\"City not found: {city}\")\n",
    "    \n",
    "    "
   ]
  },
  {
   "cell_type": "markdown",
   "metadata": {},
   "source": [
    "### Convert Raw Data to DataFrame\n",
    "* Export the city data into a .csv.\n",
    "* Display the DataFrame"
   ]
  },
  {
   "cell_type": "code",
   "execution_count": 10,
   "metadata": {},
   "outputs": [],
   "source": [
    "# create a dictionary from lists\n",
    "weather_dict = {\"City\":name,\n",
    "                \"Lat\":lat,\n",
    "                \"Lng\":lon,\n",
    "                \"Max_Temp\":temp_max,\n",
    "                \"Humidity\":humidity,\n",
    "                \"Cloudiness\":clouds,\n",
    "                \"Wind_Speed\":speed,\n",
    "                \"Country\":country,\n",
    "                \"Date\":dt}"
   ]
  },
  {
   "cell_type": "code",
   "execution_count": 11,
   "metadata": {},
   "outputs": [
    {
     "data": {
      "text/html": [
       "<div>\n",
       "<style scoped>\n",
       "    .dataframe tbody tr th:only-of-type {\n",
       "        vertical-align: middle;\n",
       "    }\n",
       "\n",
       "    .dataframe tbody tr th {\n",
       "        vertical-align: top;\n",
       "    }\n",
       "\n",
       "    .dataframe thead th {\n",
       "        text-align: right;\n",
       "    }\n",
       "</style>\n",
       "<table border=\"1\" class=\"dataframe\">\n",
       "  <thead>\n",
       "    <tr style=\"text-align: right;\">\n",
       "      <th></th>\n",
       "      <th>City</th>\n",
       "      <th>Lat</th>\n",
       "      <th>Lng</th>\n",
       "      <th>Max_Temp</th>\n",
       "      <th>Humidity</th>\n",
       "      <th>Cloudiness</th>\n",
       "      <th>Wind_Speed</th>\n",
       "      <th>Country</th>\n",
       "      <th>Date</th>\n",
       "    </tr>\n",
       "  </thead>\n",
       "  <tbody>\n",
       "    <tr>\n",
       "      <th>0</th>\n",
       "      <td>Hilo</td>\n",
       "      <td>19.73</td>\n",
       "      <td>-155.09</td>\n",
       "      <td>73.00</td>\n",
       "      <td>78</td>\n",
       "      <td>1</td>\n",
       "      <td>5.82</td>\n",
       "      <td>US</td>\n",
       "      <td>1595612724</td>\n",
       "    </tr>\n",
       "    <tr>\n",
       "      <th>1</th>\n",
       "      <td>Thompson</td>\n",
       "      <td>55.74</td>\n",
       "      <td>-97.86</td>\n",
       "      <td>71.60</td>\n",
       "      <td>83</td>\n",
       "      <td>90</td>\n",
       "      <td>8.05</td>\n",
       "      <td>CA</td>\n",
       "      <td>1595612726</td>\n",
       "    </tr>\n",
       "    <tr>\n",
       "      <th>2</th>\n",
       "      <td>Bugul'ma</td>\n",
       "      <td>54.55</td>\n",
       "      <td>52.80</td>\n",
       "      <td>57.02</td>\n",
       "      <td>93</td>\n",
       "      <td>0</td>\n",
       "      <td>7.96</td>\n",
       "      <td>RU</td>\n",
       "      <td>1595613547</td>\n",
       "    </tr>\n",
       "    <tr>\n",
       "      <th>3</th>\n",
       "      <td>Busselton</td>\n",
       "      <td>-33.65</td>\n",
       "      <td>115.33</td>\n",
       "      <td>44.01</td>\n",
       "      <td>75</td>\n",
       "      <td>27</td>\n",
       "      <td>11.07</td>\n",
       "      <td>AU</td>\n",
       "      <td>1595612856</td>\n",
       "    </tr>\n",
       "    <tr>\n",
       "      <th>4</th>\n",
       "      <td>Usinsk</td>\n",
       "      <td>65.99</td>\n",
       "      <td>57.53</td>\n",
       "      <td>62.44</td>\n",
       "      <td>59</td>\n",
       "      <td>66</td>\n",
       "      <td>11.34</td>\n",
       "      <td>RU</td>\n",
       "      <td>1595613548</td>\n",
       "    </tr>\n",
       "    <tr>\n",
       "      <th>...</th>\n",
       "      <td>...</td>\n",
       "      <td>...</td>\n",
       "      <td>...</td>\n",
       "      <td>...</td>\n",
       "      <td>...</td>\n",
       "      <td>...</td>\n",
       "      <td>...</td>\n",
       "      <td>...</td>\n",
       "      <td>...</td>\n",
       "    </tr>\n",
       "    <tr>\n",
       "      <th>543</th>\n",
       "      <td>Pueblo</td>\n",
       "      <td>38.25</td>\n",
       "      <td>-104.61</td>\n",
       "      <td>91.00</td>\n",
       "      <td>31</td>\n",
       "      <td>1</td>\n",
       "      <td>5.82</td>\n",
       "      <td>US</td>\n",
       "      <td>1595613639</td>\n",
       "    </tr>\n",
       "    <tr>\n",
       "      <th>544</th>\n",
       "      <td>Inírida</td>\n",
       "      <td>3.87</td>\n",
       "      <td>-67.92</td>\n",
       "      <td>81.52</td>\n",
       "      <td>81</td>\n",
       "      <td>66</td>\n",
       "      <td>4.21</td>\n",
       "      <td>CO</td>\n",
       "      <td>1595613639</td>\n",
       "    </tr>\n",
       "    <tr>\n",
       "      <th>545</th>\n",
       "      <td>Minden</td>\n",
       "      <td>52.28</td>\n",
       "      <td>8.92</td>\n",
       "      <td>70.00</td>\n",
       "      <td>64</td>\n",
       "      <td>17</td>\n",
       "      <td>10.29</td>\n",
       "      <td>DE</td>\n",
       "      <td>1595613639</td>\n",
       "    </tr>\n",
       "    <tr>\n",
       "      <th>546</th>\n",
       "      <td>La Ligua</td>\n",
       "      <td>-32.45</td>\n",
       "      <td>-71.23</td>\n",
       "      <td>60.80</td>\n",
       "      <td>59</td>\n",
       "      <td>0</td>\n",
       "      <td>6.93</td>\n",
       "      <td>CL</td>\n",
       "      <td>1595613640</td>\n",
       "    </tr>\n",
       "    <tr>\n",
       "      <th>547</th>\n",
       "      <td>Zhangaözen</td>\n",
       "      <td>43.30</td>\n",
       "      <td>52.80</td>\n",
       "      <td>82.40</td>\n",
       "      <td>26</td>\n",
       "      <td>25</td>\n",
       "      <td>11.14</td>\n",
       "      <td>KZ</td>\n",
       "      <td>1595613640</td>\n",
       "    </tr>\n",
       "  </tbody>\n",
       "</table>\n",
       "<p>548 rows × 9 columns</p>\n",
       "</div>"
      ],
      "text/plain": [
       "           City    Lat     Lng  Max_Temp  Humidity  Cloudiness  Wind_Speed  \\\n",
       "0          Hilo  19.73 -155.09     73.00        78           1        5.82   \n",
       "1      Thompson  55.74  -97.86     71.60        83          90        8.05   \n",
       "2      Bugul'ma  54.55   52.80     57.02        93           0        7.96   \n",
       "3     Busselton -33.65  115.33     44.01        75          27       11.07   \n",
       "4        Usinsk  65.99   57.53     62.44        59          66       11.34   \n",
       "..          ...    ...     ...       ...       ...         ...         ...   \n",
       "543      Pueblo  38.25 -104.61     91.00        31           1        5.82   \n",
       "544     Inírida   3.87  -67.92     81.52        81          66        4.21   \n",
       "545      Minden  52.28    8.92     70.00        64          17       10.29   \n",
       "546    La Ligua -32.45  -71.23     60.80        59           0        6.93   \n",
       "547  Zhangaözen  43.30   52.80     82.40        26          25       11.14   \n",
       "\n",
       "    Country        Date  \n",
       "0        US  1595612724  \n",
       "1        CA  1595612726  \n",
       "2        RU  1595613547  \n",
       "3        AU  1595612856  \n",
       "4        RU  1595613548  \n",
       "..      ...         ...  \n",
       "543      US  1595613639  \n",
       "544      CO  1595613639  \n",
       "545      DE  1595613639  \n",
       "546      CL  1595613640  \n",
       "547      KZ  1595613640  \n",
       "\n",
       "[548 rows x 9 columns]"
      ]
     },
     "execution_count": 11,
     "metadata": {},
     "output_type": "execute_result"
    }
   ],
   "source": [
    "# create a data frame using the dictionary\n",
    "weather_data = pd.DataFrame(weather_dict)\n",
    "weather_data"
   ]
  },
  {
   "cell_type": "code",
   "execution_count": 12,
   "metadata": {},
   "outputs": [],
   "source": [
    "# create csv from dataframe\n",
    "weather_data.to_csv(r'output_data\\raw_weather_data.csv', index=False)"
   ]
  },
  {
   "cell_type": "markdown",
   "metadata": {},
   "source": [
    "## Inspect the data and remove the cities where the humidity > 100%.\n",
    "----\n",
    "Skip this step if there are no cities that have humidity > 100%. "
   ]
  },
  {
   "cell_type": "code",
   "execution_count": 13,
   "metadata": {},
   "outputs": [
    {
     "data": {
      "text/html": [
       "<div>\n",
       "<style scoped>\n",
       "    .dataframe tbody tr th:only-of-type {\n",
       "        vertical-align: middle;\n",
       "    }\n",
       "\n",
       "    .dataframe tbody tr th {\n",
       "        vertical-align: top;\n",
       "    }\n",
       "\n",
       "    .dataframe thead th {\n",
       "        text-align: right;\n",
       "    }\n",
       "</style>\n",
       "<table border=\"1\" class=\"dataframe\">\n",
       "  <thead>\n",
       "    <tr style=\"text-align: right;\">\n",
       "      <th></th>\n",
       "      <th>Lat</th>\n",
       "      <th>Lng</th>\n",
       "      <th>Max_Temp</th>\n",
       "      <th>Humidity</th>\n",
       "      <th>Cloudiness</th>\n",
       "      <th>Wind_Speed</th>\n",
       "      <th>Date</th>\n",
       "    </tr>\n",
       "  </thead>\n",
       "  <tbody>\n",
       "    <tr>\n",
       "      <th>count</th>\n",
       "      <td>548.000000</td>\n",
       "      <td>548.000000</td>\n",
       "      <td>548.000000</td>\n",
       "      <td>548.000000</td>\n",
       "      <td>548.000000</td>\n",
       "      <td>548.000000</td>\n",
       "      <td>5.480000e+02</td>\n",
       "    </tr>\n",
       "    <tr>\n",
       "      <th>mean</th>\n",
       "      <td>19.219945</td>\n",
       "      <td>19.617792</td>\n",
       "      <td>69.121277</td>\n",
       "      <td>69.253650</td>\n",
       "      <td>49.350365</td>\n",
       "      <td>7.507609</td>\n",
       "      <td>1.595613e+09</td>\n",
       "    </tr>\n",
       "    <tr>\n",
       "      <th>std</th>\n",
       "      <td>34.341520</td>\n",
       "      <td>89.756684</td>\n",
       "      <td>14.205370</td>\n",
       "      <td>21.696837</td>\n",
       "      <td>35.528415</td>\n",
       "      <td>5.243618</td>\n",
       "      <td>2.808658e+02</td>\n",
       "    </tr>\n",
       "    <tr>\n",
       "      <th>min</th>\n",
       "      <td>-54.800000</td>\n",
       "      <td>-179.170000</td>\n",
       "      <td>33.800000</td>\n",
       "      <td>3.000000</td>\n",
       "      <td>0.000000</td>\n",
       "      <td>0.540000</td>\n",
       "      <td>1.595613e+09</td>\n",
       "    </tr>\n",
       "    <tr>\n",
       "      <th>25%</th>\n",
       "      <td>-9.615000</td>\n",
       "      <td>-58.115000</td>\n",
       "      <td>58.695000</td>\n",
       "      <td>57.000000</td>\n",
       "      <td>18.750000</td>\n",
       "      <td>3.375000</td>\n",
       "      <td>1.595613e+09</td>\n",
       "    </tr>\n",
       "    <tr>\n",
       "      <th>50%</th>\n",
       "      <td>21.405000</td>\n",
       "      <td>20.035000</td>\n",
       "      <td>70.710000</td>\n",
       "      <td>75.000000</td>\n",
       "      <td>48.500000</td>\n",
       "      <td>6.070000</td>\n",
       "      <td>1.595614e+09</td>\n",
       "    </tr>\n",
       "    <tr>\n",
       "      <th>75%</th>\n",
       "      <td>48.880000</td>\n",
       "      <td>100.867500</td>\n",
       "      <td>80.010000</td>\n",
       "      <td>87.000000</td>\n",
       "      <td>80.250000</td>\n",
       "      <td>10.260000</td>\n",
       "      <td>1.595614e+09</td>\n",
       "    </tr>\n",
       "    <tr>\n",
       "      <th>max</th>\n",
       "      <td>78.220000</td>\n",
       "      <td>178.420000</td>\n",
       "      <td>113.360000</td>\n",
       "      <td>100.000000</td>\n",
       "      <td>100.000000</td>\n",
       "      <td>31.090000</td>\n",
       "      <td>1.595614e+09</td>\n",
       "    </tr>\n",
       "  </tbody>\n",
       "</table>\n",
       "</div>"
      ],
      "text/plain": [
       "              Lat         Lng    Max_Temp    Humidity  Cloudiness  Wind_Speed  \\\n",
       "count  548.000000  548.000000  548.000000  548.000000  548.000000  548.000000   \n",
       "mean    19.219945   19.617792   69.121277   69.253650   49.350365    7.507609   \n",
       "std     34.341520   89.756684   14.205370   21.696837   35.528415    5.243618   \n",
       "min    -54.800000 -179.170000   33.800000    3.000000    0.000000    0.540000   \n",
       "25%     -9.615000  -58.115000   58.695000   57.000000   18.750000    3.375000   \n",
       "50%     21.405000   20.035000   70.710000   75.000000   48.500000    6.070000   \n",
       "75%     48.880000  100.867500   80.010000   87.000000   80.250000   10.260000   \n",
       "max     78.220000  178.420000  113.360000  100.000000  100.000000   31.090000   \n",
       "\n",
       "               Date  \n",
       "count  5.480000e+02  \n",
       "mean   1.595613e+09  \n",
       "std    2.808658e+02  \n",
       "min    1.595613e+09  \n",
       "25%    1.595613e+09  \n",
       "50%    1.595614e+09  \n",
       "75%    1.595614e+09  \n",
       "max    1.595614e+09  "
      ]
     },
     "execution_count": 13,
     "metadata": {},
     "output_type": "execute_result"
    }
   ],
   "source": [
    "# check if cities have max humidity > 100\n",
    "weather_data.describe()"
   ]
  },
  {
   "cell_type": "code",
   "execution_count": 14,
   "metadata": {},
   "outputs": [
    {
     "data": {
      "text/html": [
       "<div>\n",
       "<style scoped>\n",
       "    .dataframe tbody tr th:only-of-type {\n",
       "        vertical-align: middle;\n",
       "    }\n",
       "\n",
       "    .dataframe tbody tr th {\n",
       "        vertical-align: top;\n",
       "    }\n",
       "\n",
       "    .dataframe thead th {\n",
       "        text-align: right;\n",
       "    }\n",
       "</style>\n",
       "<table border=\"1\" class=\"dataframe\">\n",
       "  <thead>\n",
       "    <tr style=\"text-align: right;\">\n",
       "      <th></th>\n",
       "      <th>City</th>\n",
       "      <th>Lat</th>\n",
       "      <th>Lng</th>\n",
       "      <th>Max_Temp</th>\n",
       "      <th>Humidity</th>\n",
       "      <th>Cloudiness</th>\n",
       "      <th>Wind_Speed</th>\n",
       "      <th>Country</th>\n",
       "      <th>Date</th>\n",
       "    </tr>\n",
       "  </thead>\n",
       "  <tbody>\n",
       "    <tr>\n",
       "      <th>0</th>\n",
       "      <td>Hilo</td>\n",
       "      <td>19.73</td>\n",
       "      <td>-155.09</td>\n",
       "      <td>73.00</td>\n",
       "      <td>78</td>\n",
       "      <td>1</td>\n",
       "      <td>5.82</td>\n",
       "      <td>US</td>\n",
       "      <td>1595612724</td>\n",
       "    </tr>\n",
       "    <tr>\n",
       "      <th>1</th>\n",
       "      <td>Thompson</td>\n",
       "      <td>55.74</td>\n",
       "      <td>-97.86</td>\n",
       "      <td>71.60</td>\n",
       "      <td>83</td>\n",
       "      <td>90</td>\n",
       "      <td>8.05</td>\n",
       "      <td>CA</td>\n",
       "      <td>1595612726</td>\n",
       "    </tr>\n",
       "    <tr>\n",
       "      <th>2</th>\n",
       "      <td>Bugul'ma</td>\n",
       "      <td>54.55</td>\n",
       "      <td>52.80</td>\n",
       "      <td>57.02</td>\n",
       "      <td>93</td>\n",
       "      <td>0</td>\n",
       "      <td>7.96</td>\n",
       "      <td>RU</td>\n",
       "      <td>1595613547</td>\n",
       "    </tr>\n",
       "    <tr>\n",
       "      <th>3</th>\n",
       "      <td>Busselton</td>\n",
       "      <td>-33.65</td>\n",
       "      <td>115.33</td>\n",
       "      <td>44.01</td>\n",
       "      <td>75</td>\n",
       "      <td>27</td>\n",
       "      <td>11.07</td>\n",
       "      <td>AU</td>\n",
       "      <td>1595612856</td>\n",
       "    </tr>\n",
       "    <tr>\n",
       "      <th>4</th>\n",
       "      <td>Usinsk</td>\n",
       "      <td>65.99</td>\n",
       "      <td>57.53</td>\n",
       "      <td>62.44</td>\n",
       "      <td>59</td>\n",
       "      <td>66</td>\n",
       "      <td>11.34</td>\n",
       "      <td>RU</td>\n",
       "      <td>1595613548</td>\n",
       "    </tr>\n",
       "  </tbody>\n",
       "</table>\n",
       "</div>"
      ],
      "text/plain": [
       "        City    Lat     Lng  Max_Temp  Humidity  Cloudiness  Wind_Speed  \\\n",
       "0       Hilo  19.73 -155.09     73.00        78           1        5.82   \n",
       "1   Thompson  55.74  -97.86     71.60        83          90        8.05   \n",
       "2   Bugul'ma  54.55   52.80     57.02        93           0        7.96   \n",
       "3  Busselton -33.65  115.33     44.01        75          27       11.07   \n",
       "4     Usinsk  65.99   57.53     62.44        59          66       11.34   \n",
       "\n",
       "  Country        Date  \n",
       "0      US  1595612724  \n",
       "1      CA  1595612726  \n",
       "2      RU  1595613547  \n",
       "3      AU  1595612856  \n",
       "4      RU  1595613548  "
      ]
     },
     "execution_count": 14,
     "metadata": {},
     "output_type": "execute_result"
    }
   ],
   "source": [
    "clean_city_data = weather_data[weather_data['Humidity']<=100]\n",
    "clean_city_data.head()"
   ]
  },
  {
   "cell_type": "code",
   "execution_count": 15,
   "metadata": {
    "scrolled": true
   },
   "outputs": [
    {
     "data": {
      "text/plain": [
       "City          548\n",
       "Lat           548\n",
       "Lng           548\n",
       "Max_Temp      548\n",
       "Humidity      548\n",
       "Cloudiness    548\n",
       "Wind_Speed    548\n",
       "Country       548\n",
       "Date          548\n",
       "dtype: int64"
      ]
     },
     "execution_count": 15,
     "metadata": {},
     "output_type": "execute_result"
    }
   ],
   "source": [
    "#clean_city_data.count()  #delete"
   ]
  },
  {
   "cell_type": "code",
   "execution_count": null,
   "metadata": {},
   "outputs": [],
   "source": [
    "#  Get the indices of cities that have humidity over 100%.\n"
   ]
  },
  {
   "cell_type": "code",
   "execution_count": null,
   "metadata": {},
   "outputs": [],
   "source": [
    "# do I need to loop through indicies?\n",
    "#clean_city_data = weather_data.drop([0,0], inplace=False)\n",
    "\n",
    "#df.drop([0, 1])\n",
    "#DataFrame.drop(labels=None, axis=0, index=None, columns=None, level=None, inplace=False, errors='raise')"
   ]
  },
  {
   "cell_type": "code",
   "execution_count": null,
   "metadata": {},
   "outputs": [],
   "source": [
    "# Make a new DataFrame equal to the city data to drop all humidity outliers by index.\n",
    "# Passing \"inplace=False\" will make a copy of the city_data DataFrame, which we call \"clean_city_data\".\n"
   ]
  },
  {
   "cell_type": "code",
   "execution_count": null,
   "metadata": {},
   "outputs": [],
   "source": [
    "# Extract relevant fields from the data frame\n",
    "\n",
    "\n",
    "# Export the City_Data into a csv\n"
   ]
  },
  {
   "cell_type": "markdown",
   "metadata": {},
   "source": [
    "## Plotting the Data\n",
    "* Use proper labeling of the plots using plot titles (including date of analysis) and axes labels.\n",
    "* Save the plotted figures as .pngs."
   ]
  },
  {
   "cell_type": "code",
   "execution_count": 84,
   "metadata": {},
   "outputs": [
    {
     "name": "stdout",
     "output_type": "stream",
     "text": [
      "Plotted 07/24/2020\n"
     ]
    }
   ],
   "source": [
    "plot_date = date.today().strftime('%m/%d/%Y')\n",
    "#print(f'Plotted {plot_date}')"
   ]
  },
  {
   "cell_type": "markdown",
   "metadata": {},
   "source": [
    "## Latitude vs. Temperature Plot"
   ]
  },
  {
   "cell_type": "code",
   "execution_count": 82,
   "metadata": {},
   "outputs": [
    {
     "data": {
      "image/png": "[encoded data removed]",
      "text/plain": [
       "<Figure size 432x288 with 1 Axes>"
      ]
     },
     "metadata": {
      "needs_background": "light"
     },
     "output_type": "display_data"
    }
   ],
   "source": [
    "# create a Scatter Plot for temperature vs latitude\n",
    "x_values = clean_city_data['Lat']\n",
    "y_values = clean_city_data['Max_Temp']\n",
    "plt.scatter(x_values,y_values, marker=\"o\", facecolors=\"blue\", edgecolors=\"black\")\n",
    "plt.xlabel('Latitude')\n",
    "plt.ylabel('Max Temperature (F)')\n",
    "plt.title(f\"City Latitude vs Max Temperature {plot_date}\")\n",
    "plt.xlim(-85,85) # set the upper and lower limits of our x axis\n",
    "plt.ylim(20,120) # set the upper and lower limits of our y axis\n",
    "plt.savefig(\"Images/Latitude_vs_Temperature.png\")\n",
    "plt.show()"
   ]
  },
  {
   "cell_type": "markdown",
   "metadata": {},
   "source": [
    "## Latitude vs. Humidity Plot"
   ]
  },
  {
   "cell_type": "code",
   "execution_count": 85,
   "metadata": {},
   "outputs": [
    {
     "data": {
      "image/png": "[encoded data removed]",
      "text/plain": [
       "<Figure size 432x288 with 1 Axes>"
      ]
     },
     "metadata": {
      "needs_background": "light"
     },
     "output_type": "display_data"
    }
   ],
   "source": [
    "# create a Scatter Plot for humidity vs latitude\n",
    "x_values = clean_city_data['Lat']\n",
    "y_values = clean_city_data['Humidity']\n",
    "plt.scatter(x_values,y_values, marker=\"o\", facecolors=\"blue\", edgecolors=\"black\")\n",
    "plt.xlabel('Latitude')\n",
    "plt.ylabel('Humidity (%)')\n",
    "plt.title(f\"City Latitude vs Humidity {plot_date}\")\n",
    "plt.xlim(-85,85) # set the upper and lower limits of our x axis\n",
    "plt.ylim(0,100) # set the upper and lower limits of our y axis\n",
    "plt.savefig(\"Images/Latitude_vs_Humidity.png\")\n",
    "plt.show()"
   ]
  },
  {
   "cell_type": "markdown",
   "metadata": {},
   "source": [
    "## Latitude vs. Cloudiness Plot"
   ]
  },
  {
   "cell_type": "code",
   "execution_count": 27,
   "metadata": {},
   "outputs": [
    {
     "data": {
      "image/png": "[encoded data removed]",
      "text/plain": [
       "<Figure size 432x288 with 1 Axes>"
      ]
     },
     "metadata": {
      "needs_background": "light"
     },
     "output_type": "display_data"
    }
   ],
   "source": [
    "# create a Scatter Plot for cloudiness vs latitude\n",
    "x_values = clean_city_data['Lat']\n",
    "y_values = clean_city_data['Cloudiness']\n",
    "plt.scatter(x_values,y_values, marker=\"o\", facecolors=\"blue\", edgecolors=\"black\")\n",
    "plt.xlabel('Latitude')\n",
    "plt.ylabel('Cloudiness (%)')\n",
    "plt.title(\"City latitude vs Cloudiness {date.today()}\")\n",
    "plt.xlim(-85,85) # set the upper and lower limits of our x axis\n",
    "plt.ylim(0,100) # set the upper and lower limits of our y axis\n",
    "plt.savefig(\"Images/Latitude_vs_Cloudiness.png\")\n",
    "plt.show()"
   ]
  },
  {
   "cell_type": "markdown",
   "metadata": {},
   "source": [
    "## Latitude vs. Wind Speed Plot"
   ]
  },
  {
   "cell_type": "code",
   "execution_count": 31,
   "metadata": {},
   "outputs": [
    {
     "data": {
      "image/png": "[encoded data removed]",
      "text/plain": [
       "<Figure size 432x288 with 1 Axes>"
      ]
     },
     "metadata": {
      "needs_background": "light"
     },
     "output_type": "display_data"
    }
   ],
   "source": [
    "# create a Scatter Plot for wind speed vs latitude\n",
    "x_values = clean_city_data['Lat']\n",
    "y_values = clean_city_data['Wind_Speed']\n",
    "plt.scatter(x_values,y_values, marker=\"o\", facecolors=\"blue\", edgecolors=\"black\")\n",
    "plt.xlabel('Latitude')\n",
    "plt.ylabel('Wind Speed (mph)')\n",
    "plt.title(\"City latitude vs Wind Speed {date.today()}\")\n",
    "plt.xlim(-85,85) # set the upper and lower limits of our x axis\n",
    "plt.ylim(0,35) # set the upper and lower limits of our y axis\n",
    "plt.savefig(\"Images/Latitude_vs_Wind_Speed.png\")\n",
    "plt.show()"
   ]
  },
  {
   "cell_type": "markdown",
   "metadata": {},
   "source": [
    "## Linear Regression"
   ]
  },
  {
   "cell_type": "code",
   "execution_count": 32,
   "metadata": {},
   "outputs": [],
   "source": [
    "# OPTIONAL: Create a function to create Linear Regression plots"
   ]
  },
  {
   "cell_type": "code",
   "execution_count": 33,
   "metadata": {},
   "outputs": [],
   "source": [
    "# Create Northern and Southern Hemisphere DataFrames"
   ]
  },
  {
   "cell_type": "code",
   "execution_count": 35,
   "metadata": {},
   "outputs": [
    {
     "data": {
      "text/html": [
       "<div>\n",
       "<style scoped>\n",
       "    .dataframe tbody tr th:only-of-type {\n",
       "        vertical-align: middle;\n",
       "    }\n",
       "\n",
       "    .dataframe tbody tr th {\n",
       "        vertical-align: top;\n",
       "    }\n",
       "\n",
       "    .dataframe thead th {\n",
       "        text-align: right;\n",
       "    }\n",
       "</style>\n",
       "<table border=\"1\" class=\"dataframe\">\n",
       "  <thead>\n",
       "    <tr style=\"text-align: right;\">\n",
       "      <th></th>\n",
       "      <th>City</th>\n",
       "      <th>Lat</th>\n",
       "      <th>Lng</th>\n",
       "      <th>Max_Temp</th>\n",
       "      <th>Humidity</th>\n",
       "      <th>Cloudiness</th>\n",
       "      <th>Wind_Speed</th>\n",
       "      <th>Country</th>\n",
       "      <th>Date</th>\n",
       "    </tr>\n",
       "  </thead>\n",
       "  <tbody>\n",
       "    <tr>\n",
       "      <th>0</th>\n",
       "      <td>Hilo</td>\n",
       "      <td>19.73</td>\n",
       "      <td>-155.09</td>\n",
       "      <td>73.00</td>\n",
       "      <td>78</td>\n",
       "      <td>1</td>\n",
       "      <td>5.82</td>\n",
       "      <td>US</td>\n",
       "      <td>1595612724</td>\n",
       "    </tr>\n",
       "    <tr>\n",
       "      <th>1</th>\n",
       "      <td>Thompson</td>\n",
       "      <td>55.74</td>\n",
       "      <td>-97.86</td>\n",
       "      <td>71.60</td>\n",
       "      <td>83</td>\n",
       "      <td>90</td>\n",
       "      <td>8.05</td>\n",
       "      <td>CA</td>\n",
       "      <td>1595612726</td>\n",
       "    </tr>\n",
       "    <tr>\n",
       "      <th>2</th>\n",
       "      <td>Bugul'ma</td>\n",
       "      <td>54.55</td>\n",
       "      <td>52.80</td>\n",
       "      <td>57.02</td>\n",
       "      <td>93</td>\n",
       "      <td>0</td>\n",
       "      <td>7.96</td>\n",
       "      <td>RU</td>\n",
       "      <td>1595613547</td>\n",
       "    </tr>\n",
       "    <tr>\n",
       "      <th>4</th>\n",
       "      <td>Usinsk</td>\n",
       "      <td>65.99</td>\n",
       "      <td>57.53</td>\n",
       "      <td>62.44</td>\n",
       "      <td>59</td>\n",
       "      <td>66</td>\n",
       "      <td>11.34</td>\n",
       "      <td>RU</td>\n",
       "      <td>1595613548</td>\n",
       "    </tr>\n",
       "    <tr>\n",
       "      <th>7</th>\n",
       "      <td>Talnakh</td>\n",
       "      <td>69.49</td>\n",
       "      <td>88.40</td>\n",
       "      <td>51.80</td>\n",
       "      <td>71</td>\n",
       "      <td>33</td>\n",
       "      <td>17.90</td>\n",
       "      <td>RU</td>\n",
       "      <td>1595612819</td>\n",
       "    </tr>\n",
       "  </tbody>\n",
       "</table>\n",
       "</div>"
      ],
      "text/plain": [
       "       City    Lat     Lng  Max_Temp  Humidity  Cloudiness  Wind_Speed  \\\n",
       "0      Hilo  19.73 -155.09     73.00        78           1        5.82   \n",
       "1  Thompson  55.74  -97.86     71.60        83          90        8.05   \n",
       "2  Bugul'ma  54.55   52.80     57.02        93           0        7.96   \n",
       "4    Usinsk  65.99   57.53     62.44        59          66       11.34   \n",
       "7   Talnakh  69.49   88.40     51.80        71          33       17.90   \n",
       "\n",
       "  Country        Date  \n",
       "0      US  1595612724  \n",
       "1      CA  1595612726  \n",
       "2      RU  1595613547  \n",
       "4      RU  1595613548  \n",
       "7      RU  1595612819  "
      ]
     },
     "execution_count": 35,
     "metadata": {},
     "output_type": "execute_result"
    }
   ],
   "source": [
    "north_data = clean_city_data[clean_city_data['Lat']>=0]\n",
    "north_data.head()"
   ]
  },
  {
   "cell_type": "code",
   "execution_count": 36,
   "metadata": {},
   "outputs": [
    {
     "data": {
      "text/html": [
       "<div>\n",
       "<style scoped>\n",
       "    .dataframe tbody tr th:only-of-type {\n",
       "        vertical-align: middle;\n",
       "    }\n",
       "\n",
       "    .dataframe tbody tr th {\n",
       "        vertical-align: top;\n",
       "    }\n",
       "\n",
       "    .dataframe thead th {\n",
       "        text-align: right;\n",
       "    }\n",
       "</style>\n",
       "<table border=\"1\" class=\"dataframe\">\n",
       "  <thead>\n",
       "    <tr style=\"text-align: right;\">\n",
       "      <th></th>\n",
       "      <th>City</th>\n",
       "      <th>Lat</th>\n",
       "      <th>Lng</th>\n",
       "      <th>Max_Temp</th>\n",
       "      <th>Humidity</th>\n",
       "      <th>Cloudiness</th>\n",
       "      <th>Wind_Speed</th>\n",
       "      <th>Country</th>\n",
       "      <th>Date</th>\n",
       "    </tr>\n",
       "  </thead>\n",
       "  <tbody>\n",
       "    <tr>\n",
       "      <th>3</th>\n",
       "      <td>Busselton</td>\n",
       "      <td>-33.65</td>\n",
       "      <td>115.33</td>\n",
       "      <td>44.01</td>\n",
       "      <td>75</td>\n",
       "      <td>27</td>\n",
       "      <td>11.07</td>\n",
       "      <td>AU</td>\n",
       "      <td>1595612856</td>\n",
       "    </tr>\n",
       "    <tr>\n",
       "      <th>5</th>\n",
       "      <td>Ushuaia</td>\n",
       "      <td>-54.80</td>\n",
       "      <td>-68.30</td>\n",
       "      <td>37.40</td>\n",
       "      <td>86</td>\n",
       "      <td>90</td>\n",
       "      <td>20.80</td>\n",
       "      <td>AR</td>\n",
       "      <td>1595613320</td>\n",
       "    </tr>\n",
       "    <tr>\n",
       "      <th>6</th>\n",
       "      <td>Port Alfred</td>\n",
       "      <td>-33.59</td>\n",
       "      <td>26.89</td>\n",
       "      <td>65.95</td>\n",
       "      <td>43</td>\n",
       "      <td>0</td>\n",
       "      <td>9.80</td>\n",
       "      <td>ZA</td>\n",
       "      <td>1595612938</td>\n",
       "    </tr>\n",
       "    <tr>\n",
       "      <th>8</th>\n",
       "      <td>Camaná</td>\n",
       "      <td>-16.62</td>\n",
       "      <td>-72.71</td>\n",
       "      <td>62.91</td>\n",
       "      <td>72</td>\n",
       "      <td>70</td>\n",
       "      <td>14.99</td>\n",
       "      <td>PE</td>\n",
       "      <td>1595613548</td>\n",
       "    </tr>\n",
       "    <tr>\n",
       "      <th>9</th>\n",
       "      <td>Alyangula</td>\n",
       "      <td>-13.85</td>\n",
       "      <td>136.42</td>\n",
       "      <td>64.40</td>\n",
       "      <td>93</td>\n",
       "      <td>0</td>\n",
       "      <td>3.36</td>\n",
       "      <td>AU</td>\n",
       "      <td>1595613174</td>\n",
       "    </tr>\n",
       "  </tbody>\n",
       "</table>\n",
       "</div>"
      ],
      "text/plain": [
       "          City    Lat     Lng  Max_Temp  Humidity  Cloudiness  Wind_Speed  \\\n",
       "3    Busselton -33.65  115.33     44.01        75          27       11.07   \n",
       "5      Ushuaia -54.80  -68.30     37.40        86          90       20.80   \n",
       "6  Port Alfred -33.59   26.89     65.95        43           0        9.80   \n",
       "8       Camaná -16.62  -72.71     62.91        72          70       14.99   \n",
       "9    Alyangula -13.85  136.42     64.40        93           0        3.36   \n",
       "\n",
       "  Country        Date  \n",
       "3      AU  1595612856  \n",
       "5      AR  1595613320  \n",
       "6      ZA  1595612938  \n",
       "8      PE  1595613548  \n",
       "9      AU  1595613174  "
      ]
     },
     "execution_count": 36,
     "metadata": {},
     "output_type": "execute_result"
    }
   ],
   "source": [
    "south_data = clean_city_data[clean_city_data['Lat']<0]\n",
    "south_data.head()"
   ]
  },
  {
   "cell_type": "markdown",
   "metadata": {},
   "source": [
    "####  Northern Hemisphere - Max Temp vs. Latitude Linear Regression"
   ]
  },
  {
   "cell_type": "code",
   "execution_count": 55,
   "metadata": {},
   "outputs": [
    {
     "name": "stdout",
     "output_type": "stream",
     "text": [
      "The correlation between both factors is -0.6801\n"
     ]
    },
    {
     "data": {
      "image/png": "[encoded data removed]",
      "text/plain": [
       "<Figure size 432x288 with 1 Axes>"
      ]
     },
     "metadata": {
      "needs_background": "light"
     },
     "output_type": "display_data"
    }
   ],
   "source": [
    "# calculate correlation \n",
    "x_values = north_data['Lat']\n",
    "y_values = north_data['Max_Temp']\n",
    "\n",
    "correlation = stats.pearsonr(x_values,y_values)\n",
    "print(f\"The correlation between both factors is {round(correlation[0],4)}\")\n",
    "\n",
    "# create scatter plot with linear regression equation and line\n",
    "(slope, intercept, rvalue, pvalue, stderr) = linregress(x_values, y_values)\n",
    "regress_values = x_values * slope + intercept\n",
    "line_eq = \"y = \" + str(round(slope,2)) + \"x + \" + str(round(intercept,2))\n",
    "plt.scatter(x_values,y_values)\n",
    "plt.plot(x_values,regress_values,\"r-\")\n",
    "plt.annotate(line_eq,(6,10),fontsize=15,color=\"red\")\n",
    "plt.xlabel('Latitude')\n",
    "plt.ylabel('Max Temp')\n",
    "plt.show()"
   ]
  },
  {
   "cell_type": "markdown",
   "metadata": {},
   "source": [
    "####  Southern Hemisphere - Max Temp vs. Latitude Linear Regression"
   ]
  },
  {
   "cell_type": "code",
   "execution_count": 56,
   "metadata": {},
   "outputs": [
    {
     "name": "stdout",
     "output_type": "stream",
     "text": [
      "The correlation between both factors is 0.7945\n"
     ]
    },
    {
     "data": {
      "image/png": "[encoded data removed]",
      "text/plain": [
       "<Figure size 432x288 with 1 Axes>"
      ]
     },
     "metadata": {
      "needs_background": "light"
     },
     "output_type": "display_data"
    }
   ],
   "source": [
    "# calculate correlation \n",
    "x_values = south_data['Lat']\n",
    "y_values = south_data['Max_Temp']\n",
    "\n",
    "correlation = stats.pearsonr(x_values,y_values)\n",
    "print(f\"The correlation between both factors is {round(correlation[0],4)}\")\n",
    "\n",
    "# create scatter plot with linear regression equation and line\n",
    "(slope, intercept, rvalue, pvalue, stderr) = linregress(x_values, y_values)\n",
    "regress_values = x_values * slope + intercept\n",
    "line_eq = \"y = \" + str(round(slope,2)) + \"x + \" + str(round(intercept,2))\n",
    "plt.scatter(x_values,y_values)\n",
    "plt.plot(x_values,regress_values,\"r-\")\n",
    "plt.annotate(line_eq,(6,10),fontsize=15,color=\"red\")\n",
    "plt.xlabel('Latitude')\n",
    "plt.ylabel('Max Temp')\n",
    "plt.show()"
   ]
  },
  {
   "cell_type": "markdown",
   "metadata": {},
   "source": [
    "####  Northern Hemisphere - Humidity (%) vs. Latitude Linear Regression"
   ]
  },
  {
   "cell_type": "code",
   "execution_count": 57,
   "metadata": {},
   "outputs": [
    {
     "name": "stdout",
     "output_type": "stream",
     "text": [
      "The correlation between both factors is -0.0199\n"
     ]
    },
    {
     "data": {
      "image/png": "[encoded data removed]",
      "text/plain": [
       "<Figure size 432x288 with 1 Axes>"
      ]
     },
     "metadata": {
      "needs_background": "light"
     },
     "output_type": "display_data"
    }
   ],
   "source": [
    "# calculate correlation \n",
    "x_values = north_data['Lat']\n",
    "y_values = north_data['Humidity']\n",
    "\n",
    "correlation = stats.pearsonr(x_values,y_values)\n",
    "print(f\"The correlation between both factors is {round(correlation[0],4)}\")\n",
    "\n",
    "# create scatter plot with linear regression equation and line\n",
    "(slope, intercept, rvalue, pvalue, stderr) = linregress(x_values, y_values)\n",
    "regress_values = x_values * slope + intercept\n",
    "line_eq = \"y = \" + str(round(slope,2)) + \"x + \" + str(round(intercept,2))\n",
    "plt.scatter(x_values,y_values)\n",
    "plt.plot(x_values,regress_values,\"r-\")\n",
    "plt.annotate(line_eq,(6,10),fontsize=15,color=\"red\")\n",
    "plt.xlabel('Latitude')\n",
    "plt.ylabel('Humidity %')\n",
    "plt.show()"
   ]
  },
  {
   "cell_type": "markdown",
   "metadata": {},
   "source": [
    "####  Southern Hemisphere - Humidity (%) vs. Latitude Linear Regression"
   ]
  },
  {
   "cell_type": "code",
   "execution_count": 58,
   "metadata": {},
   "outputs": [
    {
     "name": "stdout",
     "output_type": "stream",
     "text": [
      "The correlation between both factors is -0.075\n"
     ]
    },
    {
     "data": {
      "image/png": "[encoded data removed]",
      "text/plain": [
       "<Figure size 432x288 with 1 Axes>"
      ]
     },
     "metadata": {
      "needs_background": "light"
     },
     "output_type": "display_data"
    }
   ],
   "source": [
    "# calculate correlation \n",
    "x_values = south_data['Lat']\n",
    "y_values = south_data['Humidity']\n",
    "\n",
    "correlation = stats.pearsonr(x_values,y_values)\n",
    "print(f\"The correlation between both factors is {round(correlation[0],4)}\")\n",
    "\n",
    "# create scatter plot with linear regression equation and line\n",
    "(slope, intercept, rvalue, pvalue, stderr) = linregress(x_values, y_values)\n",
    "regress_values = x_values * slope + intercept\n",
    "line_eq = \"y = \" + str(round(slope,2)) + \"x + \" + str(round(intercept,2))\n",
    "plt.scatter(x_values,y_values)\n",
    "plt.plot(x_values,regress_values,\"r-\")\n",
    "plt.annotate(line_eq,(6,10),fontsize=15,color=\"red\")\n",
    "plt.xlabel('Latitude')\n",
    "plt.ylabel('Humidity %')\n",
    "plt.show()"
   ]
  },
  {
   "cell_type": "markdown",
   "metadata": {},
   "source": [
    "####  Northern Hemisphere - Cloudiness (%) vs. Latitude Linear Regression"
   ]
  },
  {
   "cell_type": "code",
   "execution_count": 59,
   "metadata": {},
   "outputs": [
    {
     "name": "stdout",
     "output_type": "stream",
     "text": [
      "The correlation between both factors is -0.0424\n"
     ]
    },
    {
     "data": {
      "image/png": "[encoded data removed]",
      "text/plain": [
       "<Figure size 432x288 with 1 Axes>"
      ]
     },
     "metadata": {
      "needs_background": "light"
     },
     "output_type": "display_data"
    }
   ],
   "source": [
    "# calculate correlation \n",
    "x_values = north_data['Lat']\n",
    "y_values = north_data['Cloudiness']\n",
    "\n",
    "correlation = stats.pearsonr(x_values,y_values)\n",
    "print(f\"The correlation between both factors is {round(correlation[0],4)}\")\n",
    "\n",
    "# create scatter plot with linear regression equation and line\n",
    "(slope, intercept, rvalue, pvalue, stderr) = linregress(x_values, y_values)\n",
    "regress_values = x_values * slope + intercept\n",
    "line_eq = \"y = \" + str(round(slope,2)) + \"x + \" + str(round(intercept,2))\n",
    "plt.scatter(x_values,y_values)\n",
    "plt.plot(x_values,regress_values,\"r-\")\n",
    "plt.annotate(line_eq,(6,10),fontsize=15,color=\"red\")\n",
    "plt.xlabel('Latitude')\n",
    "plt.ylabel('Cloudiness %')\n",
    "plt.show()"
   ]
  },
  {
   "cell_type": "markdown",
   "metadata": {},
   "source": [
    "####  Southern Hemisphere - Cloudiness (%) vs. Latitude Linear Regression"
   ]
  },
  {
   "cell_type": "code",
   "execution_count": 60,
   "metadata": {},
   "outputs": [
    {
     "name": "stdout",
     "output_type": "stream",
     "text": [
      "The correlation between both factors is -0.0374\n"
     ]
    },
    {
     "data": {
      "image/png": "[encoded data removed]",
      "text/plain": [
       "<Figure size 432x288 with 1 Axes>"
      ]
     },
     "metadata": {
      "needs_background": "light"
     },
     "output_type": "display_data"
    }
   ],
   "source": [
    "# calculate correlation \n",
    "x_values = south_data['Lat']\n",
    "y_values = south_data['Cloudiness']\n",
    "\n",
    "correlation = stats.pearsonr(x_values,y_values)\n",
    "print(f\"The correlation between both factors is {round(correlation[0],4)}\")\n",
    "\n",
    "# create scatter plot with linear regression equation and line\n",
    "(slope, intercept, rvalue, pvalue, stderr) = linregress(x_values, y_values)\n",
    "regress_values = x_values * slope + intercept\n",
    "line_eq = \"y = \" + str(round(slope,2)) + \"x + \" + str(round(intercept,2))\n",
    "plt.scatter(x_values,y_values)\n",
    "plt.plot(x_values,regress_values,\"r-\")\n",
    "plt.annotate(line_eq,(6,10),fontsize=15,color=\"red\")\n",
    "plt.xlabel('Latitude')\n",
    "plt.ylabel('Cloudiness %')\n",
    "plt.show()"
   ]
  },
  {
   "cell_type": "markdown",
   "metadata": {},
   "source": [
    "####  Northern Hemisphere - Wind Speed (mph) vs. Latitude Linear Regression"
   ]
  },
  {
   "cell_type": "code",
   "execution_count": 61,
   "metadata": {},
   "outputs": [
    {
     "name": "stdout",
     "output_type": "stream",
     "text": [
      "The correlation between both factors is 0.0094\n"
     ]
    },
    {
     "data": {
      "image/png": "[encoded data removed]",
      "text/plain": [
       "<Figure size 432x288 with 1 Axes>"
      ]
     },
     "metadata": {
      "needs_background": "light"
     },
     "output_type": "display_data"
    }
   ],
   "source": [
    "# calculate correlation \n",
    "x_values = north_data['Lat']\n",
    "y_values = north_data['Wind_Speed']\n",
    "\n",
    "correlation = stats.pearsonr(x_values,y_values)\n",
    "print(f\"The correlation between both factors is {round(correlation[0],4)}\")\n",
    "\n",
    "# create scatter plot with linear regression equation and line\n",
    "(slope, intercept, rvalue, pvalue, stderr) = linregress(x_values, y_values)\n",
    "regress_values = x_values * slope + intercept\n",
    "line_eq = \"y = \" + str(round(slope,2)) + \"x + \" + str(round(intercept,2))\n",
    "plt.scatter(x_values,y_values)\n",
    "plt.plot(x_values,regress_values,\"r-\")\n",
    "plt.annotate(line_eq,(6,10),fontsize=15,color=\"red\")\n",
    "plt.xlabel('Latitude')\n",
    "plt.ylabel('Wind Speed')\n",
    "plt.show()"
   ]
  },
  {
   "cell_type": "markdown",
   "metadata": {},
   "source": [
    "####  Southern Hemisphere - Wind Speed (mph) vs. Latitude Linear Regression"
   ]
  },
  {
   "cell_type": "code",
   "execution_count": 62,
   "metadata": {},
   "outputs": [
    {
     "name": "stdout",
     "output_type": "stream",
     "text": [
      "The correlation between both factors is -0.075\n"
     ]
    },
    {
     "data": {
      "image/png": "[encoded data removed]",
      "text/plain": [
       "<Figure size 432x288 with 1 Axes>"
      ]
     },
     "metadata": {
      "needs_background": "light"
     },
     "output_type": "display_data"
    }
   ],
   "source": [
    "# calculate correlation \n",
    "x_values = south_data['Lat']\n",
    "y_values = south_data['Humidity']\n",
    "\n",
    "correlation = stats.pearsonr(x_values,y_values)\n",
    "print(f\"The correlation between both factors is {round(correlation[0],4)}\")\n",
    "\n",
    "# create scatter plot with linear regression equation and line\n",
    "(slope, intercept, rvalue, pvalue, stderr) = linregress(x_values, y_values)\n",
    "regress_values = x_values * slope + intercept\n",
    "line_eq = \"y = \" + str(round(slope,2)) + \"x + \" + str(round(intercept,2))\n",
    "plt.scatter(x_values,y_values)\n",
    "plt.plot(x_values,regress_values,\"r-\")\n",
    "plt.annotate(line_eq,(6,10),fontsize=15,color=\"red\")\n",
    "plt.xlabel('Latitude')\n",
    "plt.ylabel('Wind Speed')\n",
    "plt.show()"
   ]
  },
  {
   "cell_type": "code",
   "execution_count": null,
   "metadata": {},
   "outputs": [],
   "source": []
  }
 ],
 "metadata": {
  "anaconda-cloud": {},
  "kernel_info": {
   "name": "python3"
  },
  "kernelspec": {
   "display_name": "Python [conda env:PythonData] *",
   "language": "python",
   "name": "conda-env-PythonData-py"
  },
  "language_info": {
   "codemirror_mode": {
    "name": "ipython",
    "version": 3
   },
   "file_extension": ".py",
   "mimetype": "text/x-python",
   "name": "python",
   "nbconvert_exporter": "python",
   "pygments_lexer": "ipython3",
   "version": "3.6.10"
  },
  "latex_envs": {
   "LaTeX_envs_menu_present": true,
   "autoclose": false,
   "autocomplete": true,
   "bibliofile": "biblio.bib",
   "cite_by": "apalike",
   "current_citInitial": 1,
   "eqLabelWithNumbers": true,
   "eqNumInitial": 1,
   "hotkeys": {
    "equation": "Ctrl-E",
    "itemize": "Ctrl-I"
   },
   "labels_anchors": false,
   "latex_user_defs": false,
   "report_style_numbering": false,
   "user_envs_cfg": false
  },
  "nteract": {
   "version": "0.12.3"
  }
 },
 "nbformat": 4,
 "nbformat_minor": 2
}
