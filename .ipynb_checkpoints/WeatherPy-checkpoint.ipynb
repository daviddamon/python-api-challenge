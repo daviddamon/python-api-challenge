{
 "cells": [
  {
   "cell_type": "markdown",
   "metadata": {},
   "source": [
    "# WeatherPy\n",
    "----\n",
    "\n",
    "#### Note\n",
    "* Instructions have been included for each segment. You do not have to follow them exactly, but they are included to help you think through the steps."
   ]
  },
  {
   "cell_type": "code",
   "execution_count": 3,
   "metadata": {
    "scrolled": true
   },
   "outputs": [],
   "source": [
    "# Dependencies and Setup\n",
    "import matplotlib.pyplot as plt\n",
    "import pandas as pd\n",
    "import numpy as np\n",
    "import requests\n",
    "import time\n",
    "import json\n",
    "import csv\n",
    "from scipy import stats\n",
    "from scipy.stats import linregress\n",
    "from datetime import date\n",
    "\n",
    "# Import API key\n",
    "from api_keys import weather_api_key\n",
    "\n",
    "# Incorporated citipy to determine city based on latitude and longitude\n",
    "from citipy import citipy\n",
    "\n",
    "# Output File (CSV)\n",
    "output_data_file = \"output_data/cities.csv\"\n",
    "\n",
    "# Range of latitudes and longitudes\n",
    "lat_range = (-90, 90)\n",
    "lng_range = (-180, 180)"
   ]
  },
  {
   "cell_type": "markdown",
   "metadata": {},
   "source": [
    "## Generate Cities List"
   ]
  },
  {
   "cell_type": "code",
   "execution_count": 4,
   "metadata": {},
   "outputs": [
    {
     "name": "stdout",
     "output_type": "stream",
     "text": [
      "['atuona', 'georgetown', 'barentsburg', 'ushuaia', 'barrow', 'brokopondo', 'hilo', 'vaitupu', 'busselton', 'east london', 'esso', 'tucuman', 'constitucion', 'mocuba', 'myaundzha', 'tasiilaq', 'cape town', 'rikitea', 'ustka', 'havre-saint-pierre', 'yiyang', 'dunda', 'ponta do sol', 'vaini', 'mataura', 'punta arenas', 'ola', 'hithadhoo', 'chumikan', 'novoagansk', 'kapaa', 'victoria', 'mecca', 'clyde river', 'torbay', 'breves', 'richard toll', 'denpasar', 'sept-iles', 'ondal', 'sindor', 'laguna', 'honningsvag', 'belushya guba', 'lohja', 'mandalgovi', 'fairbanks', 'kalabo', 'westport', 'severo-kurilsk', 'dire', 'upernavik', 'ballina', 'nizhneyansk', 'saint-philippe', 'port elizabeth', 'nanortalik', 'butaritari', 'grand gaube', 'nikolskoye', 'samusu', 'chuy', 'dinsor', 'saint anthony', 'the pas', 'burnie', 'hanzhong', 'khudumelapye', 'nampula', 'kavaratti', 'cidreira', 'amderma', 'klaksvik', 'zambezi', 'diu', 'dunedin']\n"
     ]
    },
    {
     "data": {
      "text/plain": [
       "76"
      ]
     },
     "execution_count": 4,
     "metadata": {},
     "output_type": "execute_result"
    }
   ],
   "source": [
    "# List for holding lat_lngs and cities\n",
    "lat_lngs = []\n",
    "cities = []\n",
    "\n",
    "# Create a set of random lat and lng combinations\n",
    "lats = np.random.uniform(lat_range[0], lat_range[1], size=1500)\n",
    "lngs = np.random.uniform(lng_range[0], lng_range[1], size=1500)\n",
    "lat_lngs = zip(lats, lngs)\n",
    "\n",
    "# Identify nearest city for each lat, lng combination\n",
    "for lat_lng in lat_lngs:\n",
    "    city = citipy.nearest_city(lat_lng[0], lat_lng[1]).city_name\n",
    "    \n",
    "    # If the city is unique, then add it to a our cities list\n",
    "    if city not in cities:\n",
    "        cities.append(city)\n",
    "\n",
    "print(cities)\n",
    "        \n",
    "# Print the city count to confirm sufficient count\n",
    "len(cities)"
   ]
  },
  {
   "cell_type": "markdown",
   "metadata": {},
   "source": [
    "### Perform API Calls\n",
    "* Perform a weather check on each city using a series of successive API calls.\n",
    "* Include a print log of each city as it'sbeing processed (with the city number and city name).\n"
   ]
  },
  {
   "cell_type": "code",
   "execution_count": 5,
   "metadata": {},
   "outputs": [],
   "source": [
    "# save config information\n",
    "url = \"http://api.openweathermap.org/data/2.5/weather?\"\n",
    "units = \"imperial\"\n",
    "\n",
    "# build partial query URL\n",
    "query_url = f\"{url}appid={weather_api_key}&units={units}&q=\""
   ]
  },
  {
   "cell_type": "code",
   "execution_count": 6,
   "metadata": {
    "scrolled": false
   },
   "outputs": [
    {
     "name": "stdout",
     "output_type": "stream",
     "text": [
      "Processing Record 1 | The city name is atuona\n",
      "Processing Record 2 | The city name is georgetown\n",
      "City not found: barentsburg  Skipping ...\n",
      "Processing Record 4 | The city name is ushuaia\n",
      "Processing Record 5 | The city name is barrow\n",
      "Processing Record 6 | The city name is brokopondo\n",
      "Processing Record 7 | The city name is hilo\n",
      "City not found: vaitupu  Skipping ...\n",
      "Processing Record 9 | The city name is busselton\n",
      "Processing Record 10 | The city name is east london\n",
      "Processing Record 11 | The city name is esso\n",
      "Processing Record 12 | The city name is tucuman\n",
      "Processing Record 13 | The city name is constitucion\n",
      "Processing Record 14 | The city name is mocuba\n",
      "Processing Record 15 | The city name is myaundzha\n",
      "Processing Record 16 | The city name is tasiilaq\n",
      "Processing Record 17 | The city name is cape town\n",
      "Processing Record 18 | The city name is rikitea\n",
      "Processing Record 19 | The city name is ustka\n",
      "Processing Record 20 | The city name is havre-saint-pierre\n",
      "Processing Record 21 | The city name is yiyang\n",
      "Processing Record 22 | The city name is dunda\n",
      "Processing Record 23 | The city name is ponta do sol\n",
      "Processing Record 24 | The city name is vaini\n",
      "Processing Record 25 | The city name is mataura\n",
      "Processing Record 26 | The city name is punta arenas\n",
      "Processing Record 27 | The city name is ola\n",
      "Processing Record 28 | The city name is hithadhoo\n",
      "Processing Record 29 | The city name is chumikan\n",
      "Processing Record 30 | The city name is novoagansk\n",
      "Processing Record 31 | The city name is kapaa\n",
      "Processing Record 32 | The city name is victoria\n",
      "Processing Record 33 | The city name is mecca\n",
      "Processing Record 34 | The city name is clyde river\n",
      "Processing Record 35 | The city name is torbay\n",
      "Processing Record 36 | The city name is breves\n",
      "City not found: richard toll  Skipping ...\n",
      "Processing Record 38 | The city name is denpasar\n",
      "Processing Record 39 | The city name is sept-iles\n",
      "City not found: ondal  Skipping ...\n",
      "Processing Record 41 | The city name is sindor\n",
      "Processing Record 42 | The city name is laguna\n",
      "Processing Record 43 | The city name is honningsvag\n",
      "City not found: belushya guba  Skipping ...\n",
      "Processing Record 45 | The city name is lohja\n",
      "Processing Record 46 | The city name is mandalgovi\n",
      "Processing Record 47 | The city name is fairbanks\n",
      "Processing Record 48 | The city name is kalabo\n",
      "Processing Record 49 | The city name is westport\n",
      "Processing Record 50 | The city name is severo-kurilsk\n",
      "Processing Record 51 | The city name is dire\n",
      "Processing Record 52 | The city name is upernavik\n",
      "Processing Record 53 | The city name is ballina\n",
      "City not found: nizhneyansk  Skipping ...\n",
      "Processing Record 55 | The city name is saint-philippe\n",
      "Processing Record 56 | The city name is port elizabeth\n",
      "Processing Record 57 | The city name is nanortalik\n",
      "Processing Record 58 | The city name is butaritari\n",
      "Processing Record 59 | The city name is grand gaube\n",
      "Processing Record 60 | The city name is nikolskoye\n",
      "City not found: samusu  Skipping ...\n",
      "Processing Record 62 | The city name is chuy\n",
      "City not found: dinsor  Skipping ...\n",
      "Processing Record 64 | The city name is saint anthony\n",
      "Processing Record 65 | The city name is the pas\n",
      "Processing Record 66 | The city name is burnie\n",
      "Processing Record 67 | The city name is hanzhong\n",
      "Processing Record 68 | The city name is khudumelapye\n",
      "Processing Record 69 | The city name is nampula\n",
      "Processing Record 70 | The city name is kavaratti\n",
      "Processing Record 71 | The city name is cidreira\n",
      "City not found: amderma  Skipping ...\n",
      "Processing Record 73 | The city name is klaksvik\n",
      "Processing Record 74 | The city name is zambezi\n",
      "Processing Record 75 | The city name is diu\n",
      "Processing Record 76 | The city name is dunedin\n"
     ]
    }
   ],
   "source": [
    "# create list to hold data\n",
    "name = []\n",
    "lat = []\n",
    "lon = []\n",
    "temp_max = []\n",
    "humidity = []\n",
    "clouds = []\n",
    "speed = []\n",
    "country = []\n",
    "dt = []\n",
    "\n",
    "counter = 0\n",
    "\n",
    "# loop through cities to get weather data\n",
    "for city in cities:\n",
    "    \n",
    "    counter += 1\n",
    "    \n",
    "    try:   \n",
    "        # get weather data\n",
    "        response = requests.get(query_url + city).json()\n",
    "        name.append(response['name'])\n",
    "        lat.append(response['coord']['lat'])\n",
    "        lon.append(response['coord']['lon'])\n",
    "        temp_max.append(response['main']['temp_max'])\n",
    "        humidity.append(response['main']['humidity'])\n",
    "        clouds.append(response['clouds']['all'])\n",
    "        speed.append(response['wind']['speed'])\n",
    "        country.append(response['sys']['country'])\n",
    "        dt.append(response['dt'])\n",
    "        \n",
    "        print(f\"Processing Record {counter} | The city name is {city}\")\n",
    "    \n",
    "    except:\n",
    "        print(f\"City not found: {city}  Skipping ...\")\n",
    "    \n",
    "    "
   ]
  },
  {
   "cell_type": "markdown",
   "metadata": {},
   "source": [
    "### Convert Raw Data to DataFrame\n",
    "* Export the city data into a .csv.\n",
    "* Display the DataFrame"
   ]
  },
  {
   "cell_type": "code",
   "execution_count": 7,
   "metadata": {},
   "outputs": [],
   "source": [
    "# create a dictionary from lists\n",
    "weather_dict = {\"City\":name,\n",
    "                \"Lat\":lat,\n",
    "                \"Lng\":lon,\n",
    "                \"Max_Temp\":temp_max,\n",
    "                \"Humidity\":humidity,\n",
    "                \"Cloudiness\":clouds,\n",
    "                \"Wind_Speed\":speed,\n",
    "                \"Country\":country,\n",
    "                \"Date\":dt}"
   ]
  },
  {
   "cell_type": "code",
   "execution_count": 8,
   "metadata": {},
   "outputs": [
    {
     "data": {
      "text/html": [
       "<div>\n",
       "<style scoped>\n",
       "    .dataframe tbody tr th:only-of-type {\n",
       "        vertical-align: middle;\n",
       "    }\n",
       "\n",
       "    .dataframe tbody tr th {\n",
       "        vertical-align: top;\n",
       "    }\n",
       "\n",
       "    .dataframe thead th {\n",
       "        text-align: right;\n",
       "    }\n",
       "</style>\n",
       "<table border=\"1\" class=\"dataframe\">\n",
       "  <thead>\n",
       "    <tr style=\"text-align: right;\">\n",
       "      <th></th>\n",
       "      <th>City</th>\n",
       "      <th>Lat</th>\n",
       "      <th>Lng</th>\n",
       "      <th>Max_Temp</th>\n",
       "      <th>Humidity</th>\n",
       "      <th>Cloudiness</th>\n",
       "      <th>Wind_Speed</th>\n",
       "      <th>Country</th>\n",
       "      <th>Date</th>\n",
       "    </tr>\n",
       "  </thead>\n",
       "  <tbody>\n",
       "    <tr>\n",
       "      <th>0</th>\n",
       "      <td>Atuona</td>\n",
       "      <td>-9.80</td>\n",
       "      <td>-139.03</td>\n",
       "      <td>79.39</td>\n",
       "      <td>78</td>\n",
       "      <td>25</td>\n",
       "      <td>17.60</td>\n",
       "      <td>PF</td>\n",
       "      <td>1595647233</td>\n",
       "    </tr>\n",
       "    <tr>\n",
       "      <th>1</th>\n",
       "      <td>George Town</td>\n",
       "      <td>5.41</td>\n",
       "      <td>100.34</td>\n",
       "      <td>86.00</td>\n",
       "      <td>83</td>\n",
       "      <td>20</td>\n",
       "      <td>3.36</td>\n",
       "      <td>MY</td>\n",
       "      <td>1595647168</td>\n",
       "    </tr>\n",
       "    <tr>\n",
       "      <th>2</th>\n",
       "      <td>Ushuaia</td>\n",
       "      <td>-54.80</td>\n",
       "      <td>-68.30</td>\n",
       "      <td>30.20</td>\n",
       "      <td>86</td>\n",
       "      <td>90</td>\n",
       "      <td>13.87</td>\n",
       "      <td>AR</td>\n",
       "      <td>1595647046</td>\n",
       "    </tr>\n",
       "    <tr>\n",
       "      <th>3</th>\n",
       "      <td>Barrow</td>\n",
       "      <td>71.29</td>\n",
       "      <td>-156.79</td>\n",
       "      <td>35.60</td>\n",
       "      <td>80</td>\n",
       "      <td>90</td>\n",
       "      <td>11.41</td>\n",
       "      <td>US</td>\n",
       "      <td>1595647248</td>\n",
       "    </tr>\n",
       "    <tr>\n",
       "      <th>4</th>\n",
       "      <td>Distrikt Brokopondo</td>\n",
       "      <td>4.75</td>\n",
       "      <td>-55.17</td>\n",
       "      <td>77.11</td>\n",
       "      <td>84</td>\n",
       "      <td>34</td>\n",
       "      <td>5.41</td>\n",
       "      <td>SR</td>\n",
       "      <td>1595647468</td>\n",
       "    </tr>\n",
       "    <tr>\n",
       "      <th>...</th>\n",
       "      <td>...</td>\n",
       "      <td>...</td>\n",
       "      <td>...</td>\n",
       "      <td>...</td>\n",
       "      <td>...</td>\n",
       "      <td>...</td>\n",
       "      <td>...</td>\n",
       "      <td>...</td>\n",
       "      <td>...</td>\n",
       "    </tr>\n",
       "    <tr>\n",
       "      <th>62</th>\n",
       "      <td>Cidreira</td>\n",
       "      <td>-30.18</td>\n",
       "      <td>-50.21</td>\n",
       "      <td>58.78</td>\n",
       "      <td>89</td>\n",
       "      <td>100</td>\n",
       "      <td>11.36</td>\n",
       "      <td>BR</td>\n",
       "      <td>1595647070</td>\n",
       "    </tr>\n",
       "    <tr>\n",
       "      <th>63</th>\n",
       "      <td>Klaksvík</td>\n",
       "      <td>62.23</td>\n",
       "      <td>-6.59</td>\n",
       "      <td>51.80</td>\n",
       "      <td>100</td>\n",
       "      <td>100</td>\n",
       "      <td>8.05</td>\n",
       "      <td>FO</td>\n",
       "      <td>1595647392</td>\n",
       "    </tr>\n",
       "    <tr>\n",
       "      <th>64</th>\n",
       "      <td>Zambezi</td>\n",
       "      <td>-13.54</td>\n",
       "      <td>23.10</td>\n",
       "      <td>48.22</td>\n",
       "      <td>71</td>\n",
       "      <td>14</td>\n",
       "      <td>6.96</td>\n",
       "      <td>ZM</td>\n",
       "      <td>1595647473</td>\n",
       "    </tr>\n",
       "    <tr>\n",
       "      <th>65</th>\n",
       "      <td>Diu</td>\n",
       "      <td>20.71</td>\n",
       "      <td>70.98</td>\n",
       "      <td>84.15</td>\n",
       "      <td>75</td>\n",
       "      <td>98</td>\n",
       "      <td>4.68</td>\n",
       "      <td>IN</td>\n",
       "      <td>1595647473</td>\n",
       "    </tr>\n",
       "    <tr>\n",
       "      <th>66</th>\n",
       "      <td>Dunedin</td>\n",
       "      <td>-45.87</td>\n",
       "      <td>170.50</td>\n",
       "      <td>52.00</td>\n",
       "      <td>61</td>\n",
       "      <td>100</td>\n",
       "      <td>8.99</td>\n",
       "      <td>NZ</td>\n",
       "      <td>1595647254</td>\n",
       "    </tr>\n",
       "  </tbody>\n",
       "</table>\n",
       "<p>67 rows × 9 columns</p>\n",
       "</div>"
      ],
      "text/plain": [
       "                   City    Lat     Lng  Max_Temp  Humidity  Cloudiness  \\\n",
       "0                Atuona  -9.80 -139.03     79.39        78          25   \n",
       "1           George Town   5.41  100.34     86.00        83          20   \n",
       "2               Ushuaia -54.80  -68.30     30.20        86          90   \n",
       "3                Barrow  71.29 -156.79     35.60        80          90   \n",
       "4   Distrikt Brokopondo   4.75  -55.17     77.11        84          34   \n",
       "..                  ...    ...     ...       ...       ...         ...   \n",
       "62             Cidreira -30.18  -50.21     58.78        89         100   \n",
       "63             Klaksvík  62.23   -6.59     51.80       100         100   \n",
       "64              Zambezi -13.54   23.10     48.22        71          14   \n",
       "65                  Diu  20.71   70.98     84.15        75          98   \n",
       "66              Dunedin -45.87  170.50     52.00        61         100   \n",
       "\n",
       "    Wind_Speed Country        Date  \n",
       "0        17.60      PF  1595647233  \n",
       "1         3.36      MY  1595647168  \n",
       "2        13.87      AR  1595647046  \n",
       "3        11.41      US  1595647248  \n",
       "4         5.41      SR  1595647468  \n",
       "..         ...     ...         ...  \n",
       "62       11.36      BR  1595647070  \n",
       "63        8.05      FO  1595647392  \n",
       "64        6.96      ZM  1595647473  \n",
       "65        4.68      IN  1595647473  \n",
       "66        8.99      NZ  1595647254  \n",
       "\n",
       "[67 rows x 9 columns]"
      ]
     },
     "execution_count": 8,
     "metadata": {},
     "output_type": "execute_result"
    }
   ],
   "source": [
    "# create a data frame using the dictionary\n",
    "weather_data = pd.DataFrame(weather_dict)\n",
    "weather_data"
   ]
  },
  {
   "cell_type": "code",
   "execution_count": 9,
   "metadata": {},
   "outputs": [],
   "source": [
    "# create csv from dataframe\n",
    "weather_data.to_csv(r'output_data\\raw_weather_data.csv', index=False)"
   ]
  },
  {
   "cell_type": "markdown",
   "metadata": {},
   "source": [
    "## Inspect the data and remove the cities where the humidity > 100%.\n",
    "----\n",
    "Skip this step if there are no cities that have humidity > 100%. "
   ]
  },
  {
   "cell_type": "code",
   "execution_count": 10,
   "metadata": {},
   "outputs": [
    {
     "data": {
      "text/html": [
       "<div>\n",
       "<style scoped>\n",
       "    .dataframe tbody tr th:only-of-type {\n",
       "        vertical-align: middle;\n",
       "    }\n",
       "\n",
       "    .dataframe tbody tr th {\n",
       "        vertical-align: top;\n",
       "    }\n",
       "\n",
       "    .dataframe thead th {\n",
       "        text-align: right;\n",
       "    }\n",
       "</style>\n",
       "<table border=\"1\" class=\"dataframe\">\n",
       "  <thead>\n",
       "    <tr style=\"text-align: right;\">\n",
       "      <th></th>\n",
       "      <th>Lat</th>\n",
       "      <th>Lng</th>\n",
       "      <th>Max_Temp</th>\n",
       "      <th>Humidity</th>\n",
       "      <th>Cloudiness</th>\n",
       "      <th>Wind_Speed</th>\n",
       "      <th>Date</th>\n",
       "    </tr>\n",
       "  </thead>\n",
       "  <tbody>\n",
       "    <tr>\n",
       "      <th>count</th>\n",
       "      <td>67.000000</td>\n",
       "      <td>67.000000</td>\n",
       "      <td>67.000000</td>\n",
       "      <td>67.000000</td>\n",
       "      <td>67.000000</td>\n",
       "      <td>67.000000</td>\n",
       "      <td>6.700000e+01</td>\n",
       "    </tr>\n",
       "    <tr>\n",
       "      <th>mean</th>\n",
       "      <td>14.942836</td>\n",
       "      <td>12.112239</td>\n",
       "      <td>62.864030</td>\n",
       "      <td>75.194030</td>\n",
       "      <td>53.671642</td>\n",
       "      <td>8.632537</td>\n",
       "      <td>1.595647e+09</td>\n",
       "    </tr>\n",
       "    <tr>\n",
       "      <th>std</th>\n",
       "      <td>39.573691</td>\n",
       "      <td>96.806445</td>\n",
       "      <td>14.997693</td>\n",
       "      <td>16.982378</td>\n",
       "      <td>42.311395</td>\n",
       "      <td>5.431429</td>\n",
       "      <td>1.600811e+02</td>\n",
       "    </tr>\n",
       "    <tr>\n",
       "      <th>min</th>\n",
       "      <td>-54.800000</td>\n",
       "      <td>-175.200000</td>\n",
       "      <td>30.200000</td>\n",
       "      <td>26.000000</td>\n",
       "      <td>0.000000</td>\n",
       "      <td>1.250000</td>\n",
       "      <td>1.595647e+09</td>\n",
       "    </tr>\n",
       "    <tr>\n",
       "      <th>25%</th>\n",
       "      <td>-21.280000</td>\n",
       "      <td>-64.410000</td>\n",
       "      <td>51.900000</td>\n",
       "      <td>65.500000</td>\n",
       "      <td>4.500000</td>\n",
       "      <td>4.635000</td>\n",
       "      <td>1.595647e+09</td>\n",
       "    </tr>\n",
       "    <tr>\n",
       "      <th>50%</th>\n",
       "      <td>19.730000</td>\n",
       "      <td>24.070000</td>\n",
       "      <td>62.260000</td>\n",
       "      <td>78.000000</td>\n",
       "      <td>75.000000</td>\n",
       "      <td>6.930000</td>\n",
       "      <td>1.595647e+09</td>\n",
       "    </tr>\n",
       "    <tr>\n",
       "      <th>75%</th>\n",
       "      <td>54.205000</td>\n",
       "      <td>88.500000</td>\n",
       "      <td>75.595000</td>\n",
       "      <td>87.500000</td>\n",
       "      <td>98.000000</td>\n",
       "      <td>11.385000</td>\n",
       "      <td>1.595647e+09</td>\n",
       "    </tr>\n",
       "    <tr>\n",
       "      <th>max</th>\n",
       "      <td>72.790000</td>\n",
       "      <td>172.790000</td>\n",
       "      <td>93.000000</td>\n",
       "      <td>100.000000</td>\n",
       "      <td>100.000000</td>\n",
       "      <td>24.160000</td>\n",
       "      <td>1.595647e+09</td>\n",
       "    </tr>\n",
       "  </tbody>\n",
       "</table>\n",
       "</div>"
      ],
      "text/plain": [
       "             Lat         Lng   Max_Temp    Humidity  Cloudiness  Wind_Speed  \\\n",
       "count  67.000000   67.000000  67.000000   67.000000   67.000000   67.000000   \n",
       "mean   14.942836   12.112239  62.864030   75.194030   53.671642    8.632537   \n",
       "std    39.573691   96.806445  14.997693   16.982378   42.311395    5.431429   \n",
       "min   -54.800000 -175.200000  30.200000   26.000000    0.000000    1.250000   \n",
       "25%   -21.280000  -64.410000  51.900000   65.500000    4.500000    4.635000   \n",
       "50%    19.730000   24.070000  62.260000   78.000000   75.000000    6.930000   \n",
       "75%    54.205000   88.500000  75.595000   87.500000   98.000000   11.385000   \n",
       "max    72.790000  172.790000  93.000000  100.000000  100.000000   24.160000   \n",
       "\n",
       "               Date  \n",
       "count  6.700000e+01  \n",
       "mean   1.595647e+09  \n",
       "std    1.600811e+02  \n",
       "min    1.595647e+09  \n",
       "25%    1.595647e+09  \n",
       "50%    1.595647e+09  \n",
       "75%    1.595647e+09  \n",
       "max    1.595647e+09  "
      ]
     },
     "execution_count": 10,
     "metadata": {},
     "output_type": "execute_result"
    }
   ],
   "source": [
    "# check if cities have max humidity > 100\n",
    "weather_data.describe()"
   ]
  },
  {
   "cell_type": "code",
   "execution_count": 11,
   "metadata": {},
   "outputs": [
    {
     "data": {
      "text/html": [
       "<div>\n",
       "<style scoped>\n",
       "    .dataframe tbody tr th:only-of-type {\n",
       "        vertical-align: middle;\n",
       "    }\n",
       "\n",
       "    .dataframe tbody tr th {\n",
       "        vertical-align: top;\n",
       "    }\n",
       "\n",
       "    .dataframe thead th {\n",
       "        text-align: right;\n",
       "    }\n",
       "</style>\n",
       "<table border=\"1\" class=\"dataframe\">\n",
       "  <thead>\n",
       "    <tr style=\"text-align: right;\">\n",
       "      <th></th>\n",
       "      <th>City</th>\n",
       "      <th>Lat</th>\n",
       "      <th>Lng</th>\n",
       "      <th>Max_Temp</th>\n",
       "      <th>Humidity</th>\n",
       "      <th>Cloudiness</th>\n",
       "      <th>Wind_Speed</th>\n",
       "      <th>Country</th>\n",
       "      <th>Date</th>\n",
       "    </tr>\n",
       "  </thead>\n",
       "  <tbody>\n",
       "    <tr>\n",
       "      <th>0</th>\n",
       "      <td>Atuona</td>\n",
       "      <td>-9.80</td>\n",
       "      <td>-139.03</td>\n",
       "      <td>79.39</td>\n",
       "      <td>78</td>\n",
       "      <td>25</td>\n",
       "      <td>17.60</td>\n",
       "      <td>PF</td>\n",
       "      <td>1595647233</td>\n",
       "    </tr>\n",
       "    <tr>\n",
       "      <th>1</th>\n",
       "      <td>George Town</td>\n",
       "      <td>5.41</td>\n",
       "      <td>100.34</td>\n",
       "      <td>86.00</td>\n",
       "      <td>83</td>\n",
       "      <td>20</td>\n",
       "      <td>3.36</td>\n",
       "      <td>MY</td>\n",
       "      <td>1595647168</td>\n",
       "    </tr>\n",
       "    <tr>\n",
       "      <th>2</th>\n",
       "      <td>Ushuaia</td>\n",
       "      <td>-54.80</td>\n",
       "      <td>-68.30</td>\n",
       "      <td>30.20</td>\n",
       "      <td>86</td>\n",
       "      <td>90</td>\n",
       "      <td>13.87</td>\n",
       "      <td>AR</td>\n",
       "      <td>1595647046</td>\n",
       "    </tr>\n",
       "    <tr>\n",
       "      <th>3</th>\n",
       "      <td>Barrow</td>\n",
       "      <td>71.29</td>\n",
       "      <td>-156.79</td>\n",
       "      <td>35.60</td>\n",
       "      <td>80</td>\n",
       "      <td>90</td>\n",
       "      <td>11.41</td>\n",
       "      <td>US</td>\n",
       "      <td>1595647248</td>\n",
       "    </tr>\n",
       "    <tr>\n",
       "      <th>4</th>\n",
       "      <td>Distrikt Brokopondo</td>\n",
       "      <td>4.75</td>\n",
       "      <td>-55.17</td>\n",
       "      <td>77.11</td>\n",
       "      <td>84</td>\n",
       "      <td>34</td>\n",
       "      <td>5.41</td>\n",
       "      <td>SR</td>\n",
       "      <td>1595647468</td>\n",
       "    </tr>\n",
       "  </tbody>\n",
       "</table>\n",
       "</div>"
      ],
      "text/plain": [
       "                  City    Lat     Lng  Max_Temp  Humidity  Cloudiness  \\\n",
       "0               Atuona  -9.80 -139.03     79.39        78          25   \n",
       "1          George Town   5.41  100.34     86.00        83          20   \n",
       "2              Ushuaia -54.80  -68.30     30.20        86          90   \n",
       "3               Barrow  71.29 -156.79     35.60        80          90   \n",
       "4  Distrikt Brokopondo   4.75  -55.17     77.11        84          34   \n",
       "\n",
       "   Wind_Speed Country        Date  \n",
       "0       17.60      PF  1595647233  \n",
       "1        3.36      MY  1595647168  \n",
       "2       13.87      AR  1595647046  \n",
       "3       11.41      US  1595647248  \n",
       "4        5.41      SR  1595647468  "
      ]
     },
     "execution_count": 11,
     "metadata": {},
     "output_type": "execute_result"
    }
   ],
   "source": [
    "clean_city_data = weather_data[weather_data['Humidity']<=100]\n",
    "clean_city_data.head()"
   ]
  },
  {
   "cell_type": "code",
   "execution_count": 12,
   "metadata": {
    "scrolled": true
   },
   "outputs": [
    {
     "data": {
      "text/plain": [
       "City          67\n",
       "Lat           67\n",
       "Lng           67\n",
       "Max_Temp      67\n",
       "Humidity      67\n",
       "Cloudiness    67\n",
       "Wind_Speed    67\n",
       "Country       67\n",
       "Date          67\n",
       "dtype: int64"
      ]
     },
     "execution_count": 12,
     "metadata": {},
     "output_type": "execute_result"
    }
   ],
   "source": [
    "clean_city_data.count()  #delete"
   ]
  },
  {
   "cell_type": "code",
   "execution_count": 13,
   "metadata": {},
   "outputs": [],
   "source": [
    "#  Get the indices of cities that have humidity over 100%.\n"
   ]
  },
  {
   "cell_type": "code",
   "execution_count": 14,
   "metadata": {},
   "outputs": [],
   "source": [
    "# Make a new DataFrame equal to the city data to drop all humidity outliers by index.\n",
    "# Passing \"inplace=False\" will make a copy of the city_data DataFrame, which we call \"clean_city_data\".\n"
   ]
  },
  {
   "cell_type": "code",
   "execution_count": 15,
   "metadata": {},
   "outputs": [],
   "source": [
    "# Extract relevant fields from the data frame\n",
    "\n",
    "\n",
    "# Export the City_Data into a csv\n"
   ]
  },
  {
   "cell_type": "markdown",
   "metadata": {},
   "source": [
    "## Plotting the Data\n",
    "* Use proper labeling of the plots using plot titles (including date of analysis) and axes labels.\n",
    "* Save the plotted figures as .pngs."
   ]
  },
  {
   "cell_type": "code",
   "execution_count": 16,
   "metadata": {},
   "outputs": [],
   "source": [
    "plot_date = date.today().strftime('%m/%d/%Y')\n",
    "#print(f'Plotted {plot_date}')"
   ]
  },
  {
   "cell_type": "markdown",
   "metadata": {},
   "source": [
    "## Latitude vs. Temperature Plot"
   ]
  },
  {
   "cell_type": "code",
   "execution_count": 17,
   "metadata": {},
   "outputs": [
    {
     "data": {
      "image/png": "[encoded data removed]",
      "text/plain": [
       "<Figure size 432x288 with 1 Axes>"
      ]
     },
     "metadata": {
      "needs_background": "light"
     },
     "output_type": "display_data"
    }
   ],
   "source": [
    "# create a Scatter Plot for temperature vs latitude\n",
    "x_values = clean_city_data['Lat']\n",
    "y_values = clean_city_data['Max_Temp']\n",
    "plt.scatter(x_values,y_values, marker=\"o\", facecolors=\"blue\", edgecolors=\"black\")\n",
    "plt.xlabel('Latitude')\n",
    "plt.ylabel('Max Temperature (F)')\n",
    "plt.title(f\"City Latitude vs Max Temperature {plot_date}\")\n",
    "plt.xlim(-65,85) # set the upper and lower limits of our x axis\n",
    "plt.ylim(20,110) # set the upper and lower limits of our y axis\n",
    "plt.grid()\n",
    "plt.savefig(\"output_data/Latitude_vs_Temperature.png\")\n",
    "plt.show()"
   ]
  },
  {
   "cell_type": "markdown",
   "metadata": {},
   "source": [
    "## Latitude vs. Humidity Plot"
   ]
  },
  {
   "cell_type": "code",
   "execution_count": 19,
   "metadata": {},
   "outputs": [
    {
     "data": {
      "image/png": "[encoded data removed]",
      "text/plain": [
       "<Figure size 432x288 with 1 Axes>"
      ]
     },
     "metadata": {
      "needs_background": "light"
     },
     "output_type": "display_data"
    }
   ],
   "source": [
    "# create a Scatter Plot for humidity vs latitude\n",
    "x_values = clean_city_data['Lat']\n",
    "y_values = clean_city_data['Humidity']\n",
    "plt.scatter(x_values,y_values, marker=\"o\", facecolors=\"blue\", edgecolors=\"black\")\n",
    "plt.xlabel('Latitude')\n",
    "plt.ylabel('Humidity (%)')\n",
    "plt.title(f\"City Latitude vs Humidity {plot_date}\")\n",
    "plt.xlim(-85,85) # set the upper and lower limits of our x axis\n",
    "plt.ylim(0,110) # set the upper and lower limits of our y axis\n",
    "plt.grid()\n",
    "plt.savefig(\"output_data/Latitude_vs_Humidity.png\")\n",
    "plt.show()"
   ]
  },
  {
   "cell_type": "markdown",
   "metadata": {},
   "source": [
    "## Latitude vs. Cloudiness Plot"
   ]
  },
  {
   "cell_type": "code",
   "execution_count": 20,
   "metadata": {},
   "outputs": [
    {
     "data": {
      "image/png": "[encoded data removed]",
      "text/plain": [
       "<Figure size 432x288 with 1 Axes>"
      ]
     },
     "metadata": {
      "needs_background": "light"
     },
     "output_type": "display_data"
    }
   ],
   "source": [
    "# create a Scatter Plot for cloudiness vs latitude\n",
    "x_values = clean_city_data['Lat']\n",
    "y_values = clean_city_data['Cloudiness']\n",
    "plt.scatter(x_values,y_values, marker=\"o\", facecolors=\"blue\", edgecolors=\"black\")\n",
    "plt.xlabel('Latitude')\n",
    "plt.ylabel('Cloudiness (%)')\n",
    "plt.title(f\"City Latitude vs Cloudiness {plot_date}\")\n",
    "plt.xlim(-85,85) # set the upper and lower limits of our x axis\n",
    "plt.ylim(0,110) # set the upper and lower limits of our y axis\n",
    "plt.grid()\n",
    "plt.savefig(\"output_data/Latitude_vs_Cloudiness.png\")\n",
    "plt.show()"
   ]
  },
  {
   "cell_type": "markdown",
   "metadata": {},
   "source": [
    "## Latitude vs. Wind Speed Plot"
   ]
  },
  {
   "cell_type": "code",
   "execution_count": 21,
   "metadata": {},
   "outputs": [
    {
     "data": {
      "image/png": "[encoded data removed]",
      "text/plain": [
       "<Figure size 432x288 with 1 Axes>"
      ]
     },
     "metadata": {
      "needs_background": "light"
     },
     "output_type": "display_data"
    }
   ],
   "source": [
    "# create a Scatter Plot for wind speed vs latitude\n",
    "x_values = clean_city_data['Lat']\n",
    "y_values = clean_city_data['Wind_Speed']\n",
    "plt.scatter(x_values,y_values, marker=\"o\", facecolors=\"blue\", edgecolors=\"black\")\n",
    "plt.xlabel('Latitude')\n",
    "plt.ylabel('Wind Speed (mph)')\n",
    "plt.title(f\"City Latitude vs Wind Speed {plot_date}\")\n",
    "plt.xlim(-85,85) # set the upper and lower limits of our x axis\n",
    "plt.ylim(0,35) # set the upper and lower limits of our y axis\n",
    "plt.grid()\n",
    "plt.savefig(\"output_data/Latitude_vs_Wind_Speed.png\")\n",
    "plt.show()"
   ]
  },
  {
   "cell_type": "markdown",
   "metadata": {},
   "source": [
    "## Linear Regression"
   ]
  },
  {
   "cell_type": "code",
   "execution_count": 22,
   "metadata": {},
   "outputs": [],
   "source": [
    "# OPTIONAL: Create a function to create Linear Regression plots"
   ]
  },
  {
   "cell_type": "code",
   "execution_count": 23,
   "metadata": {},
   "outputs": [],
   "source": [
    "# Create Northern and Southern Hemisphere DataFrames"
   ]
  },
  {
   "cell_type": "code",
   "execution_count": 26,
   "metadata": {},
   "outputs": [
    {
     "data": {
      "text/html": [
       "<div>\n",
       "<style scoped>\n",
       "    .dataframe tbody tr th:only-of-type {\n",
       "        vertical-align: middle;\n",
       "    }\n",
       "\n",
       "    .dataframe tbody tr th {\n",
       "        vertical-align: top;\n",
       "    }\n",
       "\n",
       "    .dataframe thead th {\n",
       "        text-align: right;\n",
       "    }\n",
       "</style>\n",
       "<table border=\"1\" class=\"dataframe\">\n",
       "  <thead>\n",
       "    <tr style=\"text-align: right;\">\n",
       "      <th></th>\n",
       "      <th>City</th>\n",
       "      <th>Lat</th>\n",
       "      <th>Lng</th>\n",
       "      <th>Max_Temp</th>\n",
       "      <th>Humidity</th>\n",
       "      <th>Cloudiness</th>\n",
       "      <th>Wind_Speed</th>\n",
       "      <th>Country</th>\n",
       "      <th>Date</th>\n",
       "    </tr>\n",
       "  </thead>\n",
       "  <tbody>\n",
       "    <tr>\n",
       "      <th>1</th>\n",
       "      <td>George Town</td>\n",
       "      <td>5.41</td>\n",
       "      <td>100.34</td>\n",
       "      <td>86.00</td>\n",
       "      <td>83</td>\n",
       "      <td>20</td>\n",
       "      <td>3.36</td>\n",
       "      <td>MY</td>\n",
       "      <td>1595647168</td>\n",
       "    </tr>\n",
       "    <tr>\n",
       "      <th>3</th>\n",
       "      <td>Barrow</td>\n",
       "      <td>71.29</td>\n",
       "      <td>-156.79</td>\n",
       "      <td>35.60</td>\n",
       "      <td>80</td>\n",
       "      <td>90</td>\n",
       "      <td>11.41</td>\n",
       "      <td>US</td>\n",
       "      <td>1595647248</td>\n",
       "    </tr>\n",
       "    <tr>\n",
       "      <th>4</th>\n",
       "      <td>Distrikt Brokopondo</td>\n",
       "      <td>4.75</td>\n",
       "      <td>-55.17</td>\n",
       "      <td>77.11</td>\n",
       "      <td>84</td>\n",
       "      <td>34</td>\n",
       "      <td>5.41</td>\n",
       "      <td>SR</td>\n",
       "      <td>1595647468</td>\n",
       "    </tr>\n",
       "    <tr>\n",
       "      <th>5</th>\n",
       "      <td>Hilo</td>\n",
       "      <td>19.73</td>\n",
       "      <td>-155.09</td>\n",
       "      <td>82.40</td>\n",
       "      <td>69</td>\n",
       "      <td>20</td>\n",
       "      <td>4.70</td>\n",
       "      <td>US</td>\n",
       "      <td>1595647050</td>\n",
       "    </tr>\n",
       "    <tr>\n",
       "      <th>8</th>\n",
       "      <td>Esso</td>\n",
       "      <td>55.93</td>\n",
       "      <td>158.70</td>\n",
       "      <td>70.45</td>\n",
       "      <td>35</td>\n",
       "      <td>7</td>\n",
       "      <td>3.27</td>\n",
       "      <td>RU</td>\n",
       "      <td>1595647468</td>\n",
       "    </tr>\n",
       "  </tbody>\n",
       "</table>\n",
       "</div>"
      ],
      "text/plain": [
       "                  City    Lat     Lng  Max_Temp  Humidity  Cloudiness  \\\n",
       "1          George Town   5.41  100.34     86.00        83          20   \n",
       "3               Barrow  71.29 -156.79     35.60        80          90   \n",
       "4  Distrikt Brokopondo   4.75  -55.17     77.11        84          34   \n",
       "5                 Hilo  19.73 -155.09     82.40        69          20   \n",
       "8                 Esso  55.93  158.70     70.45        35           7   \n",
       "\n",
       "   Wind_Speed Country        Date  \n",
       "1        3.36      MY  1595647168  \n",
       "3       11.41      US  1595647248  \n",
       "4        5.41      SR  1595647468  \n",
       "5        4.70      US  1595647050  \n",
       "8        3.27      RU  1595647468  "
      ]
     },
     "execution_count": 26,
     "metadata": {},
     "output_type": "execute_result"
    }
   ],
   "source": [
    "north_data = clean_city_data[clean_city_data['Lat']>=0]\n",
    "north_data.head()"
   ]
  },
  {
   "cell_type": "code",
   "execution_count": 28,
   "metadata": {},
   "outputs": [
    {
     "data": {
      "text/html": [
       "<div>\n",
       "<style scoped>\n",
       "    .dataframe tbody tr th:only-of-type {\n",
       "        vertical-align: middle;\n",
       "    }\n",
       "\n",
       "    .dataframe tbody tr th {\n",
       "        vertical-align: top;\n",
       "    }\n",
       "\n",
       "    .dataframe thead th {\n",
       "        text-align: right;\n",
       "    }\n",
       "</style>\n",
       "<table border=\"1\" class=\"dataframe\">\n",
       "  <thead>\n",
       "    <tr style=\"text-align: right;\">\n",
       "      <th></th>\n",
       "      <th>City</th>\n",
       "      <th>Lat</th>\n",
       "      <th>Lng</th>\n",
       "      <th>Max_Temp</th>\n",
       "      <th>Humidity</th>\n",
       "      <th>Cloudiness</th>\n",
       "      <th>Wind_Speed</th>\n",
       "      <th>Country</th>\n",
       "      <th>Date</th>\n",
       "    </tr>\n",
       "  </thead>\n",
       "  <tbody>\n",
       "    <tr>\n",
       "      <th>0</th>\n",
       "      <td>Atuona</td>\n",
       "      <td>-9.80</td>\n",
       "      <td>-139.03</td>\n",
       "      <td>79.39</td>\n",
       "      <td>78</td>\n",
       "      <td>25</td>\n",
       "      <td>17.60</td>\n",
       "      <td>PF</td>\n",
       "      <td>1595647233</td>\n",
       "    </tr>\n",
       "    <tr>\n",
       "      <th>2</th>\n",
       "      <td>Ushuaia</td>\n",
       "      <td>-54.80</td>\n",
       "      <td>-68.30</td>\n",
       "      <td>30.20</td>\n",
       "      <td>86</td>\n",
       "      <td>90</td>\n",
       "      <td>13.87</td>\n",
       "      <td>AR</td>\n",
       "      <td>1595647046</td>\n",
       "    </tr>\n",
       "    <tr>\n",
       "      <th>6</th>\n",
       "      <td>Busselton</td>\n",
       "      <td>-33.65</td>\n",
       "      <td>115.33</td>\n",
       "      <td>63.00</td>\n",
       "      <td>61</td>\n",
       "      <td>98</td>\n",
       "      <td>5.01</td>\n",
       "      <td>AU</td>\n",
       "      <td>1595646958</td>\n",
       "    </tr>\n",
       "    <tr>\n",
       "      <th>7</th>\n",
       "      <td>East London</td>\n",
       "      <td>-33.02</td>\n",
       "      <td>27.91</td>\n",
       "      <td>65.03</td>\n",
       "      <td>26</td>\n",
       "      <td>0</td>\n",
       "      <td>5.50</td>\n",
       "      <td>ZA</td>\n",
       "      <td>1595646961</td>\n",
       "    </tr>\n",
       "    <tr>\n",
       "      <th>9</th>\n",
       "      <td>San Miguel de Tucumán</td>\n",
       "      <td>-26.82</td>\n",
       "      <td>-65.22</td>\n",
       "      <td>44.60</td>\n",
       "      <td>53</td>\n",
       "      <td>0</td>\n",
       "      <td>19.46</td>\n",
       "      <td>AR</td>\n",
       "      <td>1595647393</td>\n",
       "    </tr>\n",
       "  </tbody>\n",
       "</table>\n",
       "</div>"
      ],
      "text/plain": [
       "                    City    Lat     Lng  Max_Temp  Humidity  Cloudiness  \\\n",
       "0                 Atuona  -9.80 -139.03     79.39        78          25   \n",
       "2                Ushuaia -54.80  -68.30     30.20        86          90   \n",
       "6              Busselton -33.65  115.33     63.00        61          98   \n",
       "7            East London -33.02   27.91     65.03        26           0   \n",
       "9  San Miguel de Tucumán -26.82  -65.22     44.60        53           0   \n",
       "\n",
       "   Wind_Speed Country        Date  \n",
       "0       17.60      PF  1595647233  \n",
       "2       13.87      AR  1595647046  \n",
       "6        5.01      AU  1595646958  \n",
       "7        5.50      ZA  1595646961  \n",
       "9       19.46      AR  1595647393  "
      ]
     },
     "execution_count": 28,
     "metadata": {},
     "output_type": "execute_result"
    }
   ],
   "source": [
    "south_data = clean_city_data[clean_city_data['Lat']<0]\n",
    "south_data.head()"
   ]
  },
  {
   "cell_type": "markdown",
   "metadata": {},
   "source": [
    "####  Northern Hemisphere - Max Temp vs. Latitude Linear Regression"
   ]
  },
  {
   "cell_type": "code",
   "execution_count": 29,
   "metadata": {},
   "outputs": [
    {
     "name": "stdout",
     "output_type": "stream",
     "text": [
      "The correlation between both factors is -0.7926\n"
     ]
    },
    {
     "data": {
      "image/png": "[encoded data removed]",
      "text/plain": [
       "<Figure size 432x288 with 1 Axes>"
      ]
     },
     "metadata": {
      "needs_background": "light"
     },
     "output_type": "display_data"
    }
   ],
   "source": [
    "# calculate correlation \n",
    "x_values = north_data['Lat']\n",
    "y_values = north_data['Max_Temp']\n",
    "\n",
    "correlation = stats.pearsonr(x_values,y_values)\n",
    "print(f\"The correlation between both factors is {round(correlation[0],4)}\")\n",
    "\n",
    "# create scatter plot with linear regression equation and line\n",
    "(slope, intercept, rvalue, pvalue, stderr) = linregress(x_values, y_values)\n",
    "regress_values = x_values * slope + intercept\n",
    "line_eq = \"y = \" + str(round(slope,2)) + \"x + \" + str(round(intercept,2))\n",
    "plt.scatter(x_values,y_values)\n",
    "plt.plot(x_values,regress_values,\"r-\")\n",
    "plt.annotate(line_eq,(6,10),fontsize=15,color=\"red\")\n",
    "plt.xlabel('Latitude')\n",
    "plt.ylabel('Max Temp')\n",
    "plt.grid()\n",
    "plt.savefig(\"output_data/Northern Max Temp vs. Latitude Linear Regression.png\")\n",
    "plt.show()"
   ]
  },
  {
   "cell_type": "markdown",
   "metadata": {},
   "source": [
    "####  Southern Hemisphere - Max Temp vs. Latitude Linear Regression"
   ]
  },
  {
   "cell_type": "code",
   "execution_count": 30,
   "metadata": {},
   "outputs": [
    {
     "name": "stdout",
     "output_type": "stream",
     "text": [
      "The correlation between both factors is 0.6872\n"
     ]
    },
    {
     "data": {
      "image/png": "[encoded data removed]",
      "text/plain": [
       "<Figure size 432x288 with 1 Axes>"
      ]
     },
     "metadata": {
      "needs_background": "light"
     },
     "output_type": "display_data"
    }
   ],
   "source": [
    "# calculate correlation \n",
    "x_values = south_data['Lat']\n",
    "y_values = south_data['Max_Temp']\n",
    "\n",
    "correlation = stats.pearsonr(x_values,y_values)\n",
    "print(f\"The correlation between both factors is {round(correlation[0],4)}\")\n",
    "\n",
    "# create scatter plot with linear regression equation and line\n",
    "(slope, intercept, rvalue, pvalue, stderr) = linregress(x_values, y_values)\n",
    "regress_values = x_values * slope + intercept\n",
    "line_eq = \"y = \" + str(round(slope,2)) + \"x + \" + str(round(intercept,2))\n",
    "plt.scatter(x_values,y_values)\n",
    "plt.plot(x_values,regress_values,\"r-\")\n",
    "plt.annotate(line_eq,(6,10),fontsize=15,color=\"red\")\n",
    "plt.xlabel('Latitude')\n",
    "plt.ylabel('Max Temp')\n",
    "plt.grid()\n",
    "plt.savefig(\"output_data/Southern Max Temp vs. Latitude Linear Regression.png\")\n",
    "plt.show()"
   ]
  },
  {
   "cell_type": "markdown",
   "metadata": {},
   "source": [
    "####  Northern Hemisphere - Humidity (%) vs. Latitude Linear Regression"
   ]
  },
  {
   "cell_type": "code",
   "execution_count": 31,
   "metadata": {},
   "outputs": [
    {
     "name": "stdout",
     "output_type": "stream",
     "text": [
      "The correlation between both factors is 0.0387\n"
     ]
    },
    {
     "data": {
      "image/png": "[encoded data removed]",
      "text/plain": [
       "<Figure size 432x288 with 1 Axes>"
      ]
     },
     "metadata": {
      "needs_background": "light"
     },
     "output_type": "display_data"
    }
   ],
   "source": [
    "# calculate correlation \n",
    "x_values = north_data['Lat']\n",
    "y_values = north_data['Humidity']\n",
    "\n",
    "correlation = stats.pearsonr(x_values,y_values)\n",
    "print(f\"The correlation between both factors is {round(correlation[0],4)}\")\n",
    "\n",
    "# create scatter plot with linear regression equation and line\n",
    "(slope, intercept, rvalue, pvalue, stderr) = linregress(x_values, y_values)\n",
    "regress_values = x_values * slope + intercept\n",
    "line_eq = \"y = \" + str(round(slope,2)) + \"x + \" + str(round(intercept,2))\n",
    "plt.scatter(x_values,y_values)\n",
    "plt.plot(x_values,regress_values,\"r-\")\n",
    "plt.annotate(line_eq,(6,10),fontsize=15,color=\"red\")\n",
    "plt.xlabel('Latitude')\n",
    "plt.ylabel('Humidity %')\n",
    "plt.grid()\n",
    "plt.savefig(\"output_data/Northern Humidity vs. Latitude Linear Regression.png\")\n",
    "plt.show()"
   ]
  },
  {
   "cell_type": "markdown",
   "metadata": {},
   "source": [
    "####  Southern Hemisphere - Humidity (%) vs. Latitude Linear Regression"
   ]
  },
  {
   "cell_type": "code",
   "execution_count": 32,
   "metadata": {},
   "outputs": [
    {
     "name": "stdout",
     "output_type": "stream",
     "text": [
      "The correlation between both factors is 0.1422\n"
     ]
    },
    {
     "data": {
      "image/png": "[encoded data removed]",
      "text/plain": [
       "<Figure size 432x288 with 1 Axes>"
      ]
     },
     "metadata": {
      "needs_background": "light"
     },
     "output_type": "display_data"
    }
   ],
   "source": [
    "# calculate correlation \n",
    "x_values = south_data['Lat']\n",
    "y_values = south_data['Humidity']\n",
    "\n",
    "correlation = stats.pearsonr(x_values,y_values)\n",
    "print(f\"The correlation between both factors is {round(correlation[0],4)}\")\n",
    "\n",
    "# create scatter plot with linear regression equation and line\n",
    "(slope, intercept, rvalue, pvalue, stderr) = linregress(x_values, y_values)\n",
    "regress_values = x_values * slope + intercept\n",
    "line_eq = \"y = \" + str(round(slope,2)) + \"x + \" + str(round(intercept,2))\n",
    "plt.scatter(x_values,y_values)\n",
    "plt.plot(x_values,regress_values,\"r-\")\n",
    "plt.annotate(line_eq,(6,10),fontsize=15,color=\"red\")\n",
    "plt.xlabel('Latitude')\n",
    "plt.ylabel('Humidity %')\n",
    "plt.grid()\n",
    "plt.savefig(\"output_data/Southern Humidity vs. Latitude Linear Regression.png\")\n",
    "plt.show()"
   ]
  },
  {
   "cell_type": "markdown",
   "metadata": {},
   "source": [
    "####  Northern Hemisphere - Cloudiness (%) vs. Latitude Linear Regression"
   ]
  },
  {
   "cell_type": "code",
   "execution_count": 33,
   "metadata": {},
   "outputs": [
    {
     "name": "stdout",
     "output_type": "stream",
     "text": [
      "The correlation between both factors is 0.0084\n"
     ]
    },
    {
     "data": {
      "image/png": "[encoded data removed]",
      "text/plain": [
       "<Figure size 432x288 with 1 Axes>"
      ]
     },
     "metadata": {
      "needs_background": "light"
     },
     "output_type": "display_data"
    }
   ],
   "source": [
    "# calculate correlation \n",
    "x_values = north_data['Lat']\n",
    "y_values = north_data['Cloudiness']\n",
    "\n",
    "correlation = stats.pearsonr(x_values,y_values)\n",
    "print(f\"The correlation between both factors is {round(correlation[0],4)}\")\n",
    "\n",
    "# create scatter plot with linear regression equation and line\n",
    "(slope, intercept, rvalue, pvalue, stderr) = linregress(x_values, y_values)\n",
    "regress_values = x_values * slope + intercept\n",
    "line_eq = \"y = \" + str(round(slope,2)) + \"x + \" + str(round(intercept,2))\n",
    "plt.scatter(x_values,y_values)\n",
    "plt.plot(x_values,regress_values,\"r-\")\n",
    "plt.annotate(line_eq,(6,10),fontsize=15,color=\"red\")\n",
    "plt.xlabel('Latitude')\n",
    "plt.ylabel('Cloudiness %')\n",
    "plt.grid()\n",
    "plt.savefig(\"output_data/Northern Cloudiness vs. Latitude Linear Regression.png\")\n",
    "plt.show()"
   ]
  },
  {
   "cell_type": "markdown",
   "metadata": {},
   "source": [
    "####  Southern Hemisphere - Cloudiness (%) vs. Latitude Linear Regression"
   ]
  },
  {
   "cell_type": "code",
   "execution_count": 34,
   "metadata": {},
   "outputs": [
    {
     "name": "stdout",
     "output_type": "stream",
     "text": [
      "The correlation between both factors is -0.2611\n"
     ]
    },
    {
     "data": {
      "image/png": "[encoded data removed]",
      "text/plain": [
       "<Figure size 432x288 with 1 Axes>"
      ]
     },
     "metadata": {
      "needs_background": "light"
     },
     "output_type": "display_data"
    }
   ],
   "source": [
    "# calculate correlation \n",
    "x_values = south_data['Lat']\n",
    "y_values = south_data['Cloudiness']\n",
    "\n",
    "correlation = stats.pearsonr(x_values,y_values)\n",
    "print(f\"The correlation between both factors is {round(correlation[0],4)}\")\n",
    "\n",
    "# create scatter plot with linear regression equation and line\n",
    "(slope, intercept, rvalue, pvalue, stderr) = linregress(x_values, y_values)\n",
    "regress_values = x_values * slope + intercept\n",
    "line_eq = \"y = \" + str(round(slope,2)) + \"x + \" + str(round(intercept,2))\n",
    "plt.scatter(x_values,y_values)\n",
    "plt.plot(x_values,regress_values,\"r-\")\n",
    "plt.annotate(line_eq,(6,10),fontsize=15,color=\"red\")\n",
    "plt.xlabel('Latitude')\n",
    "plt.ylabel('Cloudiness %')\n",
    "plt.grid()\n",
    "plt.savefig(\"output_data/Southern Cloudiness vs. Latitude Linear Regression.png\")\n",
    "plt.show()"
   ]
  },
  {
   "cell_type": "markdown",
   "metadata": {},
   "source": [
    "####  Northern Hemisphere - Wind Speed (mph) vs. Latitude Linear Regression"
   ]
  },
  {
   "cell_type": "code",
   "execution_count": 35,
   "metadata": {},
   "outputs": [
    {
     "name": "stdout",
     "output_type": "stream",
     "text": [
      "The correlation between both factors is -0.1314\n"
     ]
    },
    {
     "data": {
      "image/png": "[encoded data removed]",
      "text/plain": [
       "<Figure size 432x288 with 1 Axes>"
      ]
     },
     "metadata": {
      "needs_background": "light"
     },
     "output_type": "display_data"
    }
   ],
   "source": [
    "# calculate correlation \n",
    "x_values = north_data['Lat']\n",
    "y_values = north_data['Wind_Speed']\n",
    "\n",
    "correlation = stats.pearsonr(x_values,y_values)\n",
    "print(f\"The correlation between both factors is {round(correlation[0],4)}\")\n",
    "\n",
    "# create scatter plot with linear regression equation and line\n",
    "(slope, intercept, rvalue, pvalue, stderr) = linregress(x_values, y_values)\n",
    "regress_values = x_values * slope + intercept\n",
    "line_eq = \"y = \" + str(round(slope,2)) + \"x + \" + str(round(intercept,2))\n",
    "plt.scatter(x_values,y_values)\n",
    "plt.plot(x_values,regress_values,\"r-\")\n",
    "plt.annotate(line_eq,(6,10),fontsize=15,color=\"red\")\n",
    "plt.xlabel('Latitude')\n",
    "plt.ylabel('Wind Speed')\n",
    "plt.grid()\n",
    "plt.savefig(\"output_data/Northern wind Speed vs. Latitude Linear Regression.png\")\n",
    "plt.show()"
   ]
  },
  {
   "cell_type": "markdown",
   "metadata": {},
   "source": [
    "####  Southern Hemisphere - Wind Speed (mph) vs. Latitude Linear Regression"
   ]
  },
  {
   "cell_type": "code",
   "execution_count": 36,
   "metadata": {},
   "outputs": [
    {
     "name": "stdout",
     "output_type": "stream",
     "text": [
      "The correlation between both factors is 0.1422\n"
     ]
    },
    {
     "data": {
      "image/png": "[encoded data removed]",
      "text/plain": [
       "<Figure size 432x288 with 1 Axes>"
      ]
     },
     "metadata": {
      "needs_background": "light"
     },
     "output_type": "display_data"
    }
   ],
   "source": [
    "# calculate correlation \n",
    "x_values = south_data['Lat']\n",
    "y_values = south_data['Humidity']\n",
    "\n",
    "correlation = stats.pearsonr(x_values,y_values)\n",
    "print(f\"The correlation between both factors is {round(correlation[0],4)}\")\n",
    "\n",
    "# create scatter plot with linear regression equation and line\n",
    "(slope, intercept, rvalue, pvalue, stderr) = linregress(x_values, y_values)\n",
    "regress_values = x_values * slope + intercept\n",
    "line_eq = \"y = \" + str(round(slope,2)) + \"x + \" + str(round(intercept,2))\n",
    "plt.scatter(x_values,y_values)\n",
    "plt.plot(x_values,regress_values,\"r-\")\n",
    "plt.annotate(line_eq,(6,10),fontsize=15,color=\"red\")\n",
    "plt.xlabel('Latitude')\n",
    "plt.ylabel('Wind Speed')\n",
    "plt.grid()\n",
    "plt.savefig(\"output_data/Southern wind Speed vs. Latitude Linear Regression.png\")\n",
    "plt.show()"
   ]
  },
  {
   "cell_type": "code",
   "execution_count": null,
   "metadata": {},
   "outputs": [],
   "source": [
    "# The End"
   ]
  }
 ],
 "metadata": {
  "anaconda-cloud": {},
  "kernel_info": {
   "name": "python3"
  },
  "kernelspec": {
   "display_name": "Python [conda env:PythonData] *",
   "language": "python",
   "name": "conda-env-PythonData-py"
  },
  "language_info": {
   "codemirror_mode": {
    "name": "ipython",
    "version": 3
   },
   "file_extension": ".py",
   "mimetype": "text/x-python",
   "name": "python",
   "nbconvert_exporter": "python",
   "pygments_lexer": "ipython3",
   "version": "3.6.10"
  },
  "latex_envs": {
   "LaTeX_envs_menu_present": true,
   "autoclose": false,
   "autocomplete": true,
   "bibliofile": "biblio.bib",
   "cite_by": "apalike",
   "current_citInitial": 1,
   "eqLabelWithNumbers": true,
   "eqNumInitial": 1,
   "hotkeys": {
    "equation": "Ctrl-E",
    "itemize": "Ctrl-I"
   },
   "labels_anchors": false,
   "latex_user_defs": false,
   "report_style_numbering": false,
   "user_envs_cfg": false
  },
  "nteract": {
   "version": "0.12.3"
  }
 },
 "nbformat": 4,
 "nbformat_minor": 2
}
